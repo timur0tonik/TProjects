{
 "cells": [
  {
   "cell_type": "markdown",
   "metadata": {},
   "source": [
    "![](https://www.pata.org/wp-content/uploads/2014/09/TripAdvisor_Logo-300x119.png)\n",
    "# Predict TripAdvisor Rating\n",
    "## В этом соревновании нам предстоит предсказать рейтинг ресторана в TripAdvisor\n",
    "**По ходу задачи:**\n",
    "* Прокачаем работу с pandas\n",
    "* Научимся работать с Kaggle Notebooks\n",
    "* Поймем как делать предобработку различных данных\n",
    "* Научимся работать с пропущенными данными (Nan)\n",
    "* Познакомимся с различными видами кодирования признаков\n",
    "* Немного попробуем [Feature Engineering](https://ru.wikipedia.org/wiki/Конструирование_признаков) (генерировать новые признаки)\n",
    "* И совсем немного затронем ML\n",
    "* И многое другое...   \n",
    "\n",
    "\n",
    "\n",
    "### И самое важное, все это вы сможете сделать самостоятельно!\n",
    "\n",
    "*Этот Ноутбук являетсся Примером/Шаблоном к этому соревнованию (Baseline) и не служит готовым решением!*   \n",
    "Вы можете использовать его как основу для построения своего решения.\n",
    "\n",
    "> что такое baseline решение, зачем оно нужно и почему предоставлять baseline к соревнованию стало важным стандартом на kaggle и других площадках.   \n",
    "**baseline** создается больше как шаблон, где можно посмотреть как происходит обращение с входящими данными и что нужно получить на выходе. При этом МЛ начинка может быть достаточно простой, просто для примера. Это помогает быстрее приступить к самому МЛ, а не тратить ценное время на чисто инженерные задачи. \n",
    "Также baseline являеться хорошей опорной точкой по метрике. Если твое решение хуже baseline - ты явно делаешь что-то не то и стоит попробовать другой путь) \n",
    "\n",
    "В контексте нашего соревнования baseline идет с небольшими примерами того, что можно делать с данными, и с инструкцией, что делать дальше, чтобы улучшить результат.  Вообще готовым решением это сложно назвать, так как используются всего 2 самых простых признака (а остальные исключаются)."
   ]
  },
  {
   "cell_type": "markdown",
   "metadata": {},
   "source": [
    "# import"
   ]
  },
  {
   "cell_type": "code",
   "execution_count": 1,
   "metadata": {
    "_cell_guid": "b1076dfc-b9ad-4769-8c92-a6c4dae69d19",
    "_uuid": "8f2839f25d086af736a60e9eeb907d3b93b6e0e5",
    "execution": {
     "iopub.execute_input": "2021-05-25T21:01:03.761229Z",
     "iopub.status.busy": "2021-05-25T21:01:03.760874Z",
     "iopub.status.idle": "2021-05-25T21:01:07.138595Z",
     "shell.execute_reply": "2021-05-25T21:01:07.137687Z",
     "shell.execute_reply.started": "2021-05-25T21:01:03.761148Z"
    }
   },
   "outputs": [
    {
     "name": "stdout",
     "output_type": "stream",
     "text": [
      "/kaggle/input/sf-dst-restaurant-rating/sample_submission.csv\n",
      "/kaggle/input/sf-dst-restaurant-rating/main_task.csv\n",
      "/kaggle/input/sf-dst-restaurant-rating/kaggle_task.csv\n"
     ]
    }
   ],
   "source": [
    "# This Python 3 environment comes with many helpful analytics libraries installed\n",
    "# It is defined by the kaggle/python docker image: https://github.com/kaggle/docker-python\n",
    "# For example, here's several helpful packages to load in \n",
    "\n",
    "import numpy as np # linear algebra\n",
    "import pandas as pd # data processing, CSV file I/O (e.g. pd.read_csv)\n",
    "import collections\n",
    "from datetime import datetime\n",
    "\n",
    "import matplotlib.pyplot as plt\n",
    "import seaborn as sns \n",
    "%matplotlib inline\n",
    "\n",
    "import warnings; warnings.simplefilter('ignore')\n",
    "\n",
    "# Загружаем специальный удобный инструмент для разделения датасета:\n",
    "from sklearn.model_selection import train_test_split\n",
    "\n",
    "# Input data files are available in the \"../input/\" directory.\n",
    "# For example, running this (by clicking run or pressing Shift+Enter) will list all files under the input directory\n",
    "\n",
    "import os\n",
    "for dirname, _, filenames in os.walk('/kaggle/input'):\n",
    "    for filename in filenames:\n",
    "        print(os.path.join(dirname, filename))\n",
    "\n",
    "# Any results you write to the current directory are saved as output."
   ]
  },
  {
   "cell_type": "code",
   "execution_count": 2,
   "metadata": {
    "execution": {
     "iopub.execute_input": "2021-05-25T21:01:07.140534Z",
     "iopub.status.busy": "2021-05-25T21:01:07.140168Z",
     "iopub.status.idle": "2021-05-25T21:01:07.144035Z",
     "shell.execute_reply": "2021-05-25T21:01:07.143109Z",
     "shell.execute_reply.started": "2021-05-25T21:01:07.140361Z"
    }
   },
   "outputs": [],
   "source": [
    "# всегда фиксируйте RANDOM_SEED, чтобы ваши эксперименты были воспроизводимы!\n",
    "RANDOM_SEED = 42"
   ]
  },
  {
   "cell_type": "code",
   "execution_count": 3,
   "metadata": {
    "execution": {
     "iopub.execute_input": "2021-05-25T21:01:07.145340Z",
     "iopub.status.busy": "2021-05-25T21:01:07.145121Z",
     "iopub.status.idle": "2021-05-25T21:01:10.486030Z",
     "shell.execute_reply": "2021-05-25T21:01:10.485195Z",
     "shell.execute_reply.started": "2021-05-25T21:01:07.145303Z"
    }
   },
   "outputs": [],
   "source": [
    "# зафиксируем версию пакетов, чтобы эксперименты были воспроизводимы:\n",
    "!pip freeze > requirements.txt"
   ]
  },
  {
   "cell_type": "code",
   "execution_count": 4,
   "metadata": {
    "execution": {
     "iopub.execute_input": "2021-05-25T21:01:10.487391Z",
     "iopub.status.busy": "2021-05-25T21:01:10.487170Z",
     "iopub.status.idle": "2021-05-25T21:01:10.610960Z",
     "shell.execute_reply": "2021-05-25T21:01:10.609857Z",
     "shell.execute_reply.started": "2021-05-25T21:01:10.487359Z"
    }
   },
   "outputs": [
    {
     "data": {
      "image/png": "[encoded data removed]",
      "text/plain": [
       "<Figure size 720x72 with 1 Axes>"
      ]
     },
     "metadata": {
      "needs_background": "light"
     },
     "output_type": "display_data"
    }
   ],
   "source": [
    "# цветовая палитра для диаграмм seaborn\n",
    "sns.palplot(sns.color_palette('colorblind'))"
   ]
  },
  {
   "cell_type": "code",
   "execution_count": 5,
   "metadata": {
    "execution": {
     "iopub.execute_input": "2021-05-25T21:01:10.622891Z",
     "iopub.status.busy": "2021-05-25T21:01:10.619439Z",
     "iopub.status.idle": "2021-05-25T21:01:10.639654Z",
     "shell.execute_reply": "2021-05-25T21:01:10.638026Z",
     "shell.execute_reply.started": "2021-05-25T21:01:10.622788Z"
    }
   },
   "outputs": [],
   "source": [
    "# Функция для расчета и визуализации границ выбросов.\n",
    "\n",
    "def show_IQR(pd_dataset, column_name, bins_n=10):\n",
    "\n",
    "#        Вспомогательная функция для расчета и визуализации границ выбросов.\n",
    "#        на входе датасет, наименование столбца (признака) и количество столбиков гистограмы\n",
    "       \n",
    "#        Выводит расчитанные параметры квантилей и гистограммы распределения и boxplot\n",
    "\n",
    "    data_column = pd_dataset[column_name]\n",
    "    perc_25 = data_column.quantile(0.25, interpolation=\"midpoint\")\n",
    "    perc_75 = data_column.quantile(0.75, interpolation=\"midpoint\")\n",
    "    IQR = perc_75 - perc_25\n",
    "    print(f'Q1: {perc_25}\\nQ3: {perc_75}\\nIQR: {IQR}',\n",
    "          f'\\nГраница выбросов: [{perc_25 - 1.5*IQR}, {perc_75 + 1.5*IQR}]')\n",
    "    \n",
    "    # гистограмма распределения: \n",
    "    plt.figure(figsize=(15, 5))\n",
    "    plt.subplot(121)\n",
    "    sns.distplot(data_column.values, bins=bins_n)\n",
    "    plt.title(column_name + ' Distribution\\n', fontsize=15)\n",
    "    plt.xlabel(column_name)\n",
    "    plt.ylabel('Quantity (frequency)')\n",
    "\n",
    "    # boxplot: \n",
    "    plt.subplot(122)\n",
    "    sns.boxplot(data_column.values)\n",
    "    plt.title(column_name + ' Distribution\\n', fontsize=15)\n",
    "    plt.xlabel(column_name)\n",
    "    return 0"
   ]
  },
  {
   "cell_type": "markdown",
   "metadata": {},
   "source": [
    "# DATA"
   ]
  },
  {
   "cell_type": "code",
   "execution_count": 6,
   "metadata": {
    "_cell_guid": "79c7e3d0-c299-4dcb-8224-4455121ee9b0",
    "_uuid": "d629ff2d2480ee46fbb7e2d37f6b5fab8052498a",
    "execution": {
     "iopub.execute_input": "2021-05-25T21:01:10.655654Z",
     "iopub.status.busy": "2021-05-25T21:01:10.650834Z",
     "iopub.status.idle": "2021-05-25T21:01:11.062839Z",
     "shell.execute_reply": "2021-05-25T21:01:11.061847Z",
     "shell.execute_reply.started": "2021-05-25T21:01:10.655544Z"
    }
   },
   "outputs": [],
   "source": [
    "DATA_DIR = '/kaggle/input/sf-dst-restaurant-rating/'\n",
    "df_train = pd.read_csv(DATA_DIR+'/main_task.csv')\n",
    "df_test = pd.read_csv(DATA_DIR+'kaggle_task.csv')\n",
    "sample_submission = pd.read_csv(DATA_DIR+'/sample_submission.csv')"
   ]
  },
  {
   "cell_type": "code",
   "execution_count": 7,
   "metadata": {
    "execution": {
     "iopub.execute_input": "2021-05-25T21:01:11.065744Z",
     "iopub.status.busy": "2021-05-25T21:01:11.065441Z",
     "iopub.status.idle": "2021-05-25T21:01:11.094364Z",
     "shell.execute_reply": "2021-05-25T21:01:11.093634Z",
     "shell.execute_reply.started": "2021-05-25T21:01:11.065693Z"
    }
   },
   "outputs": [
    {
     "name": "stdout",
     "output_type": "stream",
     "text": [
      "<class 'pandas.core.frame.DataFrame'>\n",
      "RangeIndex: 40000 entries, 0 to 39999\n",
      "Data columns (total 10 columns):\n",
      "Restaurant_id        40000 non-null object\n",
      "City                 40000 non-null object\n",
      "Cuisine Style        30717 non-null object\n",
      "Ranking              40000 non-null float64\n",
      "Rating               40000 non-null float64\n",
      "Price Range          26114 non-null object\n",
      "Number of Reviews    37457 non-null float64\n",
      "Reviews              40000 non-null object\n",
      "URL_TA               40000 non-null object\n",
      "ID_TA                40000 non-null object\n",
      "dtypes: float64(3), object(7)\n",
      "memory usage: 3.1+ MB\n"
     ]
    }
   ],
   "source": [
    "df_train.info()"
   ]
  },
  {
   "cell_type": "code",
   "execution_count": 8,
   "metadata": {
    "execution": {
     "iopub.execute_input": "2021-05-25T21:01:11.095730Z",
     "iopub.status.busy": "2021-05-25T21:01:11.095341Z",
     "iopub.status.idle": "2021-05-25T21:01:11.121048Z",
     "shell.execute_reply": "2021-05-25T21:01:11.120414Z",
     "shell.execute_reply.started": "2021-05-25T21:01:11.095692Z"
    }
   },
   "outputs": [
    {
     "data": {
      "text/html": [
       "<div>\n",
       "<style scoped>\n",
       "    .dataframe tbody tr th:only-of-type {\n",
       "        vertical-align: middle;\n",
       "    }\n",
       "\n",
       "    .dataframe tbody tr th {\n",
       "        vertical-align: top;\n",
       "    }\n",
       "\n",
       "    .dataframe thead th {\n",
       "        text-align: right;\n",
       "    }\n",
       "</style>\n",
       "<table border=\"1\" class=\"dataframe\">\n",
       "  <thead>\n",
       "    <tr style=\"text-align: right;\">\n",
       "      <th></th>\n",
       "      <th>Restaurant_id</th>\n",
       "      <th>City</th>\n",
       "      <th>Cuisine Style</th>\n",
       "      <th>Ranking</th>\n",
       "      <th>Rating</th>\n",
       "      <th>Price Range</th>\n",
       "      <th>Number of Reviews</th>\n",
       "      <th>Reviews</th>\n",
       "      <th>URL_TA</th>\n",
       "      <th>ID_TA</th>\n",
       "    </tr>\n",
       "  </thead>\n",
       "  <tbody>\n",
       "    <tr>\n",
       "      <th>37226</th>\n",
       "      <td>id_3494</td>\n",
       "      <td>Rome</td>\n",
       "      <td>['Italian', 'Mediterranean']</td>\n",
       "      <td>3495.0</td>\n",
       "      <td>4.0</td>\n",
       "      <td>$$ - $$$</td>\n",
       "      <td>117.0</td>\n",
       "      <td>[['Good but not great', 'authentic, fresh food...</td>\n",
       "      <td>/Restaurant_Review-g187791-d1012596-Reviews-Al...</td>\n",
       "      <td>d1012596</td>\n",
       "    </tr>\n",
       "    <tr>\n",
       "      <th>35940</th>\n",
       "      <td>id_1951</td>\n",
       "      <td>Lisbon</td>\n",
       "      <td>['International', 'Mediterranean', 'European',...</td>\n",
       "      <td>1954.0</td>\n",
       "      <td>4.0</td>\n",
       "      <td>$$ - $$$</td>\n",
       "      <td>29.0</td>\n",
       "      <td>[['Great City Hotel', 'Amazing breakfast'], ['...</td>\n",
       "      <td>/Restaurant_Review-g189158-d8853092-Reviews-Do...</td>\n",
       "      <td>d8853092</td>\n",
       "    </tr>\n",
       "    <tr>\n",
       "      <th>1658</th>\n",
       "      <td>id_1393</td>\n",
       "      <td>Lisbon</td>\n",
       "      <td>NaN</td>\n",
       "      <td>1394.0</td>\n",
       "      <td>4.5</td>\n",
       "      <td>NaN</td>\n",
       "      <td>7.0</td>\n",
       "      <td>[['My favorite spot in Lisbon', 'Excellent cho...</td>\n",
       "      <td>/Restaurant_Review-g189158-d13126863-Reviews-A...</td>\n",
       "      <td>d13126863</td>\n",
       "    </tr>\n",
       "    <tr>\n",
       "      <th>2117</th>\n",
       "      <td>id_206</td>\n",
       "      <td>Lyon</td>\n",
       "      <td>['French', 'European']</td>\n",
       "      <td>207.0</td>\n",
       "      <td>4.5</td>\n",
       "      <td>$$ - $$$</td>\n",
       "      <td>204.0</td>\n",
       "      <td>[['Very nice dinner with friendly service', 'E...</td>\n",
       "      <td>/Restaurant_Review-g187265-d2251696-Reviews-La...</td>\n",
       "      <td>d2251696</td>\n",
       "    </tr>\n",
       "    <tr>\n",
       "      <th>9935</th>\n",
       "      <td>id_3482</td>\n",
       "      <td>Paris</td>\n",
       "      <td>['Polish', 'European', 'Eastern European', 'Ce...</td>\n",
       "      <td>3483.0</td>\n",
       "      <td>4.5</td>\n",
       "      <td>$$ - $$$</td>\n",
       "      <td>66.0</td>\n",
       "      <td>[['Very traditional, solid Polish food', 'Char...</td>\n",
       "      <td>/Restaurant_Review-g187147-d815214-Reviews-Maz...</td>\n",
       "      <td>d815214</td>\n",
       "    </tr>\n",
       "  </tbody>\n",
       "</table>\n",
       "</div>"
      ],
      "text/plain": [
       "      Restaurant_id    City  \\\n",
       "37226       id_3494    Rome   \n",
       "35940       id_1951  Lisbon   \n",
       "1658        id_1393  Lisbon   \n",
       "2117         id_206    Lyon   \n",
       "9935        id_3482   Paris   \n",
       "\n",
       "                                           Cuisine Style  Ranking  Rating  \\\n",
       "37226                       ['Italian', 'Mediterranean']   3495.0     4.0   \n",
       "35940  ['International', 'Mediterranean', 'European',...   1954.0     4.0   \n",
       "1658                                                 NaN   1394.0     4.5   \n",
       "2117                              ['French', 'European']    207.0     4.5   \n",
       "9935   ['Polish', 'European', 'Eastern European', 'Ce...   3483.0     4.5   \n",
       "\n",
       "      Price Range  Number of Reviews  \\\n",
       "37226    $$ - $$$              117.0   \n",
       "35940    $$ - $$$               29.0   \n",
       "1658          NaN                7.0   \n",
       "2117     $$ - $$$              204.0   \n",
       "9935     $$ - $$$               66.0   \n",
       "\n",
       "                                                 Reviews  \\\n",
       "37226  [['Good but not great', 'authentic, fresh food...   \n",
       "35940  [['Great City Hotel', 'Amazing breakfast'], ['...   \n",
       "1658   [['My favorite spot in Lisbon', 'Excellent cho...   \n",
       "2117   [['Very nice dinner with friendly service', 'E...   \n",
       "9935   [['Very traditional, solid Polish food', 'Char...   \n",
       "\n",
       "                                                  URL_TA      ID_TA  \n",
       "37226  /Restaurant_Review-g187791-d1012596-Reviews-Al...   d1012596  \n",
       "35940  /Restaurant_Review-g189158-d8853092-Reviews-Do...   d8853092  \n",
       "1658   /Restaurant_Review-g189158-d13126863-Reviews-A...  d13126863  \n",
       "2117   /Restaurant_Review-g187265-d2251696-Reviews-La...   d2251696  \n",
       "9935   /Restaurant_Review-g187147-d815214-Reviews-Maz...    d815214  "
      ]
     },
     "execution_count": 8,
     "metadata": {},
     "output_type": "execute_result"
    }
   ],
   "source": [
    "df_train.sample(5)"
   ]
  },
  {
   "cell_type": "code",
   "execution_count": 9,
   "metadata": {
    "execution": {
     "iopub.execute_input": "2021-05-25T21:01:11.122352Z",
     "iopub.status.busy": "2021-05-25T21:01:11.122019Z",
     "iopub.status.idle": "2021-05-25T21:01:11.135102Z",
     "shell.execute_reply": "2021-05-25T21:01:11.133662Z",
     "shell.execute_reply.started": "2021-05-25T21:01:11.122316Z"
    }
   },
   "outputs": [
    {
     "name": "stdout",
     "output_type": "stream",
     "text": [
      "<class 'pandas.core.frame.DataFrame'>\n",
      "RangeIndex: 10000 entries, 0 to 9999\n",
      "Data columns (total 9 columns):\n",
      "Restaurant_id        10000 non-null object\n",
      "City                 10000 non-null object\n",
      "Cuisine Style        7693 non-null object\n",
      "Ranking              10000 non-null float64\n",
      "Price Range          6525 non-null object\n",
      "Number of Reviews    9343 non-null float64\n",
      "Reviews              9998 non-null object\n",
      "URL_TA               10000 non-null object\n",
      "ID_TA                10000 non-null object\n",
      "dtypes: float64(2), object(7)\n",
      "memory usage: 703.2+ KB\n"
     ]
    }
   ],
   "source": [
    "df_test.info()"
   ]
  },
  {
   "cell_type": "code",
   "execution_count": 10,
   "metadata": {
    "execution": {
     "iopub.execute_input": "2021-05-25T21:01:11.137188Z",
     "iopub.status.busy": "2021-05-25T21:01:11.136620Z",
     "iopub.status.idle": "2021-05-25T21:01:11.154211Z",
     "shell.execute_reply": "2021-05-25T21:01:11.153379Z",
     "shell.execute_reply.started": "2021-05-25T21:01:11.136996Z"
    }
   },
   "outputs": [
    {
     "data": {
      "text/html": [
       "<div>\n",
       "<style scoped>\n",
       "    .dataframe tbody tr th:only-of-type {\n",
       "        vertical-align: middle;\n",
       "    }\n",
       "\n",
       "    .dataframe tbody tr th {\n",
       "        vertical-align: top;\n",
       "    }\n",
       "\n",
       "    .dataframe thead th {\n",
       "        text-align: right;\n",
       "    }\n",
       "</style>\n",
       "<table border=\"1\" class=\"dataframe\">\n",
       "  <thead>\n",
       "    <tr style=\"text-align: right;\">\n",
       "      <th></th>\n",
       "      <th>Restaurant_id</th>\n",
       "      <th>City</th>\n",
       "      <th>Cuisine Style</th>\n",
       "      <th>Ranking</th>\n",
       "      <th>Price Range</th>\n",
       "      <th>Number of Reviews</th>\n",
       "      <th>Reviews</th>\n",
       "      <th>URL_TA</th>\n",
       "      <th>ID_TA</th>\n",
       "    </tr>\n",
       "  </thead>\n",
       "  <tbody>\n",
       "    <tr>\n",
       "      <th>9923</th>\n",
       "      <td>id_9923</td>\n",
       "      <td>Milan</td>\n",
       "      <td>['Steakhouse', 'Italian', 'British', 'Pub']</td>\n",
       "      <td>1360.0</td>\n",
       "      <td>$$ - $$$</td>\n",
       "      <td>410.0</td>\n",
       "      <td>[['Good Beers, Good Food', 'If you are in the ...</td>\n",
       "      <td>/Restaurant_Review-g187849-d6950498-Reviews-Sl...</td>\n",
       "      <td>d6950498</td>\n",
       "    </tr>\n",
       "    <tr>\n",
       "      <th>3043</th>\n",
       "      <td>id_3043</td>\n",
       "      <td>Budapest</td>\n",
       "      <td>NaN</td>\n",
       "      <td>120.0</td>\n",
       "      <td>NaN</td>\n",
       "      <td>246.0</td>\n",
       "      <td>[['Gourmet Cocktail Bar..', 'We got drunk ther...</td>\n",
       "      <td>/Restaurant_Review-g274887-d1580627-Reviews-Bo...</td>\n",
       "      <td>d1580627</td>\n",
       "    </tr>\n",
       "    <tr>\n",
       "      <th>7124</th>\n",
       "      <td>id_7124</td>\n",
       "      <td>Berlin</td>\n",
       "      <td>['Mediterranean', 'European', 'Spanish', 'Vege...</td>\n",
       "      <td>903.0</td>\n",
       "      <td>$$ - $$$</td>\n",
       "      <td>79.0</td>\n",
       "      <td>[['Place to go Basque in Berlin', 'Basques tap...</td>\n",
       "      <td>/Restaurant_Review-g187323-d4777064-Reviews-Tx...</td>\n",
       "      <td>d4777064</td>\n",
       "    </tr>\n",
       "    <tr>\n",
       "      <th>1667</th>\n",
       "      <td>id_1667</td>\n",
       "      <td>Budapest</td>\n",
       "      <td>['Fast Food']</td>\n",
       "      <td>1540.0</td>\n",
       "      <td>$</td>\n",
       "      <td>38.0</td>\n",
       "      <td>[['Neat Place', 'Quick and tasty snack'], ['10...</td>\n",
       "      <td>/Restaurant_Review-g274887-d7705058-Reviews-Ho...</td>\n",
       "      <td>d7705058</td>\n",
       "    </tr>\n",
       "    <tr>\n",
       "      <th>4253</th>\n",
       "      <td>id_4253</td>\n",
       "      <td>London</td>\n",
       "      <td>NaN</td>\n",
       "      <td>10862.0</td>\n",
       "      <td>NaN</td>\n",
       "      <td>5.0</td>\n",
       "      <td>[['Very lovely food', 'Why no cash?'], ['10/23...</td>\n",
       "      <td>/Restaurant_Review-g186338-d12621189-Reviews-G...</td>\n",
       "      <td>d12621189</td>\n",
       "    </tr>\n",
       "  </tbody>\n",
       "</table>\n",
       "</div>"
      ],
      "text/plain": [
       "     Restaurant_id      City  \\\n",
       "9923       id_9923     Milan   \n",
       "3043       id_3043  Budapest   \n",
       "7124       id_7124    Berlin   \n",
       "1667       id_1667  Budapest   \n",
       "4253       id_4253    London   \n",
       "\n",
       "                                          Cuisine Style  Ranking Price Range  \\\n",
       "9923        ['Steakhouse', 'Italian', 'British', 'Pub']   1360.0    $$ - $$$   \n",
       "3043                                                NaN    120.0         NaN   \n",
       "7124  ['Mediterranean', 'European', 'Spanish', 'Vege...    903.0    $$ - $$$   \n",
       "1667                                      ['Fast Food']   1540.0           $   \n",
       "4253                                                NaN  10862.0         NaN   \n",
       "\n",
       "      Number of Reviews                                            Reviews  \\\n",
       "9923              410.0  [['Good Beers, Good Food', 'If you are in the ...   \n",
       "3043              246.0  [['Gourmet Cocktail Bar..', 'We got drunk ther...   \n",
       "7124               79.0  [['Place to go Basque in Berlin', 'Basques tap...   \n",
       "1667               38.0  [['Neat Place', 'Quick and tasty snack'], ['10...   \n",
       "4253                5.0  [['Very lovely food', 'Why no cash?'], ['10/23...   \n",
       "\n",
       "                                                 URL_TA      ID_TA  \n",
       "9923  /Restaurant_Review-g187849-d6950498-Reviews-Sl...   d6950498  \n",
       "3043  /Restaurant_Review-g274887-d1580627-Reviews-Bo...   d1580627  \n",
       "7124  /Restaurant_Review-g187323-d4777064-Reviews-Tx...   d4777064  \n",
       "1667  /Restaurant_Review-g274887-d7705058-Reviews-Ho...   d7705058  \n",
       "4253  /Restaurant_Review-g186338-d12621189-Reviews-G...  d12621189  "
      ]
     },
     "execution_count": 10,
     "metadata": {},
     "output_type": "execute_result"
    }
   ],
   "source": [
    "df_test.sample(5)"
   ]
  },
  {
   "cell_type": "code",
   "execution_count": 11,
   "metadata": {
    "execution": {
     "iopub.execute_input": "2021-05-25T21:01:11.155861Z",
     "iopub.status.busy": "2021-05-25T21:01:11.155568Z",
     "iopub.status.idle": "2021-05-25T21:01:11.166610Z",
     "shell.execute_reply": "2021-05-25T21:01:11.165539Z",
     "shell.execute_reply.started": "2021-05-25T21:01:11.155810Z"
    }
   },
   "outputs": [
    {
     "data": {
      "text/html": [
       "<div>\n",
       "<style scoped>\n",
       "    .dataframe tbody tr th:only-of-type {\n",
       "        vertical-align: middle;\n",
       "    }\n",
       "\n",
       "    .dataframe tbody tr th {\n",
       "        vertical-align: top;\n",
       "    }\n",
       "\n",
       "    .dataframe thead th {\n",
       "        text-align: right;\n",
       "    }\n",
       "</style>\n",
       "<table border=\"1\" class=\"dataframe\">\n",
       "  <thead>\n",
       "    <tr style=\"text-align: right;\">\n",
       "      <th></th>\n",
       "      <th>Restaurant_id</th>\n",
       "      <th>Rating</th>\n",
       "    </tr>\n",
       "  </thead>\n",
       "  <tbody>\n",
       "    <tr>\n",
       "      <th>0</th>\n",
       "      <td>id_0</td>\n",
       "      <td>2.0</td>\n",
       "    </tr>\n",
       "    <tr>\n",
       "      <th>1</th>\n",
       "      <td>id_1</td>\n",
       "      <td>2.5</td>\n",
       "    </tr>\n",
       "    <tr>\n",
       "      <th>2</th>\n",
       "      <td>id_2</td>\n",
       "      <td>4.0</td>\n",
       "    </tr>\n",
       "    <tr>\n",
       "      <th>3</th>\n",
       "      <td>id_3</td>\n",
       "      <td>1.0</td>\n",
       "    </tr>\n",
       "    <tr>\n",
       "      <th>4</th>\n",
       "      <td>id_4</td>\n",
       "      <td>4.0</td>\n",
       "    </tr>\n",
       "  </tbody>\n",
       "</table>\n",
       "</div>"
      ],
      "text/plain": [
       "  Restaurant_id  Rating\n",
       "0          id_0     2.0\n",
       "1          id_1     2.5\n",
       "2          id_2     4.0\n",
       "3          id_3     1.0\n",
       "4          id_4     4.0"
      ]
     },
     "execution_count": 11,
     "metadata": {},
     "output_type": "execute_result"
    }
   ],
   "source": [
    "sample_submission.head(5)"
   ]
  },
  {
   "cell_type": "code",
   "execution_count": 12,
   "metadata": {
    "execution": {
     "iopub.execute_input": "2021-05-25T21:01:11.168582Z",
     "iopub.status.busy": "2021-05-25T21:01:11.168262Z",
     "iopub.status.idle": "2021-05-25T21:01:11.185199Z",
     "shell.execute_reply": "2021-05-25T21:01:11.184259Z",
     "shell.execute_reply.started": "2021-05-25T21:01:11.168534Z"
    }
   },
   "outputs": [
    {
     "name": "stdout",
     "output_type": "stream",
     "text": [
      "<class 'pandas.core.frame.DataFrame'>\n",
      "RangeIndex: 10000 entries, 0 to 9999\n",
      "Data columns (total 2 columns):\n",
      "Restaurant_id    10000 non-null object\n",
      "Rating           10000 non-null float64\n",
      "dtypes: float64(1), object(1)\n",
      "memory usage: 156.4+ KB\n"
     ]
    }
   ],
   "source": [
    "sample_submission.info()"
   ]
  },
  {
   "cell_type": "code",
   "execution_count": 13,
   "metadata": {
    "execution": {
     "iopub.execute_input": "2021-05-25T21:01:11.186969Z",
     "iopub.status.busy": "2021-05-25T21:01:11.186688Z",
     "iopub.status.idle": "2021-05-25T21:01:11.243660Z",
     "shell.execute_reply": "2021-05-25T21:01:11.242711Z",
     "shell.execute_reply.started": "2021-05-25T21:01:11.186930Z"
    }
   },
   "outputs": [],
   "source": [
    "# ВАЖНО! дря корректной обработки признаков объединяем трейн и тест в один датасет\n",
    "df_train['sample'] = 1 # помечаем где у нас трейн\n",
    "df_test['sample'] = 0 # помечаем где у нас тест\n",
    "df_test['Rating'] = 0 # в тесте у нас нет значения Rating, мы его должны предсказать, по этому пока просто заполняем нулями\n",
    "\n",
    "data = df_test.append(df_train, sort=False).reset_index(drop=True) # объединяем"
   ]
  },
  {
   "cell_type": "code",
   "execution_count": 14,
   "metadata": {
    "execution": {
     "iopub.execute_input": "2021-05-25T21:01:11.245452Z",
     "iopub.status.busy": "2021-05-25T21:01:11.245185Z",
     "iopub.status.idle": "2021-05-25T21:01:11.270776Z",
     "shell.execute_reply": "2021-05-25T21:01:11.269519Z",
     "shell.execute_reply.started": "2021-05-25T21:01:11.245393Z"
    }
   },
   "outputs": [
    {
     "name": "stdout",
     "output_type": "stream",
     "text": [
      "<class 'pandas.core.frame.DataFrame'>\n",
      "RangeIndex: 50000 entries, 0 to 49999\n",
      "Data columns (total 11 columns):\n",
      "Restaurant_id        50000 non-null object\n",
      "City                 50000 non-null object\n",
      "Cuisine Style        38410 non-null object\n",
      "Ranking              50000 non-null float64\n",
      "Price Range          32639 non-null object\n",
      "Number of Reviews    46800 non-null float64\n",
      "Reviews              49998 non-null object\n",
      "URL_TA               50000 non-null object\n",
      "ID_TA                50000 non-null object\n",
      "sample               50000 non-null int64\n",
      "Rating               50000 non-null float64\n",
      "dtypes: float64(3), int64(1), object(7)\n",
      "memory usage: 4.2+ MB\n"
     ]
    }
   ],
   "source": [
    "data.info()"
   ]
  },
  {
   "cell_type": "markdown",
   "metadata": {},
   "source": [
    "Подробнее по признакам:\n",
    "* City: Город \n",
    "* Cuisine Style: Кухня\n",
    "* Ranking: Ранг ресторана относительно других ресторанов в этом городе\n",
    "* Price Range: Цены в ресторане в 3 категориях\n",
    "* Number of Reviews: Количество отзывов\n",
    "* Reviews: 2 последних отзыва и даты этих отзывов\n",
    "* URL_TA: страница ресторана на 'www.tripadvisor.com' \n",
    "* ID_TA: ID ресторана в TripAdvisor\n",
    "* Rating: Рейтинг ресторана"
   ]
  },
  {
   "cell_type": "code",
   "execution_count": 15,
   "metadata": {
    "execution": {
     "iopub.execute_input": "2021-05-25T21:01:11.272617Z",
     "iopub.status.busy": "2021-05-25T21:01:11.272241Z",
     "iopub.status.idle": "2021-05-25T21:01:11.292351Z",
     "shell.execute_reply": "2021-05-25T21:01:11.291382Z",
     "shell.execute_reply.started": "2021-05-25T21:01:11.272567Z"
    }
   },
   "outputs": [
    {
     "data": {
      "text/html": [
       "<div>\n",
       "<style scoped>\n",
       "    .dataframe tbody tr th:only-of-type {\n",
       "        vertical-align: middle;\n",
       "    }\n",
       "\n",
       "    .dataframe tbody tr th {\n",
       "        vertical-align: top;\n",
       "    }\n",
       "\n",
       "    .dataframe thead th {\n",
       "        text-align: right;\n",
       "    }\n",
       "</style>\n",
       "<table border=\"1\" class=\"dataframe\">\n",
       "  <thead>\n",
       "    <tr style=\"text-align: right;\">\n",
       "      <th></th>\n",
       "      <th>Restaurant_id</th>\n",
       "      <th>City</th>\n",
       "      <th>Cuisine Style</th>\n",
       "      <th>Ranking</th>\n",
       "      <th>Price Range</th>\n",
       "      <th>Number of Reviews</th>\n",
       "      <th>Reviews</th>\n",
       "      <th>URL_TA</th>\n",
       "      <th>ID_TA</th>\n",
       "      <th>sample</th>\n",
       "      <th>Rating</th>\n",
       "    </tr>\n",
       "  </thead>\n",
       "  <tbody>\n",
       "    <tr>\n",
       "      <th>29391</th>\n",
       "      <td>id_959</td>\n",
       "      <td>Oslo</td>\n",
       "      <td>['Bar', 'Cafe', 'Pub']</td>\n",
       "      <td>960.0</td>\n",
       "      <td>NaN</td>\n",
       "      <td>4.0</td>\n",
       "      <td>[['Great location'], ['02/13/2017']]</td>\n",
       "      <td>/Restaurant_Review-g190479-d8132550-Reviews-Ma...</td>\n",
       "      <td>d8132550</td>\n",
       "      <td>1</td>\n",
       "      <td>4.0</td>\n",
       "    </tr>\n",
       "    <tr>\n",
       "      <th>18846</th>\n",
       "      <td>id_4680</td>\n",
       "      <td>Paris</td>\n",
       "      <td>['Pub']</td>\n",
       "      <td>4681.0</td>\n",
       "      <td>$$ - $$$</td>\n",
       "      <td>88.0</td>\n",
       "      <td>[['Cracking little find.', 'Great live music o...</td>\n",
       "      <td>/Restaurant_Review-g187147-d782430-Reviews-Le_...</td>\n",
       "      <td>d782430</td>\n",
       "      <td>1</td>\n",
       "      <td>4.0</td>\n",
       "    </tr>\n",
       "    <tr>\n",
       "      <th>16072</th>\n",
       "      <td>id_2158</td>\n",
       "      <td>Budapest</td>\n",
       "      <td>NaN</td>\n",
       "      <td>2159.0</td>\n",
       "      <td>NaN</td>\n",
       "      <td>7.0</td>\n",
       "      <td>[['Cold Staropramen', 'Awesome atmosphere'], [...</td>\n",
       "      <td>/Restaurant_Review-g274887-d11912843-Reviews-F...</td>\n",
       "      <td>d11912843</td>\n",
       "      <td>1</td>\n",
       "      <td>3.0</td>\n",
       "    </tr>\n",
       "    <tr>\n",
       "      <th>13660</th>\n",
       "      <td>id_15485</td>\n",
       "      <td>London</td>\n",
       "      <td>NaN</td>\n",
       "      <td>15497.0</td>\n",
       "      <td>NaN</td>\n",
       "      <td>5.0</td>\n",
       "      <td>[['only stayed 30 mins', 'Fantastic &amp; tasty'],...</td>\n",
       "      <td>/Restaurant_Review-g186338-d10754220-Reviews-D...</td>\n",
       "      <td>d10754220</td>\n",
       "      <td>1</td>\n",
       "      <td>2.5</td>\n",
       "    </tr>\n",
       "    <tr>\n",
       "      <th>17908</th>\n",
       "      <td>id_2499</td>\n",
       "      <td>London</td>\n",
       "      <td>['Bar', 'European', 'British', 'Vegetarian Fri...</td>\n",
       "      <td>2504.0</td>\n",
       "      <td>$$ - $$$</td>\n",
       "      <td>257.0</td>\n",
       "      <td>[['Powder Keg re-invented as Mediterranean sm....</td>\n",
       "      <td>/Restaurant_Review-g186338-d2419862-Reviews-Po...</td>\n",
       "      <td>d2419862</td>\n",
       "      <td>1</td>\n",
       "      <td>4.5</td>\n",
       "    </tr>\n",
       "  </tbody>\n",
       "</table>\n",
       "</div>"
      ],
      "text/plain": [
       "      Restaurant_id      City  \\\n",
       "29391        id_959      Oslo   \n",
       "18846       id_4680     Paris   \n",
       "16072       id_2158  Budapest   \n",
       "13660      id_15485    London   \n",
       "17908       id_2499    London   \n",
       "\n",
       "                                           Cuisine Style  Ranking Price Range  \\\n",
       "29391                             ['Bar', 'Cafe', 'Pub']    960.0         NaN   \n",
       "18846                                            ['Pub']   4681.0    $$ - $$$   \n",
       "16072                                                NaN   2159.0         NaN   \n",
       "13660                                                NaN  15497.0         NaN   \n",
       "17908  ['Bar', 'European', 'British', 'Vegetarian Fri...   2504.0    $$ - $$$   \n",
       "\n",
       "       Number of Reviews                                            Reviews  \\\n",
       "29391                4.0               [['Great location'], ['02/13/2017']]   \n",
       "18846               88.0  [['Cracking little find.', 'Great live music o...   \n",
       "16072                7.0  [['Cold Staropramen', 'Awesome atmosphere'], [...   \n",
       "13660                5.0  [['only stayed 30 mins', 'Fantastic & tasty'],...   \n",
       "17908              257.0  [['Powder Keg re-invented as Mediterranean sm....   \n",
       "\n",
       "                                                  URL_TA      ID_TA  sample  \\\n",
       "29391  /Restaurant_Review-g190479-d8132550-Reviews-Ma...   d8132550       1   \n",
       "18846  /Restaurant_Review-g187147-d782430-Reviews-Le_...    d782430       1   \n",
       "16072  /Restaurant_Review-g274887-d11912843-Reviews-F...  d11912843       1   \n",
       "13660  /Restaurant_Review-g186338-d10754220-Reviews-D...  d10754220       1   \n",
       "17908  /Restaurant_Review-g186338-d2419862-Reviews-Po...   d2419862       1   \n",
       "\n",
       "       Rating  \n",
       "29391     4.0  \n",
       "18846     4.0  \n",
       "16072     3.0  \n",
       "13660     2.5  \n",
       "17908     4.5  "
      ]
     },
     "execution_count": 15,
     "metadata": {},
     "output_type": "execute_result"
    }
   ],
   "source": [
    "data.sample(5)"
   ]
  },
  {
   "cell_type": "code",
   "execution_count": 16,
   "metadata": {
    "execution": {
     "iopub.execute_input": "2021-05-25T21:01:11.294146Z",
     "iopub.status.busy": "2021-05-25T21:01:11.293689Z",
     "iopub.status.idle": "2021-05-25T21:01:11.301251Z",
     "shell.execute_reply": "2021-05-25T21:01:11.299990Z",
     "shell.execute_reply.started": "2021-05-25T21:01:11.293958Z"
    }
   },
   "outputs": [
    {
     "data": {
      "text/plain": [
       "\"[['Very good reviews!', 'Fine dining in Hakaniemi'], ['12/05/2017', '10/29/2017']]\""
      ]
     },
     "execution_count": 16,
     "metadata": {},
     "output_type": "execute_result"
    }
   ],
   "source": [
    "data.Reviews[1]"
   ]
  },
  {
   "cell_type": "markdown",
   "metadata": {},
   "source": [
    "Как видим, большинство признаков у нас требует очистки и предварительной обработки."
   ]
  },
  {
   "cell_type": "markdown",
   "metadata": {},
   "source": [
    "## 1. Обработка NAN \n",
    "У наличия пропусков могут быть разные причины, но пропуски нужно либо заполнить, либо исключить из набора полностью. Но с пропусками нужно быть внимательным, **даже отсутствие информации может быть важным признаком!**   \n",
    "По этому перед обработкой NAN лучше вынести информацию о наличии пропуска как отдельный признак "
   ]
  },
  {
   "cell_type": "code",
   "execution_count": 17,
   "metadata": {
    "execution": {
     "iopub.execute_input": "2021-05-25T21:01:11.303152Z",
     "iopub.status.busy": "2021-05-25T21:01:11.302809Z",
     "iopub.status.idle": "2021-05-25T21:01:11.339662Z",
     "shell.execute_reply": "2021-05-25T21:01:11.338440Z",
     "shell.execute_reply.started": "2021-05-25T21:01:11.303105Z"
    }
   },
   "outputs": [
    {
     "data": {
      "text/plain": [
       "Restaurant_id            0\n",
       "City                     0\n",
       "Cuisine Style        11590\n",
       "Ranking                  0\n",
       "Price Range          17361\n",
       "Number of Reviews     3200\n",
       "Reviews                  2\n",
       "URL_TA                   0\n",
       "ID_TA                    0\n",
       "sample                   0\n",
       "Rating                   0\n",
       "dtype: int64"
      ]
     },
     "execution_count": 17,
     "metadata": {},
     "output_type": "execute_result"
    }
   ],
   "source": [
    "# Кол-во пропусков, которые есть в предоставленных данных\n",
    "\n",
    "data.isnull().sum()"
   ]
  },
  {
   "cell_type": "markdown",
   "metadata": {},
   "source": [
    "### Исcледуем 'Restaurant_id'\n",
    "Видна зависимость между данным признаком и признаком ranking. Посмотрим на корреляцию."
   ]
  },
  {
   "cell_type": "code",
   "execution_count": 18,
   "metadata": {
    "execution": {
     "iopub.execute_input": "2021-05-25T21:01:11.341846Z",
     "iopub.status.busy": "2021-05-25T21:01:11.341463Z",
     "iopub.status.idle": "2021-05-25T21:01:11.379581Z",
     "shell.execute_reply": "2021-05-25T21:01:11.378654Z",
     "shell.execute_reply.started": "2021-05-25T21:01:11.341775Z"
    }
   },
   "outputs": [],
   "source": [
    "# Уберем первые не числовые три символа 'id_'\n",
    "data['Restaurant_id'] = data['Restaurant_id'].apply(lambda x: float(x[3:]))"
   ]
  },
  {
   "cell_type": "code",
   "execution_count": 19,
   "metadata": {
    "execution": {
     "iopub.execute_input": "2021-05-25T21:01:11.381505Z",
     "iopub.status.busy": "2021-05-25T21:01:11.381169Z",
     "iopub.status.idle": "2021-05-25T21:01:11.395173Z",
     "shell.execute_reply": "2021-05-25T21:01:11.394251Z",
     "shell.execute_reply.started": "2021-05-25T21:01:11.381441Z"
    }
   },
   "outputs": [
    {
     "data": {
      "text/html": [
       "<div>\n",
       "<style scoped>\n",
       "    .dataframe tbody tr th:only-of-type {\n",
       "        vertical-align: middle;\n",
       "    }\n",
       "\n",
       "    .dataframe tbody tr th {\n",
       "        vertical-align: top;\n",
       "    }\n",
       "\n",
       "    .dataframe thead th {\n",
       "        text-align: right;\n",
       "    }\n",
       "</style>\n",
       "<table border=\"1\" class=\"dataframe\">\n",
       "  <thead>\n",
       "    <tr style=\"text-align: right;\">\n",
       "      <th></th>\n",
       "      <th>Restaurant_id</th>\n",
       "      <th>Ranking</th>\n",
       "    </tr>\n",
       "  </thead>\n",
       "  <tbody>\n",
       "    <tr>\n",
       "      <th>Restaurant_id</th>\n",
       "      <td>1.00000</td>\n",
       "      <td>0.82509</td>\n",
       "    </tr>\n",
       "    <tr>\n",
       "      <th>Ranking</th>\n",
       "      <td>0.82509</td>\n",
       "      <td>1.00000</td>\n",
       "    </tr>\n",
       "  </tbody>\n",
       "</table>\n",
       "</div>"
      ],
      "text/plain": [
       "               Restaurant_id  Ranking\n",
       "Restaurant_id        1.00000  0.82509\n",
       "Ranking              0.82509  1.00000"
      ]
     },
     "execution_count": 19,
     "metadata": {},
     "output_type": "execute_result"
    }
   ],
   "source": [
    "data[['Restaurant_id', 'Ranking']].corr()"
   ]
  },
  {
   "cell_type": "markdown",
   "metadata": {},
   "source": [
    "Коэффициент корреаляции 0.82\n",
    "Есть корреляция."
   ]
  },
  {
   "cell_type": "markdown",
   "metadata": {
    "execution": {
     "iopub.execute_input": "2021-05-25T12:50:42.979898Z",
     "iopub.status.busy": "2021-05-25T12:50:42.97952Z",
     "iopub.status.idle": "2021-05-25T12:50:42.983037Z",
     "shell.execute_reply": "2021-05-25T12:50:42.982288Z",
     "shell.execute_reply.started": "2021-05-25T12:50:42.979826Z"
    }
   },
   "source": [
    "### Исcледуем 'City'"
   ]
  },
  {
   "cell_type": "code",
   "execution_count": 20,
   "metadata": {
    "execution": {
     "iopub.execute_input": "2021-05-25T21:01:11.396618Z",
     "iopub.status.busy": "2021-05-25T21:01:11.396353Z",
     "iopub.status.idle": "2021-05-25T21:01:11.413110Z",
     "shell.execute_reply": "2021-05-25T21:01:11.412094Z",
     "shell.execute_reply.started": "2021-05-25T21:01:11.396554Z"
    }
   },
   "outputs": [
    {
     "data": {
      "text/plain": [
       "count      50000\n",
       "unique        31\n",
       "top       London\n",
       "freq        7193\n",
       "Name: City, dtype: object"
      ]
     },
     "execution_count": 20,
     "metadata": {},
     "output_type": "execute_result"
    }
   ],
   "source": [
    "data['City'].describe()"
   ]
  },
  {
   "cell_type": "code",
   "execution_count": 21,
   "metadata": {
    "execution": {
     "iopub.execute_input": "2021-05-25T21:01:11.414702Z",
     "iopub.status.busy": "2021-05-25T21:01:11.414421Z",
     "iopub.status.idle": "2021-05-25T21:01:11.432134Z",
     "shell.execute_reply": "2021-05-25T21:01:11.431441Z",
     "shell.execute_reply.started": "2021-05-25T21:01:11.414633Z"
    }
   },
   "outputs": [
    {
     "data": {
      "text/plain": [
       "London        7193\n",
       "Paris         6108\n",
       "Madrid        3813\n",
       "Barcelona     3395\n",
       "Berlin        2705\n",
       "Milan         2694\n",
       "Rome          2589\n",
       "Prague        1816\n",
       "Lisbon        1647\n",
       "Vienna        1443\n",
       "Amsterdam     1372\n",
       "Brussels      1314\n",
       "Hamburg       1186\n",
       "Munich        1145\n",
       "Lyon          1126\n",
       "Stockholm     1033\n",
       "Budapest      1021\n",
       "Warsaw         925\n",
       "Dublin         836\n",
       "Copenhagen     819\n",
       "Athens         776\n",
       "Edinburgh      745\n",
       "Zurich         685\n",
       "Oporto         642\n",
       "Geneva         590\n",
       "Krakow         554\n",
       "Oslo           488\n",
       "Helsinki       475\n",
       "Bratislava     380\n",
       "Luxembourg     263\n",
       "Ljubljana      222\n",
       "Name: City, dtype: int64"
      ]
     },
     "execution_count": 21,
     "metadata": {},
     "output_type": "execute_result"
    }
   ],
   "source": [
    "data['City'].value_counts()"
   ]
  },
  {
   "cell_type": "markdown",
   "metadata": {},
   "source": [
    "В столбце 'City' нет пропусков.\n",
    "31 уникальный город.\n",
    "Сам по себе признак 'City' идеально подходит что-бы сделать из него dummies-переменную.\n",
    "Ниже создадим дополнительные признаки на основе города."
   ]
  },
  {
   "cell_type": "markdown",
   "metadata": {},
   "source": [
    "### Исcледуем 'Number of Reviews'"
   ]
  },
  {
   "cell_type": "code",
   "execution_count": 22,
   "metadata": {
    "execution": {
     "iopub.execute_input": "2021-05-25T21:01:11.433753Z",
     "iopub.status.busy": "2021-05-25T21:01:11.433312Z",
     "iopub.status.idle": "2021-05-25T21:01:11.453186Z",
     "shell.execute_reply": "2021-05-25T21:01:11.452243Z",
     "shell.execute_reply.started": "2021-05-25T21:01:11.433706Z"
    }
   },
   "outputs": [
    {
     "data": {
      "text/plain": [
       "count    46800.000000\n",
       "mean       124.471197\n",
       "std        294.114345\n",
       "min          2.000000\n",
       "25%          9.000000\n",
       "50%         33.000000\n",
       "75%        115.000000\n",
       "max       9660.000000\n",
       "Name: Number of Reviews, dtype: float64"
      ]
     },
     "execution_count": 22,
     "metadata": {},
     "output_type": "execute_result"
    }
   ],
   "source": [
    "data['Number of Reviews'].describe()"
   ]
  },
  {
   "cell_type": "code",
   "execution_count": 23,
   "metadata": {
    "execution": {
     "iopub.execute_input": "2021-05-25T21:01:11.454738Z",
     "iopub.status.busy": "2021-05-25T21:01:11.454316Z",
     "iopub.status.idle": "2021-05-25T21:01:11.460429Z",
     "shell.execute_reply": "2021-05-25T21:01:11.459574Z",
     "shell.execute_reply.started": "2021-05-25T21:01:11.454685Z"
    }
   },
   "outputs": [
    {
     "data": {
      "text/plain": [
       "3200"
      ]
     },
     "execution_count": 23,
     "metadata": {},
     "output_type": "execute_result"
    }
   ],
   "source": [
    "data['Number of Reviews'].isnull().sum()"
   ]
  },
  {
   "cell_type": "markdown",
   "metadata": {},
   "source": [
    "Отсутствие данных в столбце может оказаться критичным для модели.\n",
    "Вынесем все пропуски в отдельный признак. \n",
    "Пропуски заполним нулем."
   ]
  },
  {
   "cell_type": "code",
   "execution_count": 24,
   "metadata": {
    "execution": {
     "iopub.execute_input": "2021-05-25T21:01:11.462286Z",
     "iopub.status.busy": "2021-05-25T21:01:11.461972Z",
     "iopub.status.idle": "2021-05-25T21:01:11.473039Z",
     "shell.execute_reply": "2021-05-25T21:01:11.472187Z",
     "shell.execute_reply.started": "2021-05-25T21:01:11.462238Z"
    }
   },
   "outputs": [],
   "source": [
    "data['number_of_rev_is_NAN'] = pd.isna(data['Number of Reviews']).astype('uint8')"
   ]
  },
  {
   "cell_type": "code",
   "execution_count": 25,
   "metadata": {
    "execution": {
     "iopub.execute_input": "2021-05-25T21:01:11.474738Z",
     "iopub.status.busy": "2021-05-25T21:01:11.474470Z",
     "iopub.status.idle": "2021-05-25T21:01:11.488236Z",
     "shell.execute_reply": "2021-05-25T21:01:11.487541Z",
     "shell.execute_reply.started": "2021-05-25T21:01:11.474691Z"
    }
   },
   "outputs": [],
   "source": [
    "data['Number of Reviews'].fillna(0, inplace=True)"
   ]
  },
  {
   "cell_type": "code",
   "execution_count": 26,
   "metadata": {
    "execution": {
     "iopub.execute_input": "2021-05-25T21:01:11.489814Z",
     "iopub.status.busy": "2021-05-25T21:01:11.489459Z",
     "iopub.status.idle": "2021-05-25T21:01:12.112986Z",
     "shell.execute_reply": "2021-05-25T21:01:12.111748Z",
     "shell.execute_reply.started": "2021-05-25T21:01:11.489774Z"
    }
   },
   "outputs": [
    {
     "name": "stdout",
     "output_type": "stream",
     "text": [
      "Q1: 7.0\n",
      "Q3: 105.0\n",
      "IQR: 98.0 \n",
      "Граница выбросов: [-140.0, 252.0]\n"
     ]
    },
    {
     "data": {
      "text/plain": [
       "0"
      ]
     },
     "execution_count": 26,
     "metadata": {},
     "output_type": "execute_result"
    },
    {
     "data": {
      "image/png": "[encoded data removed]",
      "text/plain": [
       "<Figure size 1080x360 with 2 Axes>"
      ]
     },
     "metadata": {
      "needs_background": "light"
     },
     "output_type": "display_data"
    }
   ],
   "source": [
    "# Есть ли выбросы\n",
    "\n",
    "show_IQR(data, 'Number of Reviews', 100)"
   ]
  },
  {
   "cell_type": "markdown",
   "metadata": {},
   "source": [
    "Сколько значений у нас выбивается больше, чем 252."
   ]
  },
  {
   "cell_type": "code",
   "execution_count": 27,
   "metadata": {
    "execution": {
     "iopub.execute_input": "2021-05-25T21:01:12.115451Z",
     "iopub.status.busy": "2021-05-25T21:01:12.115033Z",
     "iopub.status.idle": "2021-05-25T21:01:12.137750Z",
     "shell.execute_reply": "2021-05-25T21:01:12.136643Z",
     "shell.execute_reply.started": "2021-05-25T21:01:12.115369Z"
    }
   },
   "outputs": [
    {
     "data": {
      "text/plain": [
       "5946"
      ]
     },
     "execution_count": 27,
     "metadata": {},
     "output_type": "execute_result"
    }
   ],
   "source": [
    "sum(data['Number of Reviews'] > 252)"
   ]
  },
  {
   "cell_type": "markdown",
   "metadata": {},
   "source": [
    "За верхнюю границу выбросов выходит много значений, но на гистограмме распределения видно, что распределение смещено вправо и содержит очень длинный хвост, при чем, больше 2000 практически нет данных. Посмотрим, сколько значений в массиве содержит более 2000 отзывов:"
   ]
  },
  {
   "cell_type": "code",
   "execution_count": 28,
   "metadata": {
    "execution": {
     "iopub.execute_input": "2021-05-25T21:01:12.140572Z",
     "iopub.status.busy": "2021-05-25T21:01:12.139821Z",
     "iopub.status.idle": "2021-05-25T21:01:12.165215Z",
     "shell.execute_reply": "2021-05-25T21:01:12.164294Z",
     "shell.execute_reply.started": "2021-05-25T21:01:12.140504Z"
    }
   },
   "outputs": [
    {
     "data": {
      "text/plain": [
       "171"
      ]
     },
     "execution_count": 28,
     "metadata": {},
     "output_type": "execute_result"
    }
   ],
   "source": [
    "sum(data['Number of Reviews'] > 2000)"
   ]
  },
  {
   "cell_type": "markdown",
   "metadata": {},
   "source": [
    "171 значение заменим их на 2000"
   ]
  },
  {
   "cell_type": "code",
   "execution_count": 29,
   "metadata": {
    "execution": {
     "iopub.execute_input": "2021-05-25T21:01:12.167525Z",
     "iopub.status.busy": "2021-05-25T21:01:12.166895Z",
     "iopub.status.idle": "2021-05-25T21:01:12.186592Z",
     "shell.execute_reply": "2021-05-25T21:01:12.185638Z",
     "shell.execute_reply.started": "2021-05-25T21:01:12.167464Z"
    }
   },
   "outputs": [],
   "source": [
    "data['Number of Reviews'] = data['Number of Reviews'].apply(lambda x: 2000 if x > 2000 else x)"
   ]
  },
  {
   "cell_type": "code",
   "execution_count": 30,
   "metadata": {
    "execution": {
     "iopub.execute_input": "2021-05-25T21:01:12.188734Z",
     "iopub.status.busy": "2021-05-25T21:01:12.188199Z",
     "iopub.status.idle": "2021-05-25T21:01:12.200227Z",
     "shell.execute_reply": "2021-05-25T21:01:12.199431Z",
     "shell.execute_reply.started": "2021-05-25T21:01:12.188497Z"
    }
   },
   "outputs": [
    {
     "data": {
      "text/plain": [
       "count    50000.000000\n",
       "mean       112.523920\n",
       "std        236.929092\n",
       "min          0.000000\n",
       "25%          7.000000\n",
       "50%         28.000000\n",
       "75%        105.000000\n",
       "max       2000.000000\n",
       "Name: Number of Reviews, dtype: float64"
      ]
     },
     "execution_count": 30,
     "metadata": {},
     "output_type": "execute_result"
    }
   ],
   "source": [
    "# Проверим результат\n",
    "\n",
    "data['Number of Reviews'].describe()"
   ]
  },
  {
   "cell_type": "markdown",
   "metadata": {},
   "source": [
    "### Исcледуем 'Price Range'"
   ]
  },
  {
   "cell_type": "code",
   "execution_count": 31,
   "metadata": {
    "execution": {
     "iopub.execute_input": "2021-05-25T21:01:12.202974Z",
     "iopub.status.busy": "2021-05-25T21:01:12.202587Z",
     "iopub.status.idle": "2021-05-25T21:01:12.218372Z",
     "shell.execute_reply": "2021-05-25T21:01:12.217588Z",
     "shell.execute_reply.started": "2021-05-25T21:01:12.202905Z"
    }
   },
   "outputs": [
    {
     "data": {
      "text/plain": [
       "17361"
      ]
     },
     "execution_count": 31,
     "metadata": {},
     "output_type": "execute_result"
    }
   ],
   "source": [
    "# Количество пропусков:\n",
    "\n",
    "sum(data['Price Range'].isnull())"
   ]
  },
  {
   "cell_type": "code",
   "execution_count": 32,
   "metadata": {
    "execution": {
     "iopub.execute_input": "2021-05-25T21:01:12.227205Z",
     "iopub.status.busy": "2021-05-25T21:01:12.226926Z",
     "iopub.status.idle": "2021-05-25T21:01:12.239745Z",
     "shell.execute_reply": "2021-05-25T21:01:12.238461Z",
     "shell.execute_reply.started": "2021-05-25T21:01:12.227154Z"
    }
   },
   "outputs": [
    {
     "data": {
      "text/plain": [
       "$$ - $$$    23041\n",
       "$            7816\n",
       "$$$$         1782\n",
       "Name: Price Range, dtype: int64"
      ]
     },
     "execution_count": 32,
     "metadata": {},
     "output_type": "execute_result"
    }
   ],
   "source": [
    "# Уникальные значения\n",
    "\n",
    "data['Price Range'].value_counts()"
   ]
  },
  {
   "cell_type": "markdown",
   "metadata": {},
   "source": [
    "Много пропусов. \n",
    "Больше всего ресторанов в среднем ценовом сегменте. \n",
    "Вынесем пропуски в отдельный признак. \n",
    "Пропуски заменим на наиболее частое значение: 2."
   ]
  },
  {
   "cell_type": "code",
   "execution_count": 33,
   "metadata": {
    "execution": {
     "iopub.execute_input": "2021-05-25T21:01:12.242367Z",
     "iopub.status.busy": "2021-05-25T21:01:12.242000Z",
     "iopub.status.idle": "2021-05-25T21:01:12.263760Z",
     "shell.execute_reply": "2021-05-25T21:01:12.262448Z",
     "shell.execute_reply.started": "2021-05-25T21:01:12.242298Z"
    }
   },
   "outputs": [],
   "source": [
    "price = {'$' : 1, '$$ - $$$' : 2, '$$$$' : 3}\n",
    "data['Price Range'] = data['Price Range'].map(price)\n",
    "data['price_range_is_NAN'] = pd.isna(data['Price Range']).astype('uint8')\n",
    "data['Price Range'] = data['Price Range'].fillna(2)"
   ]
  },
  {
   "cell_type": "code",
   "execution_count": 34,
   "metadata": {
    "execution": {
     "iopub.execute_input": "2021-05-25T21:01:12.265607Z",
     "iopub.status.busy": "2021-05-25T21:01:12.265261Z",
     "iopub.status.idle": "2021-05-25T21:01:12.276878Z",
     "shell.execute_reply": "2021-05-25T21:01:12.276022Z",
     "shell.execute_reply.started": "2021-05-25T21:01:12.265546Z"
    }
   },
   "outputs": [
    {
     "data": {
      "text/plain": [
       "count    50000.000000\n",
       "mean         1.879320\n",
       "std          0.421189\n",
       "min          1.000000\n",
       "25%          2.000000\n",
       "50%          2.000000\n",
       "75%          2.000000\n",
       "max          3.000000\n",
       "Name: Price Range, dtype: float64"
      ]
     },
     "execution_count": 34,
     "metadata": {},
     "output_type": "execute_result"
    }
   ],
   "source": [
    "data['Price Range'].describe()"
   ]
  },
  {
   "cell_type": "code",
   "execution_count": 35,
   "metadata": {
    "execution": {
     "iopub.execute_input": "2021-05-25T21:01:12.278482Z",
     "iopub.status.busy": "2021-05-25T21:01:12.278196Z",
     "iopub.status.idle": "2021-05-25T21:01:12.288892Z",
     "shell.execute_reply": "2021-05-25T21:01:12.288096Z",
     "shell.execute_reply.started": "2021-05-25T21:01:12.278435Z"
    }
   },
   "outputs": [
    {
     "data": {
      "text/plain": [
       "2.0    40402\n",
       "1.0     7816\n",
       "3.0     1782\n",
       "Name: Price Range, dtype: int64"
      ]
     },
     "execution_count": 35,
     "metadata": {},
     "output_type": "execute_result"
    }
   ],
   "source": [
    "# Проверим результат\n",
    "data['Price Range'].value_counts()"
   ]
  },
  {
   "cell_type": "markdown",
   "metadata": {},
   "source": [
    "### Исcледуем 'ID_TA'"
   ]
  },
  {
   "cell_type": "code",
   "execution_count": 36,
   "metadata": {
    "execution": {
     "iopub.execute_input": "2021-05-25T21:01:12.290381Z",
     "iopub.status.busy": "2021-05-25T21:01:12.290072Z",
     "iopub.status.idle": "2021-05-25T21:01:12.333514Z",
     "shell.execute_reply": "2021-05-25T21:01:12.332508Z",
     "shell.execute_reply.started": "2021-05-25T21:01:12.290335Z"
    }
   },
   "outputs": [
    {
     "data": {
      "text/plain": [
       "d11921719    2\n",
       "d1568045     2\n",
       "d697406      2\n",
       "d7342803     2\n",
       "d4600226     2\n",
       "            ..\n",
       "d3393854     1\n",
       "d1355049     1\n",
       "d1991709     1\n",
       "d4736414     1\n",
       "d9467751     1\n",
       "Name: ID_TA, Length: 49963, dtype: int64"
      ]
     },
     "execution_count": 36,
     "metadata": {},
     "output_type": "execute_result"
    }
   ],
   "source": [
    "data['ID_TA'].value_counts()"
   ]
  },
  {
   "cell_type": "markdown",
   "metadata": {},
   "source": [
    "Есть рестораны с одним и тем же идентификатором в системе (возможно, это сетевые рестораны или филиалы или дубли).\n",
    "Посмотрим подробнее."
   ]
  },
  {
   "cell_type": "code",
   "execution_count": 37,
   "metadata": {
    "execution": {
     "iopub.execute_input": "2021-05-25T21:01:12.336577Z",
     "iopub.status.busy": "2021-05-25T21:01:12.336336Z",
     "iopub.status.idle": "2021-05-25T21:01:12.373410Z",
     "shell.execute_reply": "2021-05-25T21:01:12.372422Z",
     "shell.execute_reply.started": "2021-05-25T21:01:12.336537Z"
    }
   },
   "outputs": [
    {
     "data": {
      "text/plain": [
       "37"
      ]
     },
     "execution_count": 37,
     "metadata": {},
     "output_type": "execute_result"
    }
   ],
   "source": [
    "# Сколько таких ресторанов\n",
    "\n",
    "sum(data['ID_TA'].value_counts() > 1)"
   ]
  },
  {
   "cell_type": "markdown",
   "metadata": {},
   "source": [
    "Вернуться к колонке rest_id, есть ли там дважды встречающиеся значения.\n",
    "\n"
   ]
  },
  {
   "cell_type": "code",
   "execution_count": 38,
   "metadata": {
    "execution": {
     "iopub.execute_input": "2021-05-25T21:01:12.374980Z",
     "iopub.status.busy": "2021-05-25T21:01:12.374656Z",
     "iopub.status.idle": "2021-05-25T21:01:12.388268Z",
     "shell.execute_reply": "2021-05-25T21:01:12.387187Z",
     "shell.execute_reply.started": "2021-05-25T21:01:12.374922Z"
    }
   },
   "outputs": [
    {
     "data": {
      "text/plain": [
       "871.0      19\n",
       "227.0      19\n",
       "436.0      19\n",
       "633.0      19\n",
       "344.0      18\n",
       "           ..\n",
       "11420.0     1\n",
       "6603.0      1\n",
       "8793.0      1\n",
       "5548.0      1\n",
       "11783.0     1\n",
       "Name: Restaurant_id, Length: 13094, dtype: int64"
      ]
     },
     "execution_count": 38,
     "metadata": {},
     "output_type": "execute_result"
    }
   ],
   "source": [
    "data['Restaurant_id'].value_counts()"
   ]
  },
  {
   "cell_type": "code",
   "execution_count": 39,
   "metadata": {
    "execution": {
     "iopub.execute_input": "2021-05-25T21:01:12.390369Z",
     "iopub.status.busy": "2021-05-25T21:01:12.389962Z",
     "iopub.status.idle": "2021-05-25T21:01:12.406815Z",
     "shell.execute_reply": "2021-05-25T21:01:12.405866Z",
     "shell.execute_reply.started": "2021-05-25T21:01:12.390304Z"
    }
   },
   "outputs": [
    {
     "data": {
      "text/plain": [
       "9287"
      ]
     },
     "execution_count": 39,
     "metadata": {},
     "output_type": "execute_result"
    }
   ],
   "source": [
    "sum(data['Restaurant_id'].value_counts() >= 2)"
   ]
  },
  {
   "cell_type": "markdown",
   "metadata": {},
   "source": [
    "Restaurant_id можно предположить, что это сеть ресторанов. \n",
    "Мы можем создать признак, который бы указывал, является ли ресторан частью сети или нет. \n",
    "\n",
    "В ситуации с id_ta может быть это некая компания, которая владеет несколькими разными \n",
    "ресторанами. \n",
    "\n",
    "Отфильтруем эти значения и посмотрим на них повнимательнее."
   ]
  },
  {
   "cell_type": "code",
   "execution_count": 40,
   "metadata": {
    "execution": {
     "iopub.execute_input": "2021-05-25T21:01:12.409204Z",
     "iopub.status.busy": "2021-05-25T21:01:12.408694Z",
     "iopub.status.idle": "2021-05-25T21:01:12.417233Z",
     "shell.execute_reply": "2021-05-25T21:01:12.416285Z",
     "shell.execute_reply.started": "2021-05-25T21:01:12.408983Z"
    }
   },
   "outputs": [
    {
     "data": {
      "text/plain": [
       "13094"
      ]
     },
     "execution_count": 40,
     "metadata": {},
     "output_type": "execute_result"
    }
   ],
   "source": [
    "data['Restaurant_id'].nunique()"
   ]
  },
  {
   "cell_type": "code",
   "execution_count": 41,
   "metadata": {
    "execution": {
     "iopub.execute_input": "2021-05-25T21:01:12.419325Z",
     "iopub.status.busy": "2021-05-25T21:01:12.418977Z",
     "iopub.status.idle": "2021-05-25T21:01:12.475321Z",
     "shell.execute_reply": "2021-05-25T21:01:12.474208Z",
     "shell.execute_reply.started": "2021-05-25T21:01:12.419259Z"
    }
   },
   "outputs": [],
   "source": [
    "data_id_ta_notunique = data[data['ID_TA'].map(data['ID_TA'].value_counts()) > 1]"
   ]
  },
  {
   "cell_type": "code",
   "execution_count": 42,
   "metadata": {
    "execution": {
     "iopub.execute_input": "2021-05-25T21:01:12.477411Z",
     "iopub.status.busy": "2021-05-25T21:01:12.477010Z",
     "iopub.status.idle": "2021-05-25T21:01:12.483945Z",
     "shell.execute_reply": "2021-05-25T21:01:12.482998Z",
     "shell.execute_reply.started": "2021-05-25T21:01:12.477330Z"
    }
   },
   "outputs": [],
   "source": [
    "data_id_ta_notunique['ID_TA'] = data_id_ta_notunique['ID_TA'].apply(lambda x: int(x[1:]))"
   ]
  },
  {
   "cell_type": "code",
   "execution_count": 43,
   "metadata": {
    "execution": {
     "iopub.execute_input": "2021-05-25T21:01:12.486012Z",
     "iopub.status.busy": "2021-05-25T21:01:12.485643Z",
     "iopub.status.idle": "2021-05-25T21:01:12.502518Z",
     "shell.execute_reply": "2021-05-25T21:01:12.501461Z",
     "shell.execute_reply.started": "2021-05-25T21:01:12.485949Z"
    }
   },
   "outputs": [
    {
     "data": {
      "text/plain": [
       "987900      2\n",
       "10316215    2\n",
       "1235635     2\n",
       "4748208     2\n",
       "10440367    2\n",
       "11698990    2\n",
       "1568045     2\n",
       "4914988     2\n",
       "13002276    2\n",
       "4600226     2\n",
       "12488993    2\n",
       "7337366     2\n",
       "3748757     2\n",
       "1028622     2\n",
       "9877640     2\n",
       "1315077     2\n",
       "5617412     2\n",
       "697406      2\n",
       "7809594     2\n",
       "2010743     2\n",
       "7827387     2\n",
       "10047799    2\n",
       "2669414     2\n",
       "3161682     2\n",
       "2360290     2\n",
       "11674463    2\n",
       "2477531     2\n",
       "5618007     2\n",
       "11921719    2\n",
       "11999956    2\n",
       "7342803     2\n",
       "793170      2\n",
       "3396817     2\n",
       "8753348     2\n",
       "3685055     2\n",
       "3647024     2\n",
       "9802625     2\n",
       "Name: ID_TA, dtype: int64"
      ]
     },
     "execution_count": 43,
     "metadata": {},
     "output_type": "execute_result"
    }
   ],
   "source": [
    "data_id_ta_notunique['ID_TA'].value_counts()"
   ]
  },
  {
   "cell_type": "code",
   "execution_count": 44,
   "metadata": {
    "execution": {
     "iopub.execute_input": "2021-05-25T21:01:12.503844Z",
     "iopub.status.busy": "2021-05-25T21:01:12.503601Z",
     "iopub.status.idle": "2021-05-25T21:01:12.687214Z",
     "shell.execute_reply": "2021-05-25T21:01:12.686512Z",
     "shell.execute_reply.started": "2021-05-25T21:01:12.503806Z"
    }
   },
   "outputs": [
    {
     "data": {
      "text/html": [
       "<div>\n",
       "<style scoped>\n",
       "    .dataframe tbody tr th:only-of-type {\n",
       "        vertical-align: middle;\n",
       "    }\n",
       "\n",
       "    .dataframe tbody tr th {\n",
       "        vertical-align: top;\n",
       "    }\n",
       "\n",
       "    .dataframe thead th {\n",
       "        text-align: right;\n",
       "    }\n",
       "</style>\n",
       "<table border=\"1\" class=\"dataframe\">\n",
       "  <thead>\n",
       "    <tr style=\"text-align: right;\">\n",
       "      <th></th>\n",
       "      <th>Restaurant_id</th>\n",
       "      <th>City</th>\n",
       "      <th>Cuisine Style</th>\n",
       "      <th>Ranking</th>\n",
       "      <th>Price Range</th>\n",
       "      <th>Number of Reviews</th>\n",
       "      <th>Reviews</th>\n",
       "      <th>URL_TA</th>\n",
       "      <th>ID_TA</th>\n",
       "      <th>sample</th>\n",
       "      <th>Rating</th>\n",
       "      <th>number_of_rev_is_NAN</th>\n",
       "      <th>price_range_is_NAN</th>\n",
       "    </tr>\n",
       "  </thead>\n",
       "  <tbody>\n",
       "    <tr>\n",
       "      <th>18019</th>\n",
       "      <td>2361.0</td>\n",
       "      <td>Madrid</td>\n",
       "      <td>['Seafood', 'Mediterranean', 'European', 'Span...</td>\n",
       "      <td>2363.0</td>\n",
       "      <td>2.0</td>\n",
       "      <td>190.0</td>\n",
       "      <td>[['Nice restaurant in Madrid', 'Highly reccome...</td>\n",
       "      <td>/Restaurant_Review-g187514-d987900-Reviews-Com...</td>\n",
       "      <td>987900</td>\n",
       "      <td>1</td>\n",
       "      <td>4.0</td>\n",
       "      <td>0</td>\n",
       "      <td>0</td>\n",
       "    </tr>\n",
       "    <tr>\n",
       "      <th>32998</th>\n",
       "      <td>2312.0</td>\n",
       "      <td>Madrid</td>\n",
       "      <td>['Seafood', 'Mediterranean', 'European', 'Span...</td>\n",
       "      <td>2314.0</td>\n",
       "      <td>2.0</td>\n",
       "      <td>190.0</td>\n",
       "      <td>[['Nice restaurant in Madrid', 'Highly reccome...</td>\n",
       "      <td>/Restaurant_Review-g187514-d987900-Reviews-Com...</td>\n",
       "      <td>987900</td>\n",
       "      <td>1</td>\n",
       "      <td>4.0</td>\n",
       "      <td>0</td>\n",
       "      <td>0</td>\n",
       "    </tr>\n",
       "  </tbody>\n",
       "</table>\n",
       "</div>"
      ],
      "text/plain": [
       "       Restaurant_id    City  \\\n",
       "18019         2361.0  Madrid   \n",
       "32998         2312.0  Madrid   \n",
       "\n",
       "                                           Cuisine Style  Ranking  \\\n",
       "18019  ['Seafood', 'Mediterranean', 'European', 'Span...   2363.0   \n",
       "32998  ['Seafood', 'Mediterranean', 'European', 'Span...   2314.0   \n",
       "\n",
       "       Price Range  Number of Reviews  \\\n",
       "18019          2.0              190.0   \n",
       "32998          2.0              190.0   \n",
       "\n",
       "                                                 Reviews  \\\n",
       "18019  [['Nice restaurant in Madrid', 'Highly reccome...   \n",
       "32998  [['Nice restaurant in Madrid', 'Highly reccome...   \n",
       "\n",
       "                                                  URL_TA   ID_TA  sample  \\\n",
       "18019  /Restaurant_Review-g187514-d987900-Reviews-Com...  987900       1   \n",
       "32998  /Restaurant_Review-g187514-d987900-Reviews-Com...  987900       1   \n",
       "\n",
       "       Rating  number_of_rev_is_NAN  price_range_is_NAN  \n",
       "18019     4.0                     0                   0  \n",
       "32998     4.0                     0                   0  "
      ]
     },
     "execution_count": 44,
     "metadata": {},
     "output_type": "execute_result"
    }
   ],
   "source": [
    "# Пара таких ресторанов\n",
    "\n",
    "data_id_ta_notunique.query('ID_TA == 987900')"
   ]
  },
  {
   "cell_type": "markdown",
   "metadata": {},
   "source": [
    "В наборе данныз дублируется 37 ресторанов. \n",
    "\n",
    "Т.к. по условиям задачи удалять строки из датасета нельзя, то ничего не меняем.\n",
    "\n",
    "Возможно, в последствии, id_ta удалим за ненадобностью, но для порядка уберем символ d в начале и приведем к числовому значению. \n",
    "\n",
    "Возможно, ID_TA будет не лишним для модели, т.к. рестораны, которые зарегистрировались раньше получаю и меньший ID, возможно, такие рестораны уделяют больше внимания рейтингу."
   ]
  },
  {
   "cell_type": "code",
   "execution_count": 45,
   "metadata": {
    "execution": {
     "iopub.execute_input": "2021-05-25T21:01:12.688665Z",
     "iopub.status.busy": "2021-05-25T21:01:12.688419Z",
     "iopub.status.idle": "2021-05-25T21:01:12.725219Z",
     "shell.execute_reply": "2021-05-25T21:01:12.724346Z",
     "shell.execute_reply.started": "2021-05-25T21:01:12.688632Z"
    }
   },
   "outputs": [],
   "source": [
    "data['ID_TA'] = data['ID_TA'].apply(lambda x: int(x[1:]))"
   ]
  },
  {
   "cell_type": "markdown",
   "metadata": {},
   "source": [
    "### Исcледуем 'URL_TA'"
   ]
  },
  {
   "cell_type": "code",
   "execution_count": 46,
   "metadata": {
    "execution": {
     "iopub.execute_input": "2021-05-25T21:01:12.726982Z",
     "iopub.status.busy": "2021-05-25T21:01:12.726568Z",
     "iopub.status.idle": "2021-05-25T21:01:12.787293Z",
     "shell.execute_reply": "2021-05-25T21:01:12.786138Z",
     "shell.execute_reply.started": "2021-05-25T21:01:12.726902Z"
    }
   },
   "outputs": [
    {
     "data": {
      "text/html": [
       "<div>\n",
       "<style scoped>\n",
       "    .dataframe tbody tr th:only-of-type {\n",
       "        vertical-align: middle;\n",
       "    }\n",
       "\n",
       "    .dataframe tbody tr th {\n",
       "        vertical-align: top;\n",
       "    }\n",
       "\n",
       "    .dataframe thead th {\n",
       "        text-align: right;\n",
       "    }\n",
       "</style>\n",
       "<table border=\"1\" class=\"dataframe\">\n",
       "  <thead>\n",
       "    <tr style=\"text-align: right;\">\n",
       "      <th></th>\n",
       "      <th>Restaurant_id</th>\n",
       "      <th>City</th>\n",
       "      <th>Cuisine Style</th>\n",
       "      <th>Ranking</th>\n",
       "      <th>Price Range</th>\n",
       "      <th>Number of Reviews</th>\n",
       "      <th>Reviews</th>\n",
       "      <th>URL_TA</th>\n",
       "      <th>ID_TA</th>\n",
       "      <th>sample</th>\n",
       "      <th>Rating</th>\n",
       "      <th>number_of_rev_is_NAN</th>\n",
       "      <th>price_range_is_NAN</th>\n",
       "    </tr>\n",
       "  </thead>\n",
       "  <tbody>\n",
       "    <tr>\n",
       "      <th>0</th>\n",
       "      <td>0.0</td>\n",
       "      <td>Paris</td>\n",
       "      <td>['Bar', 'Pub']</td>\n",
       "      <td>12963.0</td>\n",
       "      <td>2.0</td>\n",
       "      <td>4.0</td>\n",
       "      <td>[[], []]</td>\n",
       "      <td>/Restaurant_Review-g187147-d10746918-Reviews-L...</td>\n",
       "      <td>10746918</td>\n",
       "      <td>0</td>\n",
       "      <td>0.0</td>\n",
       "      <td>0</td>\n",
       "      <td>0</td>\n",
       "    </tr>\n",
       "    <tr>\n",
       "      <th>1</th>\n",
       "      <td>1.0</td>\n",
       "      <td>Helsinki</td>\n",
       "      <td>['European', 'Scandinavian', 'Gluten Free Opti...</td>\n",
       "      <td>106.0</td>\n",
       "      <td>2.0</td>\n",
       "      <td>97.0</td>\n",
       "      <td>[['Very good reviews!', 'Fine dining in Hakani...</td>\n",
       "      <td>/Restaurant_Review-g189934-d6674944-Reviews-Ra...</td>\n",
       "      <td>6674944</td>\n",
       "      <td>0</td>\n",
       "      <td>0.0</td>\n",
       "      <td>0</td>\n",
       "      <td>0</td>\n",
       "    </tr>\n",
       "    <tr>\n",
       "      <th>2</th>\n",
       "      <td>2.0</td>\n",
       "      <td>Edinburgh</td>\n",
       "      <td>['Vegetarian Friendly']</td>\n",
       "      <td>810.0</td>\n",
       "      <td>2.0</td>\n",
       "      <td>28.0</td>\n",
       "      <td>[['Better than the Links', 'Ivy Black'], ['12/...</td>\n",
       "      <td>/Restaurant_Review-g186525-d13129638-Reviews-B...</td>\n",
       "      <td>13129638</td>\n",
       "      <td>0</td>\n",
       "      <td>0.0</td>\n",
       "      <td>0</td>\n",
       "      <td>0</td>\n",
       "    </tr>\n",
       "    <tr>\n",
       "      <th>3</th>\n",
       "      <td>3.0</td>\n",
       "      <td>London</td>\n",
       "      <td>['Italian', 'Mediterranean', 'European', 'Vege...</td>\n",
       "      <td>1669.0</td>\n",
       "      <td>3.0</td>\n",
       "      <td>202.0</td>\n",
       "      <td>[['Most exquisite', 'Delicious and authentic']...</td>\n",
       "      <td>/Restaurant_Review-g186338-d680417-Reviews-Qui...</td>\n",
       "      <td>680417</td>\n",
       "      <td>0</td>\n",
       "      <td>0.0</td>\n",
       "      <td>0</td>\n",
       "      <td>0</td>\n",
       "    </tr>\n",
       "    <tr>\n",
       "      <th>4</th>\n",
       "      <td>4.0</td>\n",
       "      <td>Bratislava</td>\n",
       "      <td>['Italian', 'Mediterranean', 'European', 'Seaf...</td>\n",
       "      <td>37.0</td>\n",
       "      <td>3.0</td>\n",
       "      <td>162.0</td>\n",
       "      <td>[['Always the best in bratislava', 'Very good ...</td>\n",
       "      <td>/Restaurant_Review-g274924-d1112354-Reviews-Ma...</td>\n",
       "      <td>1112354</td>\n",
       "      <td>0</td>\n",
       "      <td>0.0</td>\n",
       "      <td>0</td>\n",
       "      <td>0</td>\n",
       "    </tr>\n",
       "    <tr>\n",
       "      <th>5</th>\n",
       "      <td>5.0</td>\n",
       "      <td>Paris</td>\n",
       "      <td>['French', 'Cafe', 'Fast Food']</td>\n",
       "      <td>5093.0</td>\n",
       "      <td>1.0</td>\n",
       "      <td>24.0</td>\n",
       "      <td>[['Lunch Break', 'Good to Quick Bite'], ['09/0...</td>\n",
       "      <td>/Restaurant_Review-g187147-d8458643-Reviews-Le...</td>\n",
       "      <td>8458643</td>\n",
       "      <td>0</td>\n",
       "      <td>0.0</td>\n",
       "      <td>0</td>\n",
       "      <td>0</td>\n",
       "    </tr>\n",
       "  </tbody>\n",
       "</table>\n",
       "</div>"
      ],
      "text/plain": [
       "   Restaurant_id        City  \\\n",
       "0            0.0       Paris   \n",
       "1            1.0    Helsinki   \n",
       "2            2.0   Edinburgh   \n",
       "3            3.0      London   \n",
       "4            4.0  Bratislava   \n",
       "5            5.0       Paris   \n",
       "\n",
       "                                       Cuisine Style  Ranking  Price Range  \\\n",
       "0                                     ['Bar', 'Pub']  12963.0          2.0   \n",
       "1  ['European', 'Scandinavian', 'Gluten Free Opti...    106.0          2.0   \n",
       "2                            ['Vegetarian Friendly']    810.0          2.0   \n",
       "3  ['Italian', 'Mediterranean', 'European', 'Vege...   1669.0          3.0   \n",
       "4  ['Italian', 'Mediterranean', 'European', 'Seaf...     37.0          3.0   \n",
       "5                    ['French', 'Cafe', 'Fast Food']   5093.0          1.0   \n",
       "\n",
       "   Number of Reviews                                            Reviews  \\\n",
       "0                4.0                                           [[], []]   \n",
       "1               97.0  [['Very good reviews!', 'Fine dining in Hakani...   \n",
       "2               28.0  [['Better than the Links', 'Ivy Black'], ['12/...   \n",
       "3              202.0  [['Most exquisite', 'Delicious and authentic']...   \n",
       "4              162.0  [['Always the best in bratislava', 'Very good ...   \n",
       "5               24.0  [['Lunch Break', 'Good to Quick Bite'], ['09/0...   \n",
       "\n",
       "                                              URL_TA     ID_TA  sample  \\\n",
       "0  /Restaurant_Review-g187147-d10746918-Reviews-L...  10746918       0   \n",
       "1  /Restaurant_Review-g189934-d6674944-Reviews-Ra...   6674944       0   \n",
       "2  /Restaurant_Review-g186525-d13129638-Reviews-B...  13129638       0   \n",
       "3  /Restaurant_Review-g186338-d680417-Reviews-Qui...    680417       0   \n",
       "4  /Restaurant_Review-g274924-d1112354-Reviews-Ma...   1112354       0   \n",
       "5  /Restaurant_Review-g187147-d8458643-Reviews-Le...   8458643       0   \n",
       "\n",
       "   Rating  number_of_rev_is_NAN  price_range_is_NAN  \n",
       "0     0.0                     0                   0  \n",
       "1     0.0                     0                   0  \n",
       "2     0.0                     0                   0  \n",
       "3     0.0                     0                   0  \n",
       "4     0.0                     0                   0  \n",
       "5     0.0                     0                   0  "
      ]
     },
     "execution_count": 46,
     "metadata": {},
     "output_type": "execute_result"
    }
   ],
   "source": [
    "data.loc[data['URL_TA'][0]:5]"
   ]
  },
  {
   "cell_type": "code",
   "execution_count": 47,
   "metadata": {
    "execution": {
     "iopub.execute_input": "2021-05-25T21:01:12.789071Z",
     "iopub.status.busy": "2021-05-25T21:01:12.788784Z",
     "iopub.status.idle": "2021-05-25T21:01:12.795296Z",
     "shell.execute_reply": "2021-05-25T21:01:12.794387Z",
     "shell.execute_reply.started": "2021-05-25T21:01:12.789014Z"
    }
   },
   "outputs": [
    {
     "data": {
      "text/plain": [
       "'/Restaurant_Review-g187147-d10746918-Reviews-Le_Perchoir-Paris_Ile_de_France.html'"
      ]
     },
     "execution_count": 47,
     "metadata": {},
     "output_type": "execute_result"
    }
   ],
   "source": [
    "data['URL_TA'][0]"
   ]
  },
  {
   "cell_type": "code",
   "execution_count": 48,
   "metadata": {
    "execution": {
     "iopub.execute_input": "2021-05-25T21:01:12.797827Z",
     "iopub.status.busy": "2021-05-25T21:01:12.797493Z",
     "iopub.status.idle": "2021-05-25T21:01:12.807656Z",
     "shell.execute_reply": "2021-05-25T21:01:12.806669Z",
     "shell.execute_reply.started": "2021-05-25T21:01:12.797774Z"
    }
   },
   "outputs": [
    {
     "data": {
      "text/plain": [
       "'/Restaurant_Review-g189934-d6674944-Reviews-Ravintola_Kolmon3n-Helsinki_Uusimaa.html'"
      ]
     },
     "execution_count": 48,
     "metadata": {},
     "output_type": "execute_result"
    }
   ],
   "source": [
    "data['URL_TA'][1]"
   ]
  },
  {
   "cell_type": "markdown",
   "metadata": {},
   "source": [
    "url ресторана состоит из двух закодированных величин. \n",
    "\n",
    "Первая, судя по совпадениям, означает город, вторая совпадает с id_ta. \n",
    "\n",
    "Не ясно, зачем нам может понадобиться код города. \n",
    "Возможно, имеет смысл вместо города из столбца City использовать код, но пока в этом нет необходимости."
   ]
  },
  {
   "cell_type": "markdown",
   "metadata": {},
   "source": [
    "### Исcледуем 'Cuisine Style'"
   ]
  },
  {
   "cell_type": "code",
   "execution_count": 49,
   "metadata": {
    "execution": {
     "iopub.execute_input": "2021-05-25T21:01:12.809458Z",
     "iopub.status.busy": "2021-05-25T21:01:12.809180Z",
     "iopub.status.idle": "2021-05-25T21:01:12.818467Z",
     "shell.execute_reply": "2021-05-25T21:01:12.817444Z",
     "shell.execute_reply.started": "2021-05-25T21:01:12.809414Z"
    }
   },
   "outputs": [
    {
     "data": {
      "text/plain": [
       "str"
      ]
     },
     "execution_count": 49,
     "metadata": {},
     "output_type": "execute_result"
    }
   ],
   "source": [
    "type(data['Cuisine Style'][0])"
   ]
  },
  {
   "cell_type": "code",
   "execution_count": 50,
   "metadata": {
    "execution": {
     "iopub.execute_input": "2021-05-25T21:01:12.820585Z",
     "iopub.status.busy": "2021-05-25T21:01:12.820159Z",
     "iopub.status.idle": "2021-05-25T21:01:12.832338Z",
     "shell.execute_reply": "2021-05-25T21:01:12.831712Z",
     "shell.execute_reply.started": "2021-05-25T21:01:12.820521Z"
    }
   },
   "outputs": [
    {
     "data": {
      "text/plain": [
       "11590"
      ]
     },
     "execution_count": 50,
     "metadata": {},
     "output_type": "execute_result"
    }
   ],
   "source": [
    "data['Cuisine Style'].isnull().sum()"
   ]
  },
  {
   "cell_type": "markdown",
   "metadata": {},
   "source": [
    "Строковый тип.\n",
    "11590 пустых значений. \n",
    "\n",
    "Вынесем их в отдельный признак. \n",
    "Пустые значения в типе кухни заменим на значение \"Unknown\"."
   ]
  },
  {
   "cell_type": "code",
   "execution_count": 51,
   "metadata": {
    "execution": {
     "iopub.execute_input": "2021-05-25T21:01:12.833790Z",
     "iopub.status.busy": "2021-05-25T21:01:12.833521Z",
     "iopub.status.idle": "2021-05-25T21:01:12.848750Z",
     "shell.execute_reply": "2021-05-25T21:01:12.847865Z",
     "shell.execute_reply.started": "2021-05-25T21:01:12.833749Z"
    }
   },
   "outputs": [],
   "source": [
    "# Заполним пропуски значением 'Other':\n",
    "\n",
    "data['Cuisine Style'] = data['Cuisine Style'].fillna('Other')"
   ]
  },
  {
   "cell_type": "code",
   "execution_count": 52,
   "metadata": {
    "execution": {
     "iopub.execute_input": "2021-05-25T21:01:12.850564Z",
     "iopub.status.busy": "2021-05-25T21:01:12.850092Z",
     "iopub.status.idle": "2021-05-25T21:01:12.965270Z",
     "shell.execute_reply": "2021-05-25T21:01:12.964575Z",
     "shell.execute_reply.started": "2021-05-25T21:01:12.850520Z"
    }
   },
   "outputs": [],
   "source": [
    "# Превратим перечисление кухонь в список:\n",
    "\n",
    "for i in ['\\'', '[', ']']:\n",
    "    data['Cuisine Style'] = data['Cuisine Style'].apply(\n",
    "        lambda x: x.replace(i, ''))\n",
    "\n",
    "data['Cuisine Style'] = data['Cuisine Style'].apply(lambda x: x.split(', '))"
   ]
  },
  {
   "cell_type": "code",
   "execution_count": 53,
   "metadata": {
    "execution": {
     "iopub.execute_input": "2021-05-25T21:01:12.966580Z",
     "iopub.status.busy": "2021-05-25T21:01:12.966248Z",
     "iopub.status.idle": "2021-05-25T21:01:13.174952Z",
     "shell.execute_reply": "2021-05-25T21:01:13.174416Z",
     "shell.execute_reply.started": "2021-05-25T21:01:12.966545Z"
    }
   },
   "outputs": [
    {
     "data": {
      "text/plain": [
       "Vegetarian Friendly    14021\n",
       "European               12561\n",
       "Other                  11590\n",
       "Mediterranean           7820\n",
       "Italian                 7433\n",
       "                       ...  \n",
       "Polynesian                 2\n",
       "Burmese                    1\n",
       "Latvian                    1\n",
       "Salvadoran                 1\n",
       "Xinjiang                   1\n",
       "Name: Cuisine Style, Length: 126, dtype: int64"
      ]
     },
     "metadata": {},
     "output_type": "display_data"
    }
   ],
   "source": [
    "# Посмотрим сколько всего получилось кухонь:\n",
    "\n",
    "Cusines_count = data['Cuisine Style'].explode().value_counts()\n",
    "\n",
    "display(Cusines_count)"
   ]
  },
  {
   "cell_type": "code",
   "execution_count": 54,
   "metadata": {
    "execution": {
     "iopub.execute_input": "2021-05-25T21:01:13.176160Z",
     "iopub.status.busy": "2021-05-25T21:01:13.175850Z",
     "iopub.status.idle": "2021-05-25T21:01:13.280275Z",
     "shell.execute_reply": "2021-05-25T21:01:13.279395Z",
     "shell.execute_reply.started": "2021-05-25T21:01:13.176127Z"
    }
   },
   "outputs": [],
   "source": [
    "# 126 типов кухонь, некоторые из которых встречаются всего несколько раз, это слишком много.\n",
    "# Составим список самых редких кухонь (первый квартиль списка кухонь):\n",
    "\n",
    "not_pop_cousine = []\n",
    "\n",
    "for i in range(len(Cusines_count)):\n",
    "    if Cusines_count[i] < Cusines_count.quantile(0.25):\n",
    "        not_pop_cousine.append(Cusines_count.index[i])"
   ]
  },
  {
   "cell_type": "code",
   "execution_count": 55,
   "metadata": {
    "execution": {
     "iopub.execute_input": "2021-05-25T21:01:13.281861Z",
     "iopub.status.busy": "2021-05-25T21:01:13.281423Z",
     "iopub.status.idle": "2021-05-25T21:01:13.488682Z",
     "shell.execute_reply": "2021-05-25T21:01:13.488013Z",
     "shell.execute_reply.started": "2021-05-25T21:01:13.281795Z"
    }
   },
   "outputs": [],
   "source": [
    "# Заменим все редкие кухни на 'Other' и, если в одном ресторане станет несколько кухонь с одинаковым значением,\n",
    "# объединим их в одну:\n",
    "\n",
    "def replace_cousines(cousines):\n",
    "    for i in range(len(cousines)):\n",
    "        if cousines[i] in not_pop_cousine:\n",
    "            cousines[i] = 'Other'\n",
    "    return list(set(cousines))\n",
    "\n",
    "data['Cuisine Style'] = data['Cuisine Style'].apply(replace_cousines)"
   ]
  },
  {
   "cell_type": "markdown",
   "metadata": {},
   "source": [
    "### Исследуем 'Reviews'"
   ]
  },
  {
   "cell_type": "code",
   "execution_count": 56,
   "metadata": {
    "execution": {
     "iopub.execute_input": "2021-05-25T21:01:13.489903Z",
     "iopub.status.busy": "2021-05-25T21:01:13.489582Z",
     "iopub.status.idle": "2021-05-25T21:01:13.497562Z",
     "shell.execute_reply": "2021-05-25T21:01:13.496812Z",
     "shell.execute_reply.started": "2021-05-25T21:01:13.489868Z"
    }
   },
   "outputs": [
    {
     "data": {
      "text/plain": [
       "2"
      ]
     },
     "execution_count": 56,
     "metadata": {},
     "output_type": "execute_result"
    }
   ],
   "source": [
    "data['Reviews'].isnull().sum()"
   ]
  },
  {
   "cell_type": "code",
   "execution_count": 57,
   "metadata": {
    "execution": {
     "iopub.execute_input": "2021-05-25T21:01:13.499004Z",
     "iopub.status.busy": "2021-05-25T21:01:13.498700Z",
     "iopub.status.idle": "2021-05-25T21:01:13.548081Z",
     "shell.execute_reply": "2021-05-25T21:01:13.547254Z",
     "shell.execute_reply.started": "2021-05-25T21:01:13.498944Z"
    }
   },
   "outputs": [
    {
     "data": {
      "text/plain": [
       "[[], []]                                                                                                                              8112\n",
       "[['Very cozy!', 'Service rate: 1'], ['01/17/2016', '11/18/2015']]                                                                        2\n",
       "[['Excellent cuisine, friendly and helpful se...', 'Not tasty'], ['12/25/2016', '06/05/2016']]                                           2\n",
       "[['Fantastic food, Excellent service', 'Surprising good Indian food in Spain'], ['01/07/2018', '11/08/2017']]                            2\n",
       "[['Whenever in Madrid, we never miss this gem...', 'Underrated sushi restaurant with very good...'], ['04/11/2017', '12/02/2016']]       2\n",
       "                                                                                                                                      ... \n",
       "[['Sooo good!', 'The place to be!'], ['11/11/2017', '04/29/2016']]                                                                       1\n",
       "[['Excellent cocktails', 'Friendly service, good prices'], ['01/03/2018', '08/28/2017']]                                                 1\n",
       "[['Great lively fish restaurant', 'Lively restaurant, great food and good val...'], ['12/17/2017', '10/19/2017']]                        1\n",
       "[['Great place to enjoy a good meal', 'Bad example in Paris'], ['01/07/2017', '11/17/2016']]                                             1\n",
       "[['Lunch', 'Excellent for lunch/brunch'], ['06/12/2017', '07/02/2016']]                                                                  1\n",
       "Name: Reviews, Length: 41857, dtype: int64"
      ]
     },
     "execution_count": 57,
     "metadata": {},
     "output_type": "execute_result"
    }
   ],
   "source": [
    "data['Reviews'].value_counts()"
   ]
  },
  {
   "cell_type": "markdown",
   "metadata": {},
   "source": [
    "Признак Reviews состоит из текстового отзыва и даты. \n",
    "\n",
    "Есть два пропуска явных и 8112 пропусков не явных, не имеющих внутри ничего кроме скобок. Отсутствие отзыва может быть важным для модели. \n",
    "\n",
    "Вынесем все отзывы в отдельных признак."
   ]
  },
  {
   "cell_type": "code",
   "execution_count": 58,
   "metadata": {
    "execution": {
     "iopub.execute_input": "2021-05-25T21:01:13.550454Z",
     "iopub.status.busy": "2021-05-25T21:01:13.550032Z",
     "iopub.status.idle": "2021-05-25T21:01:13.561280Z",
     "shell.execute_reply": "2021-05-25T21:01:13.559945Z",
     "shell.execute_reply.started": "2021-05-25T21:01:13.550366Z"
    }
   },
   "outputs": [],
   "source": [
    "data['review_is_NAN'] = (data['Reviews'] == '[[], []]').astype('uint8')"
   ]
  },
  {
   "cell_type": "code",
   "execution_count": 59,
   "metadata": {
    "execution": {
     "iopub.execute_input": "2021-05-25T21:01:13.563233Z",
     "iopub.status.busy": "2021-05-25T21:01:13.562798Z",
     "iopub.status.idle": "2021-05-25T21:01:13.580929Z",
     "shell.execute_reply": "2021-05-25T21:01:13.579770Z",
     "shell.execute_reply.started": "2021-05-25T21:01:13.563149Z"
    }
   },
   "outputs": [],
   "source": [
    "data['review_is_NAN'] = pd.isna(data['Reviews']).astype('uint8')"
   ]
  },
  {
   "cell_type": "code",
   "execution_count": 60,
   "metadata": {
    "execution": {
     "iopub.execute_input": "2021-05-25T21:01:13.582923Z",
     "iopub.status.busy": "2021-05-25T21:01:13.582561Z",
     "iopub.status.idle": "2021-05-25T21:01:13.747101Z",
     "shell.execute_reply": "2021-05-25T21:01:13.746339Z",
     "shell.execute_reply.started": "2021-05-25T21:01:13.582855Z"
    }
   },
   "outputs": [],
   "source": [
    "# Выделим дату отзыва.\n",
    "data['date_of_review'] = data['Reviews'].apply(\n",
    "    lambda x: [0] if pd.isna(x) else x[2:-2].split('], [')[1][1:-1].split(\"', '\"))"
   ]
  },
  {
   "cell_type": "code",
   "execution_count": 61,
   "metadata": {
    "execution": {
     "iopub.execute_input": "2021-05-25T21:01:13.748639Z",
     "iopub.status.busy": "2021-05-25T21:01:13.748440Z",
     "iopub.status.idle": "2021-05-25T21:02:02.121342Z",
     "shell.execute_reply": "2021-05-25T21:02:02.120365Z",
     "shell.execute_reply.started": "2021-05-25T21:01:13.748609Z"
    }
   },
   "outputs": [],
   "source": [
    "# Добавим признак кол-ва дней между отзывами.\n",
    "data['days_between_reviews'] = data.date_of_review.apply(lambda x: None if x == [] \n",
    "                                                         else pd.to_datetime(x).max() - pd.to_datetime(x).min())"
   ]
  },
  {
   "cell_type": "code",
   "execution_count": 62,
   "metadata": {
    "execution": {
     "iopub.execute_input": "2021-05-25T21:02:02.123240Z",
     "iopub.status.busy": "2021-05-25T21:02:02.122875Z",
     "iopub.status.idle": "2021-05-25T21:02:02.138448Z",
     "shell.execute_reply": "2021-05-25T21:02:02.137352Z",
     "shell.execute_reply.started": "2021-05-25T21:02:02.123163Z"
    }
   },
   "outputs": [
    {
     "data": {
      "text/plain": [
       "count                       41888\n",
       "mean     123 days 05:05:55.462184\n",
       "std      212 days 14:08:22.315988\n",
       "min               0 days 00:00:00\n",
       "25%               8 days 00:00:00\n",
       "50%              49 days 00:00:00\n",
       "75%             148 days 00:00:00\n",
       "max            3296 days 00:00:00\n",
       "Name: days_between_reviews, dtype: object"
      ]
     },
     "execution_count": 62,
     "metadata": {},
     "output_type": "execute_result"
    }
   ],
   "source": [
    "# посмторим на показатели\n",
    "\n",
    "data.days_between_reviews.describe()"
   ]
  },
  {
   "cell_type": "markdown",
   "metadata": {},
   "source": [
    "Максимальный интервал между отзывами: 3296 дней. \n",
    "\n",
    "Переведем значения в числа и посмотрим выбросы."
   ]
  },
  {
   "cell_type": "code",
   "execution_count": 63,
   "metadata": {
    "execution": {
     "iopub.execute_input": "2021-05-25T21:02:02.140282Z",
     "iopub.status.busy": "2021-05-25T21:02:02.139895Z",
     "iopub.status.idle": "2021-05-25T21:02:02.499143Z",
     "shell.execute_reply": "2021-05-25T21:02:02.498393Z",
     "shell.execute_reply.started": "2021-05-25T21:02:02.140107Z"
    }
   },
   "outputs": [],
   "source": [
    "data['days_between_reviews'] = data['days_between_reviews'].apply(lambda x: x.days)"
   ]
  },
  {
   "cell_type": "code",
   "execution_count": 64,
   "metadata": {
    "execution": {
     "iopub.execute_input": "2021-05-25T21:02:02.500494Z",
     "iopub.status.busy": "2021-05-25T21:02:02.500157Z",
     "iopub.status.idle": "2021-05-25T21:02:03.160482Z",
     "shell.execute_reply": "2021-05-25T21:02:03.159452Z",
     "shell.execute_reply.started": "2021-05-25T21:02:02.500459Z"
    }
   },
   "outputs": [
    {
     "name": "stdout",
     "output_type": "stream",
     "text": [
      "Q1: 8.0\n",
      "Q3: 148.0\n",
      "IQR: 140.0 \n",
      "Граница выбросов: [-202.0, 358.0]\n"
     ]
    },
    {
     "data": {
      "text/plain": [
       "0"
      ]
     },
     "execution_count": 64,
     "metadata": {},
     "output_type": "execute_result"
    },
    {
     "data": {
      "image/png": "[encoded data removed]",
      "text/plain": [
       "<Figure size 1080x360 with 2 Axes>"
      ]
     },
     "metadata": {
      "needs_background": "light"
     },
     "output_type": "display_data"
    }
   ],
   "source": [
    "# посмотрим распределение и возможные выбросы\n",
    "\n",
    "show_IQR(data, 'days_between_reviews', 100)"
   ]
  },
  {
   "cell_type": "code",
   "execution_count": 65,
   "metadata": {
    "execution": {
     "iopub.execute_input": "2021-05-25T21:02:03.162672Z",
     "iopub.status.busy": "2021-05-25T21:02:03.162096Z",
     "iopub.status.idle": "2021-05-25T21:02:03.213108Z",
     "shell.execute_reply": "2021-05-25T21:02:03.212156Z",
     "shell.execute_reply.started": "2021-05-25T21:02:03.162608Z"
    }
   },
   "outputs": [
    {
     "data": {
      "text/plain": [
       "3393"
      ]
     },
     "execution_count": 65,
     "metadata": {},
     "output_type": "execute_result"
    }
   ],
   "source": [
    "len(data.query('days_between_reviews > 365'))"
   ]
  },
  {
   "cell_type": "markdown",
   "metadata": {},
   "source": [
    "Между отзывами прошло больше года в 3393-х случаях. \n",
    "\n",
    "У распределения очень длинный хвост вправо - падает практически до нуля при значениях больше 1000.\n",
    "\n",
    "Имеет смысл больше трёх лет (1095 дней) не учитывать отдельно, а добавить к трёхлетним значениям."
   ]
  },
  {
   "cell_type": "code",
   "execution_count": 66,
   "metadata": {
    "execution": {
     "iopub.execute_input": "2021-05-25T21:02:03.215263Z",
     "iopub.status.busy": "2021-05-25T21:02:03.214689Z",
     "iopub.status.idle": "2021-05-25T21:02:03.228349Z",
     "shell.execute_reply": "2021-05-25T21:02:03.227660Z",
     "shell.execute_reply.started": "2021-05-25T21:02:03.215192Z"
    }
   },
   "outputs": [
    {
     "data": {
      "text/plain": [
       "385"
      ]
     },
     "execution_count": 66,
     "metadata": {},
     "output_type": "execute_result"
    }
   ],
   "source": [
    "len(data.query('days_between_reviews > 1095'))"
   ]
  },
  {
   "cell_type": "code",
   "execution_count": 67,
   "metadata": {
    "execution": {
     "iopub.execute_input": "2021-05-25T21:02:03.229780Z",
     "iopub.status.busy": "2021-05-25T21:02:03.229417Z",
     "iopub.status.idle": "2021-05-25T21:02:03.247300Z",
     "shell.execute_reply": "2021-05-25T21:02:03.246601Z",
     "shell.execute_reply.started": "2021-05-25T21:02:03.229745Z"
    }
   },
   "outputs": [],
   "source": [
    "data.days_between_reviews = data.days_between_reviews.apply(lambda x: 1095 if x > 1095 else x)"
   ]
  },
  {
   "cell_type": "code",
   "execution_count": 68,
   "metadata": {
    "execution": {
     "iopub.execute_input": "2021-05-25T21:02:03.249005Z",
     "iopub.status.busy": "2021-05-25T21:02:03.248641Z",
     "iopub.status.idle": "2021-05-25T21:02:03.253799Z",
     "shell.execute_reply": "2021-05-25T21:02:03.253276Z",
     "shell.execute_reply.started": "2021-05-25T21:02:03.248860Z"
    }
   },
   "outputs": [
    {
     "data": {
      "text/plain": [
       "8112"
      ]
     },
     "execution_count": 68,
     "metadata": {},
     "output_type": "execute_result"
    }
   ],
   "source": [
    "data.days_between_reviews.isnull().sum()"
   ]
  },
  {
   "cell_type": "code",
   "execution_count": 69,
   "metadata": {
    "execution": {
     "iopub.execute_input": "2021-05-25T21:02:03.255178Z",
     "iopub.status.busy": "2021-05-25T21:02:03.254784Z",
     "iopub.status.idle": "2021-05-25T21:02:03.275240Z",
     "shell.execute_reply": "2021-05-25T21:02:03.274477Z",
     "shell.execute_reply.started": "2021-05-25T21:02:03.255140Z"
    }
   },
   "outputs": [
    {
     "data": {
      "text/plain": [
       "count    41888.000000\n",
       "mean       119.478180\n",
       "std        185.985765\n",
       "min          0.000000\n",
       "25%          8.000000\n",
       "50%         49.000000\n",
       "75%        148.000000\n",
       "max       1095.000000\n",
       "Name: days_between_reviews, dtype: float64"
      ]
     },
     "execution_count": 69,
     "metadata": {},
     "output_type": "execute_result"
    }
   ],
   "source": [
    "data.days_between_reviews.describe()"
   ]
  },
  {
   "cell_type": "markdown",
   "metadata": {},
   "source": [
    "Заполним пропуски медианой."
   ]
  },
  {
   "cell_type": "code",
   "execution_count": 70,
   "metadata": {
    "execution": {
     "iopub.execute_input": "2021-05-25T21:02:03.276790Z",
     "iopub.status.busy": "2021-05-25T21:02:03.276419Z",
     "iopub.status.idle": "2021-05-25T21:02:03.281908Z",
     "shell.execute_reply": "2021-05-25T21:02:03.281248Z",
     "shell.execute_reply.started": "2021-05-25T21:02:03.276750Z"
    }
   },
   "outputs": [],
   "source": [
    "data.days_between_reviews = data.days_between_reviews.fillna(data.days_between_reviews.median())"
   ]
  },
  {
   "cell_type": "code",
   "execution_count": 71,
   "metadata": {
    "execution": {
     "iopub.execute_input": "2021-05-25T21:02:03.283346Z",
     "iopub.status.busy": "2021-05-25T21:02:03.283008Z",
     "iopub.status.idle": "2021-05-25T21:02:03.294857Z",
     "shell.execute_reply": "2021-05-25T21:02:03.293753Z",
     "shell.execute_reply.started": "2021-05-25T21:02:03.283312Z"
    }
   },
   "outputs": [
    {
     "data": {
      "text/plain": [
       "0"
      ]
     },
     "execution_count": 71,
     "metadata": {},
     "output_type": "execute_result"
    }
   ],
   "source": [
    "# Проверим\n",
    "data.days_between_reviews.isnull().sum()"
   ]
  },
  {
   "cell_type": "markdown",
   "metadata": {},
   "source": [
    "Добавим еще один признак - кол-во дней с последнего отзыва до настоящего момента."
   ]
  },
  {
   "cell_type": "code",
   "execution_count": 72,
   "metadata": {
    "execution": {
     "iopub.execute_input": "2021-05-25T21:02:03.296702Z",
     "iopub.status.busy": "2021-05-25T21:02:03.296123Z",
     "iopub.status.idle": "2021-05-25T21:02:28.690576Z",
     "shell.execute_reply": "2021-05-25T21:02:28.689419Z",
     "shell.execute_reply.started": "2021-05-25T21:02:03.296634Z"
    }
   },
   "outputs": [],
   "source": [
    "data['days_tillnow'] = data.date_of_review.apply(\n",
    "    lambda x: None if x == [] else datetime.now() - pd.to_datetime(x).max())"
   ]
  },
  {
   "cell_type": "code",
   "execution_count": 73,
   "metadata": {
    "execution": {
     "iopub.execute_input": "2021-05-25T21:02:28.692116Z",
     "iopub.status.busy": "2021-05-25T21:02:28.691869Z",
     "iopub.status.idle": "2021-05-25T21:02:28.698911Z",
     "shell.execute_reply": "2021-05-25T21:02:28.698002Z",
     "shell.execute_reply.started": "2021-05-25T21:02:28.692074Z"
    }
   },
   "outputs": [
    {
     "data": {
      "text/plain": [
       "8112"
      ]
     },
     "execution_count": 73,
     "metadata": {},
     "output_type": "execute_result"
    }
   ],
   "source": [
    "data.days_tillnow.isnull().sum()"
   ]
  },
  {
   "cell_type": "code",
   "execution_count": 74,
   "metadata": {
    "execution": {
     "iopub.execute_input": "2021-05-25T21:02:28.700464Z",
     "iopub.status.busy": "2021-05-25T21:02:28.700185Z",
     "iopub.status.idle": "2021-05-25T21:02:28.715695Z",
     "shell.execute_reply": "2021-05-25T21:02:28.714841Z",
     "shell.execute_reply.started": "2021-05-25T21:02:28.700391Z"
    }
   },
   "outputs": [],
   "source": [
    "# Заменим пропуски на среднее\n",
    "data.days_tillnow = data.days_tillnow.fillna(data.days_tillnow.mean())"
   ]
  },
  {
   "cell_type": "markdown",
   "metadata": {},
   "source": [
    "### Посмотрим распределение признака"
   ]
  },
  {
   "cell_type": "code",
   "execution_count": 75,
   "metadata": {
    "execution": {
     "iopub.execute_input": "2021-05-25T21:02:28.717546Z",
     "iopub.status.busy": "2021-05-25T21:02:28.717048Z",
     "iopub.status.idle": "2021-05-25T21:02:29.147829Z",
     "shell.execute_reply": "2021-05-25T21:02:29.146917Z",
     "shell.execute_reply.started": "2021-05-25T21:02:28.717491Z"
    }
   },
   "outputs": [
    {
     "data": {
      "text/plain": [
       "<matplotlib.axes._subplots.AxesSubplot at 0x7f3eff3d0048>"
      ]
     },
     "execution_count": 75,
     "metadata": {},
     "output_type": "execute_result"
    },
    {
     "data": {
      "image/png": "[encoded data removed]",
      "text/plain": [
       "<Figure size 720x504 with 1 Axes>"
      ]
     },
     "metadata": {
      "needs_background": "light"
     },
     "output_type": "display_data"
    }
   ],
   "source": [
    "plt.rcParams['figure.figsize'] = (10,7)\n",
    "df_train['Ranking'].hist(bins=100)"
   ]
  },
  {
   "cell_type": "markdown",
   "metadata": {},
   "source": [
    "У нас много ресторанов, которые не дотягивают и до 2500 места в своем городе, а что там по городам?"
   ]
  },
  {
   "cell_type": "code",
   "execution_count": 76,
   "metadata": {
    "execution": {
     "iopub.execute_input": "2021-05-25T21:02:29.149833Z",
     "iopub.status.busy": "2021-05-25T21:02:29.149306Z",
     "iopub.status.idle": "2021-05-25T21:02:29.560118Z",
     "shell.execute_reply": "2021-05-25T21:02:29.559185Z",
     "shell.execute_reply.started": "2021-05-25T21:02:29.149777Z"
    }
   },
   "outputs": [
    {
     "data": {
      "text/plain": [
       "<matplotlib.axes._subplots.AxesSubplot at 0x7f3eff326748>"
      ]
     },
     "execution_count": 76,
     "metadata": {},
     "output_type": "execute_result"
    },
    {
     "data": {
      "image/png": "[encoded data removed]",
      "text/plain": [
       "<Figure size 720x504 with 1 Axes>"
      ]
     },
     "metadata": {
      "needs_background": "light"
     },
     "output_type": "display_data"
    }
   ],
   "source": [
    "df_train['City'].value_counts(ascending=True).plot(kind='barh')"
   ]
  },
  {
   "cell_type": "markdown",
   "metadata": {},
   "source": [
    "А кто-то говорил, что французы любят поесть=) Посмотрим, как изменится распределение в большом городе:"
   ]
  },
  {
   "cell_type": "code",
   "execution_count": 77,
   "metadata": {
    "execution": {
     "iopub.execute_input": "2021-05-25T21:02:29.562141Z",
     "iopub.status.busy": "2021-05-25T21:02:29.561626Z",
     "iopub.status.idle": "2021-05-25T21:02:29.993175Z",
     "shell.execute_reply": "2021-05-25T21:02:29.992275Z",
     "shell.execute_reply.started": "2021-05-25T21:02:29.562085Z"
    }
   },
   "outputs": [
    {
     "data": {
      "text/plain": [
       "<matplotlib.axes._subplots.AxesSubplot at 0x7f3eff21c6d8>"
      ]
     },
     "execution_count": 77,
     "metadata": {},
     "output_type": "execute_result"
    },
    {
     "data": {
      "image/png": "[encoded data removed]",
      "text/plain": [
       "<Figure size 720x504 with 1 Axes>"
      ]
     },
     "metadata": {
      "needs_background": "light"
     },
     "output_type": "display_data"
    }
   ],
   "source": [
    "df_train['Ranking'][df_train['City'] =='London'].hist(bins=100)"
   ]
  },
  {
   "cell_type": "code",
   "execution_count": 78,
   "metadata": {
    "execution": {
     "iopub.execute_input": "2021-05-25T21:02:29.995156Z",
     "iopub.status.busy": "2021-05-25T21:02:29.994645Z",
     "iopub.status.idle": "2021-05-25T21:02:32.181012Z",
     "shell.execute_reply": "2021-05-25T21:02:32.179994Z",
     "shell.execute_reply.started": "2021-05-25T21:02:29.995101Z"
    }
   },
   "outputs": [
    {
     "data": {
      "image/png": "[encoded data removed]",
      "text/plain": [
       "<Figure size 720x504 with 1 Axes>"
      ]
     },
     "metadata": {
      "needs_background": "light"
     },
     "output_type": "display_data"
    }
   ],
   "source": [
    "# посмотрим на топ 10 городов\n",
    "for x in (df_train['City'].value_counts())[0:10].index:\n",
    "    df_train['Ranking'][df_train['City'] == x].hist(bins=100)\n",
    "plt.show()"
   ]
  },
  {
   "cell_type": "markdown",
   "metadata": {},
   "source": [
    "Получается, что Ranking имеет нормальное распределение, просто в больших городах больше ресторанов, из-за мы этого имеем смещение.\n",
    "\n",
    ">Подумайте как из этого можно сделать признак для вашей модели. Я покажу вам пример, как визуализация помогает находить взаимосвязи. А далее действуйте без подсказок =) \n"
   ]
  },
  {
   "cell_type": "markdown",
   "metadata": {},
   "source": [
    "### Посмотрим распределение целевой переменной"
   ]
  },
  {
   "cell_type": "code",
   "execution_count": 79,
   "metadata": {
    "execution": {
     "iopub.execute_input": "2021-05-25T21:02:32.183218Z",
     "iopub.status.busy": "2021-05-25T21:02:32.182643Z",
     "iopub.status.idle": "2021-05-25T21:02:32.456519Z",
     "shell.execute_reply": "2021-05-25T21:02:32.455891Z",
     "shell.execute_reply.started": "2021-05-25T21:02:32.183160Z"
    }
   },
   "outputs": [
    {
     "data": {
      "text/plain": [
       "<matplotlib.axes._subplots.AxesSubplot at 0x7f3efee03a58>"
      ]
     },
     "execution_count": 79,
     "metadata": {},
     "output_type": "execute_result"
    },
    {
     "data": {
      "image/png": "[encoded data removed]",
      "text/plain": [
       "<Figure size 720x504 with 1 Axes>"
      ]
     },
     "metadata": {
      "needs_background": "light"
     },
     "output_type": "display_data"
    }
   ],
   "source": [
    "df_train['Rating'].value_counts(ascending=True).plot(kind='barh')"
   ]
  },
  {
   "cell_type": "markdown",
   "metadata": {},
   "source": [
    "### Посмотрим распределение целевой переменной относительно признака"
   ]
  },
  {
   "cell_type": "code",
   "execution_count": 80,
   "metadata": {
    "execution": {
     "iopub.execute_input": "2021-05-25T21:02:32.458553Z",
     "iopub.status.busy": "2021-05-25T21:02:32.457945Z",
     "iopub.status.idle": "2021-05-25T21:02:32.928706Z",
     "shell.execute_reply": "2021-05-25T21:02:32.927909Z",
     "shell.execute_reply.started": "2021-05-25T21:02:32.458491Z"
    }
   },
   "outputs": [
    {
     "data": {
      "text/plain": [
       "<matplotlib.axes._subplots.AxesSubplot at 0x7f3eff2521d0>"
      ]
     },
     "execution_count": 80,
     "metadata": {},
     "output_type": "execute_result"
    },
    {
     "data": {
      "image/png": "[encoded data removed]",
      "text/plain": [
       "<Figure size 720x504 with 1 Axes>"
      ]
     },
     "metadata": {
      "needs_background": "light"
     },
     "output_type": "display_data"
    }
   ],
   "source": [
    "df_train['Ranking'][df_train['Rating'] == 5].hist(bins=100)"
   ]
  },
  {
   "cell_type": "code",
   "execution_count": 81,
   "metadata": {
    "execution": {
     "iopub.execute_input": "2021-05-25T21:02:32.930762Z",
     "iopub.status.busy": "2021-05-25T21:02:32.930176Z",
     "iopub.status.idle": "2021-05-25T21:02:33.281162Z",
     "shell.execute_reply": "2021-05-25T21:02:33.280445Z",
     "shell.execute_reply.started": "2021-05-25T21:02:32.930705Z"
    }
   },
   "outputs": [
    {
     "data": {
      "text/plain": [
       "<matplotlib.axes._subplots.AxesSubplot at 0x7f3efe6db6a0>"
      ]
     },
     "execution_count": 81,
     "metadata": {},
     "output_type": "execute_result"
    },
    {
     "data": {
      "image/png": "[encoded data removed]",
      "text/plain": [
       "<Figure size 720x504 with 1 Axes>"
      ]
     },
     "metadata": {
      "needs_background": "light"
     },
     "output_type": "display_data"
    }
   ],
   "source": [
    "df_train['Ranking'][df_train['Rating'] < 4].hist(bins=100)"
   ]
  },
  {
   "cell_type": "markdown",
   "metadata": {},
   "source": [
    "### И один из моих любимых - [корреляция признаков](https://ru.wikipedia.org/wiki/Корреляция)\n",
    "На этом графике уже сейчас вы сможете заметить, как признаки связаны между собой и с целевой переменной."
   ]
  },
  {
   "cell_type": "code",
   "execution_count": 82,
   "metadata": {
    "execution": {
     "iopub.execute_input": "2021-05-25T21:02:33.283041Z",
     "iopub.status.busy": "2021-05-25T21:02:33.282595Z",
     "iopub.status.idle": "2021-05-25T21:02:33.683298Z",
     "shell.execute_reply": "2021-05-25T21:02:33.682477Z",
     "shell.execute_reply.started": "2021-05-25T21:02:33.282864Z"
    }
   },
   "outputs": [
    {
     "data": {
      "text/plain": [
       "<matplotlib.axes._subplots.AxesSubplot at 0x7f3eff8889b0>"
      ]
     },
     "execution_count": 82,
     "metadata": {},
     "output_type": "execute_result"
    },
    {
     "data": {
      "image/png": "[encoded data removed]",
      "text/plain": [
       "<Figure size 1080x720 with 2 Axes>"
      ]
     },
     "metadata": {
      "needs_background": "light"
     },
     "output_type": "display_data"
    }
   ],
   "source": [
    "plt.rcParams['figure.figsize'] = (15,10)\n",
    "sns.heatmap(data.drop(['sample'], axis=1).corr(),)"
   ]
  },
  {
   "cell_type": "markdown",
   "metadata": {},
   "source": [
    "Добавим несколько признаков, которые могут улучшить работу нашей модели."
   ]
  },
  {
   "cell_type": "code",
   "execution_count": 83,
   "metadata": {
    "execution": {
     "iopub.execute_input": "2021-05-25T21:02:33.685186Z",
     "iopub.status.busy": "2021-05-25T21:02:33.684847Z",
     "iopub.status.idle": "2021-05-25T21:02:33.699779Z",
     "shell.execute_reply": "2021-05-25T21:02:33.698557Z",
     "shell.execute_reply.started": "2021-05-25T21:02:33.685131Z"
    }
   },
   "outputs": [],
   "source": [
    "# Добавим признак - численность население (по данным из Википедии)\n",
    "\n",
    "population = {\n",
    "    'London' : 8909081,\n",
    "    'Paris' : 2148271,\n",
    "    'Madrid' : 3223334,\n",
    "    'Barcelona' : 1620343,\n",
    "    'Berlin' : 3769495,\n",
    "    'Milan' : 1399860,\n",
    "    'Rome' : 2860009,\n",
    "    'Prague' : 1324277,\n",
    "    'Lisbon' : 505526,\n",
    "    'Vienna' : 2600000,\n",
    "    'Amsterdam' : 872680,\n",
    "    'Brussels' : 1208542,\n",
    "    'Hamburg' : 1845229,\n",
    "    'Munich' : 1484226,\n",
    "    'Lyon' : 516092,\n",
    "    'Stockholm' : 975904,\n",
    "    'Budapest' : 1752286,\n",
    "    'Warsaw' : 1793579,\n",
    "    'Dublin' : 554554,\n",
    "    'Copenhagen' : 794128,\n",
    "    'Athens' : 664046,\n",
    "    'Edinburgh' : 488050, \n",
    "    'Zurich' : 415215,\n",
    "    'Oporto' : 287591,\n",
    "    'Geneva' : 201818, \n",
    "    'Krakow' : 779115, \n",
    "    'Oslo' : 697549, \n",
    "    'Helsinki' : 656229,\n",
    "    'Bratislava' : 437726,\n",
    "    'Luxembourg' : 626108,\n",
    "    'Ljubljana' : 295504\n",
    "}\n",
    "\n",
    "data['Population'] = data['City'].map(population)"
   ]
  },
  {
   "cell_type": "code",
   "execution_count": 84,
   "metadata": {
    "execution": {
     "iopub.execute_input": "2021-05-25T21:02:33.701846Z",
     "iopub.status.busy": "2021-05-25T21:02:33.701377Z",
     "iopub.status.idle": "2021-05-25T21:02:33.718093Z",
     "shell.execute_reply": "2021-05-25T21:02:33.717086Z",
     "shell.execute_reply.started": "2021-05-25T21:02:33.701659Z"
    }
   },
   "outputs": [],
   "source": [
    "# Используем сторонний справочник количества ресторанов в городах\n",
    "res_count = {\n",
    "    'Paris': 17593,\n",
    "    'Stockholm': 3131,\n",
    "    'London': 22366,\n",
    "    'Berlin': 8110, \n",
    "    'Munich': 3367,\n",
    "    'Oporto': 2060, \n",
    "    'Milan': 7940,\n",
    "    'Bratislava': 1331,\n",
    "    'Vienna': 4387, \n",
    "    'Rome': 12086,\n",
    "    'Barcelona': 10086,\n",
    "    'Madrid': 11562,\n",
    "    'Dublin': 2706,\n",
    "    'Brussels': 3703,\n",
    "    'Zurich': 1901,\n",
    "    'Warsaw': 3210,\n",
    "    'Budapest': 3445, \n",
    "    'Copenhagen': 2637,\n",
    "    'Amsterdam': 4189,\n",
    "    'Lyon': 2833,\n",
    "    'Hamburg': 3501, \n",
    "    'Lisbon': 4985,\n",
    "    'Prague': 5850,\n",
    "    'Oslo': 1441, \n",
    "    'Helsinki': 1661,\n",
    "    'Edinburgh': 2248,\n",
    "    'Geneva': 1753,\n",
    "    'Ljubljana': 647,\n",
    "    'Athens': 2814,\n",
    "    'Luxembourg': 759,\n",
    "    'Krakow': 1832       \n",
    "}\n",
    "# Создадим новый признак 'Restaurants Count', отражающий общее количество ресторанов в городе, в котором расположен данный ресторан\n",
    "data['Restaurants Count'] = data['City'].map(res_count)"
   ]
  },
  {
   "cell_type": "code",
   "execution_count": 85,
   "metadata": {
    "execution": {
     "iopub.execute_input": "2021-05-25T21:02:33.720225Z",
     "iopub.status.busy": "2021-05-25T21:02:33.719720Z",
     "iopub.status.idle": "2021-05-25T21:02:33.742271Z",
     "shell.execute_reply": "2021-05-25T21:02:33.741579Z",
     "shell.execute_reply.started": "2021-05-25T21:02:33.720170Z"
    }
   },
   "outputs": [],
   "source": [
    "# Добавим признак - индекс покупательской способности согласно рейтингу Numbeo (2018)\n",
    "\n",
    "purchasing_power_index = {\n",
    "    'London' : 24,\n",
    "    'Paris' : 22,\n",
    "    'Madrid' : 23,\n",
    "    'Barcelona' : 30,\n",
    "    'Berlin' : 8,\n",
    "    'Milan' : 40,\n",
    "    'Rome' : 37,\n",
    "    'Prague' : 31,\n",
    "    'Lisbon' : 48,\n",
    "    'Vienna' : 21,\n",
    "    'Amsterdam' : 19,\n",
    "    'Brussels' : 15,\n",
    "    'Hamburg' : 7,\n",
    "    'Munich' : 6,\n",
    "    'Lyon' : 70,\n",
    "    'Stockholm' : 13,\n",
    "    'Budapest' : 51,\n",
    "    'Warsaw' : 29,\n",
    "    'Dublin' : 27,\n",
    "    'Copenhagen' : 10,\n",
    "    'Athens' : 53,\n",
    "    'Edinburgh' : 16, \n",
    "    'Zurich' : 2,\n",
    "    'Oporto' : 42,\n",
    "    'Geneva' : 3, \n",
    "    'Krakow' : 36, \n",
    "    'Oslo' : 17, \n",
    "    'Helsinki' : 9,\n",
    "    'Bratislava' : 39,\n",
    "    'Luxembourg' : 4,\n",
    "    'Ljubljana' : 32\n",
    "}\n",
    "\n",
    "data['purchasing_power'] = data['City'].map(purchasing_power_index)"
   ]
  },
  {
   "cell_type": "code",
   "execution_count": 86,
   "metadata": {
    "execution": {
     "iopub.execute_input": "2021-05-25T21:02:33.744012Z",
     "iopub.status.busy": "2021-05-25T21:02:33.743539Z",
     "iopub.status.idle": "2021-05-25T21:02:33.779836Z",
     "shell.execute_reply": "2021-05-25T21:02:33.779179Z",
     "shell.execute_reply.started": "2021-05-25T21:02:33.743959Z"
    }
   },
   "outputs": [],
   "source": [
    "# Добавим признак - является ли город столицей (1 - да, 0 - нет)\n",
    "\n",
    "capital = ['London', 'Paris', 'Madrid', 'Berlin', 'Rome', 'Prague',\n",
    "          'Lisbon', 'Vienna', 'Amsterdam', 'Brussels', 'Stockholm',\n",
    "          'Budapest', 'Warsaw', 'Dublin', 'Copenhagen', 'Athens',\n",
    "          'Edinburgh', 'Oslo', 'Helsinki', 'Bratislava',\n",
    "          'Luxembourg', 'Ljubljana']\n",
    "data['is_capital'] = data['City'].apply(lambda x: 1 if x in capital else 0)"
   ]
  },
  {
   "cell_type": "code",
   "execution_count": 87,
   "metadata": {
    "execution": {
     "iopub.execute_input": "2021-05-25T21:02:33.781546Z",
     "iopub.status.busy": "2021-05-25T21:02:33.781053Z",
     "iopub.status.idle": "2021-05-25T21:02:33.800709Z",
     "shell.execute_reply": "2021-05-25T21:02:33.799763Z",
     "shell.execute_reply.started": "2021-05-25T21:02:33.781492Z"
    }
   },
   "outputs": [],
   "source": [
    "# Добавим признак кол-ва ресторанов в городе\n",
    "\n",
    "number_of_rest_city = data.groupby('City')['Ranking'].count().to_dict()\n",
    "data['rest_city_count'] = data['City'].map(number_of_rest_city)"
   ]
  },
  {
   "cell_type": "code",
   "execution_count": 88,
   "metadata": {
    "execution": {
     "iopub.execute_input": "2021-05-25T21:02:33.802421Z",
     "iopub.status.busy": "2021-05-25T21:02:33.801986Z",
     "iopub.status.idle": "2021-05-25T21:02:33.858037Z",
     "shell.execute_reply": "2021-05-25T21:02:33.857288Z",
     "shell.execute_reply.started": "2021-05-25T21:02:33.802248Z"
    }
   },
   "outputs": [],
   "source": [
    "# Добавим признак относительного ранга ресторана по городу\n",
    "\n",
    "data['city_ranking'] = data['Ranking'] / data.rest_city_count"
   ]
  },
  {
   "cell_type": "code",
   "execution_count": 89,
   "metadata": {
    "execution": {
     "iopub.execute_input": "2021-05-25T21:02:33.859735Z",
     "iopub.status.busy": "2021-05-25T21:02:33.859430Z",
     "iopub.status.idle": "2021-05-25T21:02:33.867619Z",
     "shell.execute_reply": "2021-05-25T21:02:33.866587Z",
     "shell.execute_reply.started": "2021-05-25T21:02:33.859686Z"
    }
   },
   "outputs": [],
   "source": [
    "# Добавим числовой признак 'Population Per Restaurant' = 'Population' / 'Restaurants Count'\n",
    "data['Population Per Restaurant'] = data['Population'] / data['Restaurants Count']"
   ]
  },
  {
   "cell_type": "markdown",
   "metadata": {},
   "source": [
    "Смотрим далее"
   ]
  },
  {
   "cell_type": "code",
   "execution_count": 90,
   "metadata": {
    "execution": {
     "iopub.execute_input": "2021-05-25T21:02:33.869592Z",
     "iopub.status.busy": "2021-05-25T21:02:33.869059Z",
     "iopub.status.idle": "2021-05-25T21:02:38.087959Z",
     "shell.execute_reply": "2021-05-25T21:02:38.086980Z",
     "shell.execute_reply.started": "2021-05-25T21:02:33.869486Z"
    }
   },
   "outputs": [
    {
     "data": {
      "text/plain": [
       "<seaborn.axisgrid.JointGrid at 0x7f3efe94dc18>"
      ]
     },
     "execution_count": 90,
     "metadata": {},
     "output_type": "execute_result"
    },
    {
     "data": {
      "image/png": "[encoded data removed]",
      "text/plain": [
       "<Figure size 432x432 with 3 Axes>"
      ]
     },
     "metadata": {
      "needs_background": "light"
     },
     "output_type": "display_data"
    }
   ],
   "source": [
    "sns.jointplot(x = 'Ranking', y = 'Number of Reviews', data = data, kind = 'reg')"
   ]
  },
  {
   "cell_type": "code",
   "execution_count": 91,
   "metadata": {
    "execution": {
     "iopub.execute_input": "2021-05-25T21:02:38.090239Z",
     "iopub.status.busy": "2021-05-25T21:02:38.089714Z",
     "iopub.status.idle": "2021-05-25T21:02:38.803519Z",
     "shell.execute_reply": "2021-05-25T21:02:38.802461Z",
     "shell.execute_reply.started": "2021-05-25T21:02:38.090184Z"
    }
   },
   "outputs": [
    {
     "data": {
      "text/plain": [
       "<matplotlib.axes._subplots.AxesSubplot at 0x7f3efe94cef0>"
      ]
     },
     "execution_count": 91,
     "metadata": {},
     "output_type": "execute_result"
    },
    {
     "data": {
      "image/png": "[encoded data removed]",
      "text/plain": [
       "<Figure size 1080x720 with 2 Axes>"
      ]
     },
     "metadata": {
      "needs_background": "light"
     },
     "output_type": "display_data"
    }
   ],
   "source": [
    "plt.rcParams['figure.figsize'] = (15,10)\n",
    "sns.heatmap(data.drop(['sample'], axis=1).corr(),)"
   ]
  },
  {
   "cell_type": "markdown",
   "metadata": {
    "execution": {
     "iopub.execute_input": "2021-05-25T19:28:11.092266Z",
     "iopub.status.busy": "2021-05-25T19:28:11.091775Z",
     "iopub.status.idle": "2021-05-25T19:28:11.099027Z",
     "shell.execute_reply": "2021-05-25T19:28:11.097694Z",
     "shell.execute_reply.started": "2021-05-25T19:28:11.092038Z"
    }
   },
   "source": [
    "Добавим признаки:\n",
    "\n",
    "ранг ресторана на основании кол-ва отзывов\n",
    "соотношение кол-ва отзывов и населения города"
   ]
  },
  {
   "cell_type": "code",
   "execution_count": 92,
   "metadata": {
    "execution": {
     "iopub.execute_input": "2021-05-25T21:02:38.806154Z",
     "iopub.status.busy": "2021-05-25T21:02:38.805385Z",
     "iopub.status.idle": "2021-05-25T21:02:38.815240Z",
     "shell.execute_reply": "2021-05-25T21:02:38.813834Z",
     "shell.execute_reply.started": "2021-05-25T21:02:38.805797Z"
    }
   },
   "outputs": [],
   "source": [
    "# ранг ресторана на основании кол-ва отзывов\n",
    "\n",
    "data['ranking_rev_count'] = data['Ranking'] * data['Number of Reviews']"
   ]
  },
  {
   "cell_type": "code",
   "execution_count": 93,
   "metadata": {
    "execution": {
     "iopub.execute_input": "2021-05-25T21:02:38.817646Z",
     "iopub.status.busy": "2021-05-25T21:02:38.817055Z",
     "iopub.status.idle": "2021-05-25T21:02:38.833747Z",
     "shell.execute_reply": "2021-05-25T21:02:38.832517Z",
     "shell.execute_reply.started": "2021-05-25T21:02:38.817438Z"
    }
   },
   "outputs": [],
   "source": [
    "# соотношение кол-ва отзывов и населения города\n",
    "\n",
    "data['reviews_per_city_pop'] = data['Number of Reviews'] / data['Population']"
   ]
  },
  {
   "cell_type": "code",
   "execution_count": 94,
   "metadata": {
    "execution": {
     "iopub.execute_input": "2021-05-25T21:02:38.836717Z",
     "iopub.status.busy": "2021-05-25T21:02:38.836125Z",
     "iopub.status.idle": "2021-05-25T21:02:38.858927Z",
     "shell.execute_reply": "2021-05-25T21:02:38.858018Z",
     "shell.execute_reply.started": "2021-05-25T21:02:38.836612Z"
    }
   },
   "outputs": [],
   "source": [
    "# Признак среднее кол-во отзывов в городе\n",
    "\n",
    "mean_rev_per_city = data.groupby('City')['Number of Reviews'].mean()\n",
    "mean_rev_per_city = mean_rev_per_city.apply(lambda x: round(x, 2))\n",
    "data['mean_rev_per_city'] = data['City'].map(mean_rev_per_city)"
   ]
  },
  {
   "cell_type": "code",
   "execution_count": 95,
   "metadata": {
    "execution": {
     "iopub.execute_input": "2021-05-25T21:02:38.862737Z",
     "iopub.status.busy": "2021-05-25T21:02:38.862454Z",
     "iopub.status.idle": "2021-05-25T21:02:40.948041Z",
     "shell.execute_reply": "2021-05-25T21:02:40.947208Z",
     "shell.execute_reply.started": "2021-05-25T21:02:38.862692Z"
    }
   },
   "outputs": [
    {
     "data": {
      "image/png": "[encoded data removed]",
      "text/plain": [
       "<Figure size 1440x720 with 2 Axes>"
      ]
     },
     "metadata": {
      "needs_background": "light"
     },
     "output_type": "display_data"
    }
   ],
   "source": [
    "fig, ax = plt.subplots(1,1, figsize = (20,10))\n",
    "ax = sns.heatmap(data.corr(),annot = True, cmap = 'coolwarm')"
   ]
  },
  {
   "cell_type": "code",
   "execution_count": 96,
   "metadata": {
    "execution": {
     "iopub.execute_input": "2021-05-25T21:02:40.949768Z",
     "iopub.status.busy": "2021-05-25T21:02:40.949534Z",
     "iopub.status.idle": "2021-05-25T21:02:40.963072Z",
     "shell.execute_reply": "2021-05-25T21:02:40.962075Z",
     "shell.execute_reply.started": "2021-05-25T21:02:40.949728Z"
    }
   },
   "outputs": [],
   "source": [
    "# Добавим признак туристическая привлекательность.\n",
    "# Место города в рейтинге топ-100 городов посещения в 2018 году (так как датасет устаревший)\n",
    "# Источник - Euromonitor international\n",
    "\n",
    "# Так как не все города входят в топ-100, то города делим на группы:\n",
    "# 1 - место 1-25\n",
    "# 2 - место 26-50\n",
    "# 3 - место 51-75\n",
    "# 4 - место 76-100\n",
    "# 5 - место выше 100\n",
    "\n",
    "tourist_attract = {\n",
    "    'London' : 1,\n",
    "    'Paris' : 1,\n",
    "    'Madrid' : 2,\n",
    "    'Barcelona' : 2,\n",
    "    'Berlin' : 2,\n",
    "    'Milan' : 5,\n",
    "    'Rome' : 1,\n",
    "    'Prague' : 1,\n",
    "    'Lisbon' : 3,\n",
    "    'Vienna' : 2,\n",
    "    'Amsterdam' : 1,\n",
    "    'Brussels' : 3,\n",
    "    'Hamburg' : 5,\n",
    "    'Munich' : 3,\n",
    "    'Lyon' : 5,\n",
    "    'Stockholm' : 4,\n",
    "    'Budapest' : 3,\n",
    "    'Warsaw' : 3,\n",
    "    'Dublin' : 5,\n",
    "    'Copenhagen' : 3,\n",
    "    'Athens' : 2,\n",
    "    'Edinburgh' : 5, \n",
    "    'Zurich' : 5,\n",
    "    'Oporto' : 4,\n",
    "    'Geneva' : 5, \n",
    "    'Krakow' : 3, \n",
    "    'Oslo' : 5, \n",
    "    'Helsinki' : 5,\n",
    "    'Bratislava' : 5,\n",
    "    'Luxembourg' : 5,\n",
    "    'Ljubljana' : 5\n",
    "}\n",
    "\n",
    "data['tourist_attract'] = data['City'].map(tourist_attract)"
   ]
  },
  {
   "cell_type": "code",
   "execution_count": 97,
   "metadata": {
    "execution": {
     "iopub.execute_input": "2021-05-25T21:02:40.964586Z",
     "iopub.status.busy": "2021-05-25T21:02:40.964277Z",
     "iopub.status.idle": "2021-05-25T21:02:40.994128Z",
     "shell.execute_reply": "2021-05-25T21:02:40.993374Z",
     "shell.execute_reply.started": "2021-05-25T21:02:40.964537Z"
    }
   },
   "outputs": [],
   "source": [
    "# Максимальный ранг\n",
    "\n",
    "ranking_max_per_city = data.groupby('City')['Ranking'].max()\n",
    "data['rating_max_per_city'] = data['City'].map(ranking_max_per_city)"
   ]
  },
  {
   "cell_type": "code",
   "execution_count": 98,
   "metadata": {
    "execution": {
     "iopub.execute_input": "2021-05-25T21:02:40.995739Z",
     "iopub.status.busy": "2021-05-25T21:02:40.995477Z",
     "iopub.status.idle": "2021-05-25T21:02:41.039462Z",
     "shell.execute_reply": "2021-05-25T21:02:41.038493Z",
     "shell.execute_reply.started": "2021-05-25T21:02:40.995692Z"
    }
   },
   "outputs": [],
   "source": [
    "# Применим признаки\n",
    "data = pd.get_dummies(data, columns=['City'], dummy_na=True)"
   ]
  },
  {
   "cell_type": "markdown",
   "metadata": {},
   "source": [
    "## Data Preprocessing"
   ]
  },
  {
   "cell_type": "code",
   "execution_count": 99,
   "metadata": {
    "execution": {
     "iopub.execute_input": "2021-05-25T21:02:41.040976Z",
     "iopub.status.busy": "2021-05-25T21:02:41.040709Z",
     "iopub.status.idle": "2021-05-25T21:02:41.318163Z",
     "shell.execute_reply": "2021-05-25T21:02:41.317127Z",
     "shell.execute_reply.started": "2021-05-25T21:02:41.040926Z"
    }
   },
   "outputs": [
    {
     "name": "stdout",
     "output_type": "stream",
     "text": [
      "<class 'pandas.core.frame.DataFrame'>\n",
      "RangeIndex: 50000 entries, 0 to 49999\n",
      "Data columns (total 11 columns):\n",
      "Restaurant_id        50000 non-null object\n",
      "City                 50000 non-null object\n",
      "Cuisine Style        38410 non-null object\n",
      "Ranking              50000 non-null float64\n",
      "Price Range          32639 non-null object\n",
      "Number of Reviews    46800 non-null float64\n",
      "Reviews              49998 non-null object\n",
      "URL_TA               50000 non-null object\n",
      "ID_TA                50000 non-null object\n",
      "sample               50000 non-null int64\n",
      "Rating               50000 non-null float64\n",
      "dtypes: float64(3), int64(1), object(7)\n",
      "memory usage: 4.2+ MB\n"
     ]
    }
   ],
   "source": [
    "# на всякий случай, заново подгружаем данные\n",
    "df_train = pd.read_csv(DATA_DIR+'/main_task.csv')\n",
    "df_test = pd.read_csv(DATA_DIR+'/kaggle_task.csv')\n",
    "df_train['sample'] = 1 # помечаем где у нас трейн\n",
    "df_test['sample'] = 0 # помечаем где у нас тест\n",
    "df_test['Rating'] = 0 # в тесте у нас нет значения Rating, мы его должны предсказать, по этому пока просто заполняем нулями\n",
    "\n",
    "data = df_test.append(df_train, sort=False).reset_index(drop=True) # объединяем\n",
    "data.info()"
   ]
  },
  {
   "cell_type": "code",
   "execution_count": 100,
   "metadata": {
    "execution": {
     "iopub.execute_input": "2021-05-25T21:08:23.177748Z",
     "iopub.status.busy": "2021-05-25T21:08:23.177432Z",
     "iopub.status.idle": "2021-05-25T21:08:23.201518Z",
     "shell.execute_reply": "2021-05-25T21:08:23.200504Z",
     "shell.execute_reply.started": "2021-05-25T21:08:23.177700Z"
    }
   },
   "outputs": [],
   "source": [
    "def preproc_data(df_input):\n",
    "    '''includes several functions to pre-process the predictor data.'''\n",
    "    \n",
    "    df_output = df_input.copy()\n",
    "    \n",
    "    # ################### 1. Предобработка ############################################################## \n",
    "        # убираем не нужные для модели признаки\n",
    "    df_output.drop(['ID_TA',], axis = 1, inplace=True)\n",
    "    \n",
    "    \n",
    "    # добавляем признаки\n",
    "    # учитываем отсутствие отзывов (Number of Reviews)\n",
    "    df_output['Number_of_Reviews_is_NAN'] = pd.isna(df_output['Number of Reviews']).astype('uint8')\n",
    "    # учитываем отсутствие видов кухни (Cuisine Style)\n",
    "    df_output['Cuisine_Style_is_NAN'] = pd.isna(df_output['Cuisine Style']).astype('uint8')\n",
    "    # учитываем отсутствие ценовой категории (Price Range)\n",
    "    data['Price_Range_is_NaN'] = pd.isna(data['Price Range']).astype('float64') \n",
    "    \n",
    "    \n",
    "    \n",
    "    # ################### 2. NAN ############################################################## \n",
    "    \n",
    "    # Далее заполняем пропуски отзывов на ноль\n",
    "    df_output['Number of Reviews'].fillna(df_output.groupby('City')['Number of Reviews'].transform('median'), inplace=True)\n",
    "        # После замены пропусков на ноль добавляем столбец нормализации отзывов\n",
    "    #df_output['Number_of_Reviews_norm']=(df_output['Number of Reviews']-df_output['Number of Reviews'].min())/(df_output['Number of Reviews'].max()-df_output['Number of Reviews'].min())  \n",
    "    \n",
    "    \n",
    "    # считаем количество кухонь на ресторан\n",
    "    df_output['Cuisine_count'] = df_output['Cuisine Style'].dropna().apply(lambda name: len(name.split(',')))\n",
    "    # вместо отсутсвующих значений ставим медианное по городу\n",
    "    df_output.Cuisine_count.fillna(df_output.groupby('City').Cuisine_count.transform('median'), inplace=True)\n",
    "      \n",
    "    \n",
    "    # функция расчета дней между отзывами. Если нет отзывов потом заполним соедним количеством дней\n",
    "    def data_diff(row):\n",
    "        try:\n",
    "            return abs(row[1] - row[0]).days\n",
    "        except:\n",
    "            return None\n",
    "    # Функция вычленяем первую дату отзыва. \n",
    "    # По некторым ресторанам только один отзыв\n",
    "    def data_convert(string):\n",
    "        try:\n",
    "            return pd.to_datetime(string.split(',')[-2].strip(r\" '][\"))\n",
    "        except:\n",
    "            return pd.to_datetime(string.split(',')[-1].strip(r\" '][\"))\n",
    "    # Создаем признак количества дней между отзывами \n",
    "    df_output['Review_date_last'] = df_output['Reviews'].apply(lambda name: pd.to_datetime(str(name).split(\",\")[-1].strip(r\" '][\")))\n",
    "    df_output['Review_date_first'] = df_output['Reviews'].apply(lambda name: data_convert(str(name)))\n",
    "    df_output['Days'] = df_output[['Review_date_last','Review_date_first']].apply(lambda row: data_diff(row), axis=1)\n",
    "    # Заполняем пропуски\n",
    "    df_output['Days'] = df_output['Days'].fillna(df_output['Days'].mean())\n",
    "    # Создаем признак количества дней c последнего отзыва до сегодняшнего дня\n",
    "    df_output['Days_to_today'] = df_output['Review_date_last'].apply(lambda days: (pd.to_datetime('today') - days).days)\n",
    "    df_output['Days_to_today'].fillna(df_output.groupby('City')['Days_to_today'].transform('median'), inplace=True)\n",
    "    \n",
    "    \n",
    "    # функция для подсчета положительных отзывов.\n",
    "    def good_response(row):\n",
    "        words_count = 0\n",
    "        good_words_list = ['good', 'wonderful', 'great', 'best', 'excellent', 'perfect', 'awesome', 'nice', 'fantastic',\n",
    "                           'delicious', 'tasty', 'amazing', 'fine', 'wow', 'favorite', 'fabulous', 'lovely', 'cosy',\n",
    "                           'decent', 'beautiful', 'surpris']\n",
    "    # добавляем признакт с посчетом количества положительных слов\n",
    "    df_output['Good_words_count'] = df_output.Reviews.apply(lambda row: good_response(str(row).split('], [')[0]))\n",
    "    \n",
    "    # добавляем признак столица город или нет. делаем это до get_dummies городов City\n",
    "    all_cities = df_output.City.value_counts()  \n",
    "    capitals = ['London', 'Paris', 'Madrid', 'Berlin', 'Rome', 'Prague', 'Lisbon', 'Amsterdam',\n",
    "                'Brussels', 'Stockholm', 'Budapest', 'Warsaw', 'Copenhagen', 'Athens', 'Zurich', \n",
    "                'Oslo', 'Helsinki', 'Bratislava', 'Luxembourg']\n",
    "    capitals_dict = dict([(x, int(x in capitals)) for x in all_cities.index])\n",
    "    df_output['is_capital'] = df_output.City.apply(lambda x: capitals_dict[x])\n",
    "    \n",
    "    \n",
    "    #создаю словарь, где помечаю количество ресторанов с одинаковыми id\n",
    "    count_chain_restaurants = dict(df_output.Restaurant_id.value_counts())\n",
    "\n",
    "    #создаю функцию, с помощью которой помечаю сетевые рестораны\n",
    "    def chain_restaurants(x):\n",
    "        if count_chain_restaurants[x] > 1:\n",
    "            return 1\n",
    "        else:\n",
    "            return 0\n",
    "    \n",
    "    df_output['chain restaurants'] = df_output['Restaurant_id'].apply(chain_restaurants)\n",
    "    \n",
    "    # создание признака\"Количество ресторанов в городе\"\n",
    "    # создаю словарь с количеством ресторанов для каждого города\n",
    "    restaurants_in_city = {}\n",
    "    for City in df_output['City'].unique():\n",
    "        restaurants_in_city.setdefault(City, len(df_output[df_output[\"City\"] == City]))\n",
    "    #создаю новый признак с помощью словаря\n",
    "    df_output['count_restaurants_in_city'] = df_output['City'].apply(lambda x: restaurants_in_city[x])\n",
    "    \n",
    "    \n",
    "    # ################### 3. Encoding ############################################################## \n",
    "    # для One-Hot Encoding в pandas есть готовая функция - get_dummies. Особенно радует параметр dummy_na\n",
    "    df_output = pd.get_dummies(df_output, columns=[ 'City',], dummy_na=True)\n",
    "    \n",
    "    # обрабатываем Price Range. \n",
    "    # заполним значения в переменной по словарю\n",
    "    dic_value_Price = {'$':1,'$$ - $$$':2,'$$$$':3}\n",
    "    df_output['Price_Range'] = df_output['Price Range'].map(lambda x: dic_value_Price.get(x,x))\n",
    "    # Большинство ресторанов со средней ценой - заполняем пропуски двойкой (2)\n",
    "    df_output['Price_Range'] = df_output['Price_Range'].fillna(2)\n",
    "    \n",
    "    \n",
    "    \n",
    "    # ################### 4. Feature Engineering ####################################################\n",
    "    # тут ваш код не генерацию новых фитчей\n",
    "    \n",
    "   \n",
    "    \n",
    "    # ################### 5. Clean #################################################### \n",
    "    # убираем признаки которые еще не успели обработать, \n",
    "    # модель на признаках с dtypes \"object\" обучаться не будет, просто выберим их и удалим\n",
    "    object_columns = [s for s in df_output.columns if df_output[s].dtypes == 'object' or df_output[s].dtypes == 'datetime64[ns]']\n",
    "    df_output.drop(object_columns, axis = 1, inplace=True)\n",
    "    \n",
    "    return df_output"
   ]
  },
  {
   "cell_type": "markdown",
   "metadata": {},
   "source": [
    "Запускаем и проверяем что получилось"
   ]
  },
  {
   "cell_type": "code",
   "execution_count": 101,
   "metadata": {
    "execution": {
     "iopub.execute_input": "2021-05-25T21:08:25.576007Z",
     "iopub.status.busy": "2021-05-25T21:08:25.575488Z",
     "iopub.status.idle": "2021-05-25T21:08:51.674251Z",
     "shell.execute_reply": "2021-05-25T21:08:51.672493Z",
     "shell.execute_reply.started": "2021-05-25T21:08:25.575947Z"
    }
   },
   "outputs": [
    {
     "data": {
      "text/html": [
       "<div>\n",
       "<style scoped>\n",
       "    .dataframe tbody tr th:only-of-type {\n",
       "        vertical-align: middle;\n",
       "    }\n",
       "\n",
       "    .dataframe tbody tr th {\n",
       "        vertical-align: top;\n",
       "    }\n",
       "\n",
       "    .dataframe thead th {\n",
       "        text-align: right;\n",
       "    }\n",
       "</style>\n",
       "<table border=\"1\" class=\"dataframe\">\n",
       "  <thead>\n",
       "    <tr style=\"text-align: right;\">\n",
       "      <th></th>\n",
       "      <th>Ranking</th>\n",
       "      <th>Number of Reviews</th>\n",
       "      <th>sample</th>\n",
       "      <th>Rating</th>\n",
       "      <th>Number_of_Reviews_is_NAN</th>\n",
       "      <th>Cuisine_Style_is_NAN</th>\n",
       "      <th>Cuisine_count</th>\n",
       "      <th>Days</th>\n",
       "      <th>Days_to_today</th>\n",
       "      <th>is_capital</th>\n",
       "      <th>...</th>\n",
       "      <th>City_Oslo</th>\n",
       "      <th>City_Paris</th>\n",
       "      <th>City_Prague</th>\n",
       "      <th>City_Rome</th>\n",
       "      <th>City_Stockholm</th>\n",
       "      <th>City_Vienna</th>\n",
       "      <th>City_Warsaw</th>\n",
       "      <th>City_Zurich</th>\n",
       "      <th>City_nan</th>\n",
       "      <th>Price_Range</th>\n",
       "    </tr>\n",
       "  </thead>\n",
       "  <tbody>\n",
       "    <tr>\n",
       "      <th>41053</th>\n",
       "      <td>2728.0</td>\n",
       "      <td>3.0</td>\n",
       "      <td>1</td>\n",
       "      <td>4.5</td>\n",
       "      <td>0</td>\n",
       "      <td>0</td>\n",
       "      <td>2.0</td>\n",
       "      <td>123.993124</td>\n",
       "      <td>1452.5</td>\n",
       "      <td>1</td>\n",
       "      <td>...</td>\n",
       "      <td>0</td>\n",
       "      <td>0</td>\n",
       "      <td>1</td>\n",
       "      <td>0</td>\n",
       "      <td>0</td>\n",
       "      <td>0</td>\n",
       "      <td>0</td>\n",
       "      <td>0</td>\n",
       "      <td>0</td>\n",
       "      <td>2.0</td>\n",
       "    </tr>\n",
       "    <tr>\n",
       "      <th>38330</th>\n",
       "      <td>442.0</td>\n",
       "      <td>55.0</td>\n",
       "      <td>1</td>\n",
       "      <td>4.5</td>\n",
       "      <td>0</td>\n",
       "      <td>0</td>\n",
       "      <td>2.0</td>\n",
       "      <td>309.000000</td>\n",
       "      <td>2516.0</td>\n",
       "      <td>0</td>\n",
       "      <td>...</td>\n",
       "      <td>0</td>\n",
       "      <td>0</td>\n",
       "      <td>0</td>\n",
       "      <td>0</td>\n",
       "      <td>0</td>\n",
       "      <td>0</td>\n",
       "      <td>0</td>\n",
       "      <td>0</td>\n",
       "      <td>0</td>\n",
       "      <td>2.0</td>\n",
       "    </tr>\n",
       "    <tr>\n",
       "      <th>3749</th>\n",
       "      <td>14791.0</td>\n",
       "      <td>38.0</td>\n",
       "      <td>0</td>\n",
       "      <td>0.0</td>\n",
       "      <td>1</td>\n",
       "      <td>1</td>\n",
       "      <td>3.0</td>\n",
       "      <td>0.000000</td>\n",
       "      <td>1249.0</td>\n",
       "      <td>1</td>\n",
       "      <td>...</td>\n",
       "      <td>0</td>\n",
       "      <td>0</td>\n",
       "      <td>0</td>\n",
       "      <td>0</td>\n",
       "      <td>0</td>\n",
       "      <td>0</td>\n",
       "      <td>0</td>\n",
       "      <td>0</td>\n",
       "      <td>0</td>\n",
       "      <td>2.0</td>\n",
       "    </tr>\n",
       "    <tr>\n",
       "      <th>25733</th>\n",
       "      <td>1241.0</td>\n",
       "      <td>10.0</td>\n",
       "      <td>1</td>\n",
       "      <td>4.5</td>\n",
       "      <td>0</td>\n",
       "      <td>1</td>\n",
       "      <td>3.0</td>\n",
       "      <td>0.000000</td>\n",
       "      <td>1941.0</td>\n",
       "      <td>0</td>\n",
       "      <td>...</td>\n",
       "      <td>0</td>\n",
       "      <td>0</td>\n",
       "      <td>0</td>\n",
       "      <td>0</td>\n",
       "      <td>0</td>\n",
       "      <td>0</td>\n",
       "      <td>0</td>\n",
       "      <td>0</td>\n",
       "      <td>0</td>\n",
       "      <td>2.0</td>\n",
       "    </tr>\n",
       "    <tr>\n",
       "      <th>8009</th>\n",
       "      <td>779.0</td>\n",
       "      <td>30.5</td>\n",
       "      <td>0</td>\n",
       "      <td>0.0</td>\n",
       "      <td>1</td>\n",
       "      <td>0</td>\n",
       "      <td>2.0</td>\n",
       "      <td>123.993124</td>\n",
       "      <td>1491.0</td>\n",
       "      <td>0</td>\n",
       "      <td>...</td>\n",
       "      <td>0</td>\n",
       "      <td>0</td>\n",
       "      <td>0</td>\n",
       "      <td>0</td>\n",
       "      <td>0</td>\n",
       "      <td>0</td>\n",
       "      <td>0</td>\n",
       "      <td>0</td>\n",
       "      <td>0</td>\n",
       "      <td>2.0</td>\n",
       "    </tr>\n",
       "    <tr>\n",
       "      <th>46106</th>\n",
       "      <td>2410.0</td>\n",
       "      <td>6.0</td>\n",
       "      <td>1</td>\n",
       "      <td>4.5</td>\n",
       "      <td>0</td>\n",
       "      <td>0</td>\n",
       "      <td>3.0</td>\n",
       "      <td>8.000000</td>\n",
       "      <td>2236.0</td>\n",
       "      <td>1</td>\n",
       "      <td>...</td>\n",
       "      <td>0</td>\n",
       "      <td>0</td>\n",
       "      <td>0</td>\n",
       "      <td>0</td>\n",
       "      <td>0</td>\n",
       "      <td>0</td>\n",
       "      <td>0</td>\n",
       "      <td>0</td>\n",
       "      <td>0</td>\n",
       "      <td>2.0</td>\n",
       "    </tr>\n",
       "    <tr>\n",
       "      <th>20805</th>\n",
       "      <td>481.0</td>\n",
       "      <td>40.0</td>\n",
       "      <td>1</td>\n",
       "      <td>4.5</td>\n",
       "      <td>0</td>\n",
       "      <td>0</td>\n",
       "      <td>5.0</td>\n",
       "      <td>64.000000</td>\n",
       "      <td>1421.0</td>\n",
       "      <td>1</td>\n",
       "      <td>...</td>\n",
       "      <td>0</td>\n",
       "      <td>0</td>\n",
       "      <td>0</td>\n",
       "      <td>0</td>\n",
       "      <td>0</td>\n",
       "      <td>0</td>\n",
       "      <td>0</td>\n",
       "      <td>1</td>\n",
       "      <td>0</td>\n",
       "      <td>2.0</td>\n",
       "    </tr>\n",
       "    <tr>\n",
       "      <th>18144</th>\n",
       "      <td>100.0</td>\n",
       "      <td>542.0</td>\n",
       "      <td>1</td>\n",
       "      <td>4.5</td>\n",
       "      <td>0</td>\n",
       "      <td>0</td>\n",
       "      <td>5.0</td>\n",
       "      <td>8.000000</td>\n",
       "      <td>1250.0</td>\n",
       "      <td>1</td>\n",
       "      <td>...</td>\n",
       "      <td>0</td>\n",
       "      <td>0</td>\n",
       "      <td>0</td>\n",
       "      <td>1</td>\n",
       "      <td>0</td>\n",
       "      <td>0</td>\n",
       "      <td>0</td>\n",
       "      <td>0</td>\n",
       "      <td>0</td>\n",
       "      <td>1.0</td>\n",
       "    </tr>\n",
       "    <tr>\n",
       "      <th>15394</th>\n",
       "      <td>873.0</td>\n",
       "      <td>63.0</td>\n",
       "      <td>1</td>\n",
       "      <td>4.5</td>\n",
       "      <td>0</td>\n",
       "      <td>0</td>\n",
       "      <td>3.0</td>\n",
       "      <td>249.000000</td>\n",
       "      <td>1499.0</td>\n",
       "      <td>1</td>\n",
       "      <td>...</td>\n",
       "      <td>0</td>\n",
       "      <td>0</td>\n",
       "      <td>0</td>\n",
       "      <td>0</td>\n",
       "      <td>0</td>\n",
       "      <td>0</td>\n",
       "      <td>0</td>\n",
       "      <td>0</td>\n",
       "      <td>0</td>\n",
       "      <td>2.0</td>\n",
       "    </tr>\n",
       "    <tr>\n",
       "      <th>24302</th>\n",
       "      <td>4977.0</td>\n",
       "      <td>5.0</td>\n",
       "      <td>1</td>\n",
       "      <td>4.0</td>\n",
       "      <td>0</td>\n",
       "      <td>0</td>\n",
       "      <td>1.0</td>\n",
       "      <td>0.000000</td>\n",
       "      <td>1854.0</td>\n",
       "      <td>0</td>\n",
       "      <td>...</td>\n",
       "      <td>0</td>\n",
       "      <td>0</td>\n",
       "      <td>0</td>\n",
       "      <td>0</td>\n",
       "      <td>0</td>\n",
       "      <td>0</td>\n",
       "      <td>0</td>\n",
       "      <td>0</td>\n",
       "      <td>0</td>\n",
       "      <td>2.0</td>\n",
       "    </tr>\n",
       "  </tbody>\n",
       "</table>\n",
       "<p>10 rows × 45 columns</p>\n",
       "</div>"
      ],
      "text/plain": [
       "       Ranking  Number of Reviews  sample  Rating  Number_of_Reviews_is_NAN  \\\n",
       "41053   2728.0                3.0       1     4.5                         0   \n",
       "38330    442.0               55.0       1     4.5                         0   \n",
       "3749   14791.0               38.0       0     0.0                         1   \n",
       "25733   1241.0               10.0       1     4.5                         0   \n",
       "8009     779.0               30.5       0     0.0                         1   \n",
       "46106   2410.0                6.0       1     4.5                         0   \n",
       "20805    481.0               40.0       1     4.5                         0   \n",
       "18144    100.0              542.0       1     4.5                         0   \n",
       "15394    873.0               63.0       1     4.5                         0   \n",
       "24302   4977.0                5.0       1     4.0                         0   \n",
       "\n",
       "       Cuisine_Style_is_NAN  Cuisine_count        Days  Days_to_today  \\\n",
       "41053                     0            2.0  123.993124         1452.5   \n",
       "38330                     0            2.0  309.000000         2516.0   \n",
       "3749                      1            3.0    0.000000         1249.0   \n",
       "25733                     1            3.0    0.000000         1941.0   \n",
       "8009                      0            2.0  123.993124         1491.0   \n",
       "46106                     0            3.0    8.000000         2236.0   \n",
       "20805                     0            5.0   64.000000         1421.0   \n",
       "18144                     0            5.0    8.000000         1250.0   \n",
       "15394                     0            3.0  249.000000         1499.0   \n",
       "24302                     0            1.0    0.000000         1854.0   \n",
       "\n",
       "       is_capital  ...  City_Oslo  City_Paris  City_Prague  City_Rome  \\\n",
       "41053           1  ...          0           0            1          0   \n",
       "38330           0  ...          0           0            0          0   \n",
       "3749            1  ...          0           0            0          0   \n",
       "25733           0  ...          0           0            0          0   \n",
       "8009            0  ...          0           0            0          0   \n",
       "46106           1  ...          0           0            0          0   \n",
       "20805           1  ...          0           0            0          0   \n",
       "18144           1  ...          0           0            0          1   \n",
       "15394           1  ...          0           0            0          0   \n",
       "24302           0  ...          0           0            0          0   \n",
       "\n",
       "       City_Stockholm  City_Vienna  City_Warsaw  City_Zurich  City_nan  \\\n",
       "41053               0            0            0            0         0   \n",
       "38330               0            0            0            0         0   \n",
       "3749                0            0            0            0         0   \n",
       "25733               0            0            0            0         0   \n",
       "8009                0            0            0            0         0   \n",
       "46106               0            0            0            0         0   \n",
       "20805               0            0            0            1         0   \n",
       "18144               0            0            0            0         0   \n",
       "15394               0            0            0            0         0   \n",
       "24302               0            0            0            0         0   \n",
       "\n",
       "       Price_Range  \n",
       "41053          2.0  \n",
       "38330          2.0  \n",
       "3749           2.0  \n",
       "25733          2.0  \n",
       "8009           2.0  \n",
       "46106          2.0  \n",
       "20805          2.0  \n",
       "18144          1.0  \n",
       "15394          2.0  \n",
       "24302          2.0  \n",
       "\n",
       "[10 rows x 45 columns]"
      ]
     },
     "execution_count": 101,
     "metadata": {},
     "output_type": "execute_result"
    }
   ],
   "source": [
    "df_preproc = preproc_data(data)\n",
    "df_preproc.sample(10)"
   ]
  },
  {
   "cell_type": "code",
   "execution_count": 102,
   "metadata": {
    "execution": {
     "iopub.execute_input": "2021-05-25T21:09:00.607153Z",
     "iopub.status.busy": "2021-05-25T21:09:00.606720Z",
     "iopub.status.idle": "2021-05-25T21:09:00.625075Z",
     "shell.execute_reply": "2021-05-25T21:09:00.623899Z",
     "shell.execute_reply.started": "2021-05-25T21:09:00.607097Z"
    }
   },
   "outputs": [
    {
     "name": "stdout",
     "output_type": "stream",
     "text": [
      "<class 'pandas.core.frame.DataFrame'>\n",
      "RangeIndex: 50000 entries, 0 to 49999\n",
      "Data columns (total 45 columns):\n",
      "Ranking                      50000 non-null float64\n",
      "Number of Reviews            50000 non-null float64\n",
      "sample                       50000 non-null int64\n",
      "Rating                       50000 non-null float64\n",
      "Number_of_Reviews_is_NAN     50000 non-null uint8\n",
      "Cuisine_Style_is_NAN         50000 non-null uint8\n",
      "Cuisine_count                50000 non-null float64\n",
      "Days                         50000 non-null float64\n",
      "Days_to_today                50000 non-null float64\n",
      "is_capital                   50000 non-null int64\n",
      "chain restaurants            50000 non-null int64\n",
      "count_restaurants_in_city    50000 non-null int64\n",
      "City_Amsterdam               50000 non-null uint8\n",
      "City_Athens                  50000 non-null uint8\n",
      "City_Barcelona               50000 non-null uint8\n",
      "City_Berlin                  50000 non-null uint8\n",
      "City_Bratislava              50000 non-null uint8\n",
      "City_Brussels                50000 non-null uint8\n",
      "City_Budapest                50000 non-null uint8\n",
      "City_Copenhagen              50000 non-null uint8\n",
      "City_Dublin                  50000 non-null uint8\n",
      "City_Edinburgh               50000 non-null uint8\n",
      "City_Geneva                  50000 non-null uint8\n",
      "City_Hamburg                 50000 non-null uint8\n",
      "City_Helsinki                50000 non-null uint8\n",
      "City_Krakow                  50000 non-null uint8\n",
      "City_Lisbon                  50000 non-null uint8\n",
      "City_Ljubljana               50000 non-null uint8\n",
      "City_London                  50000 non-null uint8\n",
      "City_Luxembourg              50000 non-null uint8\n",
      "City_Lyon                    50000 non-null uint8\n",
      "City_Madrid                  50000 non-null uint8\n",
      "City_Milan                   50000 non-null uint8\n",
      "City_Munich                  50000 non-null uint8\n",
      "City_Oporto                  50000 non-null uint8\n",
      "City_Oslo                    50000 non-null uint8\n",
      "City_Paris                   50000 non-null uint8\n",
      "City_Prague                  50000 non-null uint8\n",
      "City_Rome                    50000 non-null uint8\n",
      "City_Stockholm               50000 non-null uint8\n",
      "City_Vienna                  50000 non-null uint8\n",
      "City_Warsaw                  50000 non-null uint8\n",
      "City_Zurich                  50000 non-null uint8\n",
      "City_nan                     50000 non-null uint8\n",
      "Price_Range                  50000 non-null float64\n",
      "dtypes: float64(7), int64(4), uint8(34)\n",
      "memory usage: 5.8 MB\n"
     ]
    }
   ],
   "source": [
    "df_preproc.info()"
   ]
  },
  {
   "cell_type": "code",
   "execution_count": 103,
   "metadata": {
    "execution": {
     "iopub.execute_input": "2021-05-25T21:09:05.127587Z",
     "iopub.status.busy": "2021-05-25T21:09:05.127275Z",
     "iopub.status.idle": "2021-05-25T21:09:05.152389Z",
     "shell.execute_reply": "2021-05-25T21:09:05.151632Z",
     "shell.execute_reply.started": "2021-05-25T21:09:05.127541Z"
    }
   },
   "outputs": [],
   "source": [
    "# Теперь выделим тестовую часть\n",
    "train_data = df_preproc.query('sample == 1').drop(['sample'], axis=1)\n",
    "test_data = df_preproc.query('sample == 0').drop(['sample'], axis=1)\n",
    "\n",
    "y = train_data.Rating.values            # наш таргет\n",
    "X = train_data.drop(['Rating'], axis=1)"
   ]
  },
  {
   "cell_type": "markdown",
   "metadata": {},
   "source": [
    "**Перед тем как отправлять наши данные на обучение, разделим данные на еще один тест и трейн, для валидации. \n",
    "Это поможет нам проверить, как хорошо наша модель работает, до отправки submissiona на kaggle.**"
   ]
  },
  {
   "cell_type": "code",
   "execution_count": 104,
   "metadata": {
    "execution": {
     "iopub.execute_input": "2021-05-25T21:09:07.806922Z",
     "iopub.status.busy": "2021-05-25T21:09:07.806615Z",
     "iopub.status.idle": "2021-05-25T21:09:07.828104Z",
     "shell.execute_reply": "2021-05-25T21:09:07.826884Z",
     "shell.execute_reply.started": "2021-05-25T21:09:07.806876Z"
    }
   },
   "outputs": [],
   "source": [
    "# Воспользуемся специальной функцие train_test_split для разбивки тестовых данных\n",
    "# выделим 20% данных на валидацию (параметр test_size)\n",
    "X_train, X_test, y_train, y_test = train_test_split(X, y, test_size=0.2, random_state=RANDOM_SEED)"
   ]
  },
  {
   "cell_type": "code",
   "execution_count": 105,
   "metadata": {
    "execution": {
     "iopub.execute_input": "2021-05-25T21:09:11.673457Z",
     "iopub.status.busy": "2021-05-25T21:09:11.673153Z",
     "iopub.status.idle": "2021-05-25T21:09:11.680680Z",
     "shell.execute_reply": "2021-05-25T21:09:11.680003Z",
     "shell.execute_reply.started": "2021-05-25T21:09:11.673395Z"
    }
   },
   "outputs": [
    {
     "data": {
      "text/plain": [
       "((10000, 44), (40000, 44), (40000, 43), (32000, 43), (8000, 43))"
      ]
     },
     "execution_count": 105,
     "metadata": {},
     "output_type": "execute_result"
    }
   ],
   "source": [
    "# проверяем\n",
    "test_data.shape, train_data.shape, X.shape, X_train.shape, X_test.shape"
   ]
  },
  {
   "cell_type": "markdown",
   "metadata": {},
   "source": [
    "# Model \n",
    "Сам ML"
   ]
  },
  {
   "cell_type": "code",
   "execution_count": 106,
   "metadata": {
    "execution": {
     "iopub.execute_input": "2021-05-25T21:09:16.812356Z",
     "iopub.status.busy": "2021-05-25T21:09:16.811567Z",
     "iopub.status.idle": "2021-05-25T21:09:17.019796Z",
     "shell.execute_reply": "2021-05-25T21:09:17.018890Z",
     "shell.execute_reply.started": "2021-05-25T21:09:16.812289Z"
    }
   },
   "outputs": [],
   "source": [
    "# Импортируем необходимые библиотеки:\n",
    "from sklearn.ensemble import RandomForestRegressor # инструмент для создания и обучения модели\n",
    "from sklearn import metrics # инструменты для оценки точности модели"
   ]
  },
  {
   "cell_type": "code",
   "execution_count": 107,
   "metadata": {
    "execution": {
     "iopub.execute_input": "2021-05-25T21:09:18.920373Z",
     "iopub.status.busy": "2021-05-25T21:09:18.919909Z",
     "iopub.status.idle": "2021-05-25T21:09:18.924782Z",
     "shell.execute_reply": "2021-05-25T21:09:18.924051Z",
     "shell.execute_reply.started": "2021-05-25T21:09:18.920294Z"
    }
   },
   "outputs": [],
   "source": [
    "# Создаём модель (НАСТРОЙКИ НЕ ТРОГАЕМ)\n",
    "model = RandomForestRegressor(n_estimators=100, verbose=1, n_jobs=-1, random_state=RANDOM_SEED)"
   ]
  },
  {
   "cell_type": "code",
   "execution_count": 108,
   "metadata": {
    "execution": {
     "iopub.execute_input": "2021-05-25T21:09:21.476307Z",
     "iopub.status.busy": "2021-05-25T21:09:21.476021Z",
     "iopub.status.idle": "2021-05-25T21:09:27.355439Z",
     "shell.execute_reply": "2021-05-25T21:09:27.353491Z",
     "shell.execute_reply.started": "2021-05-25T21:09:21.476264Z"
    }
   },
   "outputs": [
    {
     "name": "stderr",
     "output_type": "stream",
     "text": [
      "[Parallel(n_jobs=-1)]: Using backend ThreadingBackend with 4 concurrent workers.\n",
      "[Parallel(n_jobs=-1)]: Done  42 tasks      | elapsed:    2.5s\n",
      "[Parallel(n_jobs=-1)]: Done 100 out of 100 | elapsed:    5.6s finished\n",
      "[Parallel(n_jobs=4)]: Using backend ThreadingBackend with 4 concurrent workers.\n",
      "[Parallel(n_jobs=4)]: Done  42 tasks      | elapsed:    0.0s\n",
      "[Parallel(n_jobs=4)]: Done 100 out of 100 | elapsed:    0.1s finished\n"
     ]
    }
   ],
   "source": [
    "# Обучаем модель на тестовом наборе данных\n",
    "model.fit(X_train, y_train)\n",
    "\n",
    "# Используем обученную модель для предсказания рейтинга ресторанов в тестовой выборке.\n",
    "# Предсказанные значения записываем в переменную y_pred\n",
    "y_pred = model.predict(X_test)"
   ]
  },
  {
   "cell_type": "code",
   "execution_count": 109,
   "metadata": {
    "execution": {
     "iopub.execute_input": "2021-05-25T21:09:28.443151Z",
     "iopub.status.busy": "2021-05-25T21:09:28.442850Z",
     "iopub.status.idle": "2021-05-25T21:09:28.448718Z",
     "shell.execute_reply": "2021-05-25T21:09:28.447710Z",
     "shell.execute_reply.started": "2021-05-25T21:09:28.443106Z"
    }
   },
   "outputs": [
    {
     "name": "stdout",
     "output_type": "stream",
     "text": [
      "MAE: 0.20517062499999997\n"
     ]
    }
   ],
   "source": [
    "# Сравниваем предсказанные значения (y_pred) с реальными (y_test), и смотрим насколько они в среднем отличаются\n",
    "# Метрика называется Mean Absolute Error (MAE) и показывает среднее отклонение предсказанных значений от фактических.\n",
    "print('MAE:', metrics.mean_absolute_error(y_test, y_pred))"
   ]
  },
  {
   "cell_type": "code",
   "execution_count": 110,
   "metadata": {
    "execution": {
     "iopub.execute_input": "2021-05-25T21:09:40.007600Z",
     "iopub.status.busy": "2021-05-25T21:09:40.007261Z",
     "iopub.status.idle": "2021-05-25T21:09:40.442881Z",
     "shell.execute_reply": "2021-05-25T21:09:40.441287Z",
     "shell.execute_reply.started": "2021-05-25T21:09:40.007529Z"
    }
   },
   "outputs": [
    {
     "data": {
      "text/plain": [
       "<matplotlib.axes._subplots.AxesSubplot at 0x7f3f09235630>"
      ]
     },
     "execution_count": 110,
     "metadata": {},
     "output_type": "execute_result"
    },
    {
     "data": {
      "image/png": "[encoded data removed]",
      "text/plain": [
       "<Figure size 720x720 with 1 Axes>"
      ]
     },
     "metadata": {
      "needs_background": "light"
     },
     "output_type": "display_data"
    }
   ],
   "source": [
    "# в RandomForestRegressor есть возможность вывести самые важные признаки для модели\n",
    "plt.rcParams['figure.figsize'] = (10,10)\n",
    "feat_importances = pd.Series(model.feature_importances_, index=X.columns)\n",
    "feat_importances.nlargest(15).plot(kind='barh')"
   ]
  },
  {
   "cell_type": "markdown",
   "metadata": {},
   "source": [
    "# Submission\n",
    "Если все устраевает - готовим Submission на кагл"
   ]
  },
  {
   "cell_type": "code",
   "execution_count": 111,
   "metadata": {
    "execution": {
     "iopub.execute_input": "2021-05-25T21:09:44.339711Z",
     "iopub.status.busy": "2021-05-25T21:09:44.339346Z",
     "iopub.status.idle": "2021-05-25T21:09:44.367160Z",
     "shell.execute_reply": "2021-05-25T21:09:44.366189Z",
     "shell.execute_reply.started": "2021-05-25T21:09:44.339660Z"
    }
   },
   "outputs": [
    {
     "data": {
      "text/html": [
       "<div>\n",
       "<style scoped>\n",
       "    .dataframe tbody tr th:only-of-type {\n",
       "        vertical-align: middle;\n",
       "    }\n",
       "\n",
       "    .dataframe tbody tr th {\n",
       "        vertical-align: top;\n",
       "    }\n",
       "\n",
       "    .dataframe thead th {\n",
       "        text-align: right;\n",
       "    }\n",
       "</style>\n",
       "<table border=\"1\" class=\"dataframe\">\n",
       "  <thead>\n",
       "    <tr style=\"text-align: right;\">\n",
       "      <th></th>\n",
       "      <th>Ranking</th>\n",
       "      <th>Number of Reviews</th>\n",
       "      <th>Rating</th>\n",
       "      <th>Number_of_Reviews_is_NAN</th>\n",
       "      <th>Cuisine_Style_is_NAN</th>\n",
       "      <th>Cuisine_count</th>\n",
       "      <th>Days</th>\n",
       "      <th>Days_to_today</th>\n",
       "      <th>is_capital</th>\n",
       "      <th>chain restaurants</th>\n",
       "      <th>...</th>\n",
       "      <th>City_Oslo</th>\n",
       "      <th>City_Paris</th>\n",
       "      <th>City_Prague</th>\n",
       "      <th>City_Rome</th>\n",
       "      <th>City_Stockholm</th>\n",
       "      <th>City_Vienna</th>\n",
       "      <th>City_Warsaw</th>\n",
       "      <th>City_Zurich</th>\n",
       "      <th>City_nan</th>\n",
       "      <th>Price_Range</th>\n",
       "    </tr>\n",
       "  </thead>\n",
       "  <tbody>\n",
       "    <tr>\n",
       "      <th>5980</th>\n",
       "      <td>6595.0</td>\n",
       "      <td>12.0</td>\n",
       "      <td>0.0</td>\n",
       "      <td>0</td>\n",
       "      <td>1</td>\n",
       "      <td>3.0</td>\n",
       "      <td>276.000000</td>\n",
       "      <td>1677.0</td>\n",
       "      <td>0</td>\n",
       "      <td>1</td>\n",
       "      <td>...</td>\n",
       "      <td>0</td>\n",
       "      <td>0</td>\n",
       "      <td>0</td>\n",
       "      <td>0</td>\n",
       "      <td>0</td>\n",
       "      <td>0</td>\n",
       "      <td>0</td>\n",
       "      <td>0</td>\n",
       "      <td>0</td>\n",
       "      <td>2.0</td>\n",
       "    </tr>\n",
       "    <tr>\n",
       "      <th>9568</th>\n",
       "      <td>729.0</td>\n",
       "      <td>3.0</td>\n",
       "      <td>0.0</td>\n",
       "      <td>0</td>\n",
       "      <td>1</td>\n",
       "      <td>4.0</td>\n",
       "      <td>123.993124</td>\n",
       "      <td>1375.0</td>\n",
       "      <td>0</td>\n",
       "      <td>1</td>\n",
       "      <td>...</td>\n",
       "      <td>0</td>\n",
       "      <td>0</td>\n",
       "      <td>0</td>\n",
       "      <td>0</td>\n",
       "      <td>0</td>\n",
       "      <td>0</td>\n",
       "      <td>0</td>\n",
       "      <td>0</td>\n",
       "      <td>0</td>\n",
       "      <td>2.0</td>\n",
       "    </tr>\n",
       "    <tr>\n",
       "      <th>601</th>\n",
       "      <td>5730.0</td>\n",
       "      <td>68.0</td>\n",
       "      <td>0.0</td>\n",
       "      <td>0</td>\n",
       "      <td>0</td>\n",
       "      <td>2.0</td>\n",
       "      <td>38.000000</td>\n",
       "      <td>1371.0</td>\n",
       "      <td>1</td>\n",
       "      <td>1</td>\n",
       "      <td>...</td>\n",
       "      <td>0</td>\n",
       "      <td>1</td>\n",
       "      <td>0</td>\n",
       "      <td>0</td>\n",
       "      <td>0</td>\n",
       "      <td>0</td>\n",
       "      <td>0</td>\n",
       "      <td>0</td>\n",
       "      <td>0</td>\n",
       "      <td>2.0</td>\n",
       "    </tr>\n",
       "    <tr>\n",
       "      <th>5071</th>\n",
       "      <td>1085.0</td>\n",
       "      <td>4.0</td>\n",
       "      <td>0.0</td>\n",
       "      <td>0</td>\n",
       "      <td>0</td>\n",
       "      <td>1.0</td>\n",
       "      <td>123.993124</td>\n",
       "      <td>1579.0</td>\n",
       "      <td>0</td>\n",
       "      <td>1</td>\n",
       "      <td>...</td>\n",
       "      <td>0</td>\n",
       "      <td>0</td>\n",
       "      <td>0</td>\n",
       "      <td>0</td>\n",
       "      <td>0</td>\n",
       "      <td>0</td>\n",
       "      <td>0</td>\n",
       "      <td>0</td>\n",
       "      <td>0</td>\n",
       "      <td>2.0</td>\n",
       "    </tr>\n",
       "    <tr>\n",
       "      <th>5940</th>\n",
       "      <td>2193.0</td>\n",
       "      <td>2.0</td>\n",
       "      <td>0.0</td>\n",
       "      <td>0</td>\n",
       "      <td>1</td>\n",
       "      <td>3.0</td>\n",
       "      <td>123.993124</td>\n",
       "      <td>1471.0</td>\n",
       "      <td>0</td>\n",
       "      <td>1</td>\n",
       "      <td>...</td>\n",
       "      <td>0</td>\n",
       "      <td>0</td>\n",
       "      <td>0</td>\n",
       "      <td>0</td>\n",
       "      <td>0</td>\n",
       "      <td>1</td>\n",
       "      <td>0</td>\n",
       "      <td>0</td>\n",
       "      <td>0</td>\n",
       "      <td>2.0</td>\n",
       "    </tr>\n",
       "    <tr>\n",
       "      <th>940</th>\n",
       "      <td>1410.0</td>\n",
       "      <td>297.0</td>\n",
       "      <td>0.0</td>\n",
       "      <td>0</td>\n",
       "      <td>0</td>\n",
       "      <td>1.0</td>\n",
       "      <td>95.000000</td>\n",
       "      <td>1652.0</td>\n",
       "      <td>0</td>\n",
       "      <td>1</td>\n",
       "      <td>...</td>\n",
       "      <td>0</td>\n",
       "      <td>0</td>\n",
       "      <td>0</td>\n",
       "      <td>0</td>\n",
       "      <td>0</td>\n",
       "      <td>0</td>\n",
       "      <td>0</td>\n",
       "      <td>0</td>\n",
       "      <td>0</td>\n",
       "      <td>2.0</td>\n",
       "    </tr>\n",
       "    <tr>\n",
       "      <th>1411</th>\n",
       "      <td>6059.0</td>\n",
       "      <td>287.0</td>\n",
       "      <td>0.0</td>\n",
       "      <td>0</td>\n",
       "      <td>0</td>\n",
       "      <td>6.0</td>\n",
       "      <td>53.000000</td>\n",
       "      <td>1520.0</td>\n",
       "      <td>1</td>\n",
       "      <td>1</td>\n",
       "      <td>...</td>\n",
       "      <td>0</td>\n",
       "      <td>0</td>\n",
       "      <td>0</td>\n",
       "      <td>0</td>\n",
       "      <td>0</td>\n",
       "      <td>0</td>\n",
       "      <td>0</td>\n",
       "      <td>0</td>\n",
       "      <td>0</td>\n",
       "      <td>2.0</td>\n",
       "    </tr>\n",
       "    <tr>\n",
       "      <th>6160</th>\n",
       "      <td>2080.0</td>\n",
       "      <td>4.0</td>\n",
       "      <td>0.0</td>\n",
       "      <td>0</td>\n",
       "      <td>1</td>\n",
       "      <td>3.0</td>\n",
       "      <td>32.000000</td>\n",
       "      <td>1969.0</td>\n",
       "      <td>0</td>\n",
       "      <td>1</td>\n",
       "      <td>...</td>\n",
       "      <td>0</td>\n",
       "      <td>0</td>\n",
       "      <td>0</td>\n",
       "      <td>0</td>\n",
       "      <td>0</td>\n",
       "      <td>1</td>\n",
       "      <td>0</td>\n",
       "      <td>0</td>\n",
       "      <td>0</td>\n",
       "      <td>2.0</td>\n",
       "    </tr>\n",
       "    <tr>\n",
       "      <th>8817</th>\n",
       "      <td>2396.0</td>\n",
       "      <td>86.0</td>\n",
       "      <td>0.0</td>\n",
       "      <td>0</td>\n",
       "      <td>0</td>\n",
       "      <td>4.0</td>\n",
       "      <td>18.000000</td>\n",
       "      <td>1408.0</td>\n",
       "      <td>1</td>\n",
       "      <td>0</td>\n",
       "      <td>...</td>\n",
       "      <td>0</td>\n",
       "      <td>0</td>\n",
       "      <td>0</td>\n",
       "      <td>0</td>\n",
       "      <td>1</td>\n",
       "      <td>0</td>\n",
       "      <td>0</td>\n",
       "      <td>0</td>\n",
       "      <td>0</td>\n",
       "      <td>2.0</td>\n",
       "    </tr>\n",
       "    <tr>\n",
       "      <th>2577</th>\n",
       "      <td>2523.0</td>\n",
       "      <td>49.0</td>\n",
       "      <td>0.0</td>\n",
       "      <td>0</td>\n",
       "      <td>1</td>\n",
       "      <td>2.0</td>\n",
       "      <td>246.000000</td>\n",
       "      <td>1692.0</td>\n",
       "      <td>1</td>\n",
       "      <td>1</td>\n",
       "      <td>...</td>\n",
       "      <td>0</td>\n",
       "      <td>0</td>\n",
       "      <td>0</td>\n",
       "      <td>0</td>\n",
       "      <td>0</td>\n",
       "      <td>0</td>\n",
       "      <td>0</td>\n",
       "      <td>0</td>\n",
       "      <td>0</td>\n",
       "      <td>2.0</td>\n",
       "    </tr>\n",
       "  </tbody>\n",
       "</table>\n",
       "<p>10 rows × 44 columns</p>\n",
       "</div>"
      ],
      "text/plain": [
       "      Ranking  Number of Reviews  Rating  Number_of_Reviews_is_NAN  \\\n",
       "5980   6595.0               12.0     0.0                         0   \n",
       "9568    729.0                3.0     0.0                         0   \n",
       "601    5730.0               68.0     0.0                         0   \n",
       "5071   1085.0                4.0     0.0                         0   \n",
       "5940   2193.0                2.0     0.0                         0   \n",
       "940    1410.0              297.0     0.0                         0   \n",
       "1411   6059.0              287.0     0.0                         0   \n",
       "6160   2080.0                4.0     0.0                         0   \n",
       "8817   2396.0               86.0     0.0                         0   \n",
       "2577   2523.0               49.0     0.0                         0   \n",
       "\n",
       "      Cuisine_Style_is_NAN  Cuisine_count        Days  Days_to_today  \\\n",
       "5980                     1            3.0  276.000000         1677.0   \n",
       "9568                     1            4.0  123.993124         1375.0   \n",
       "601                      0            2.0   38.000000         1371.0   \n",
       "5071                     0            1.0  123.993124         1579.0   \n",
       "5940                     1            3.0  123.993124         1471.0   \n",
       "940                      0            1.0   95.000000         1652.0   \n",
       "1411                     0            6.0   53.000000         1520.0   \n",
       "6160                     1            3.0   32.000000         1969.0   \n",
       "8817                     0            4.0   18.000000         1408.0   \n",
       "2577                     1            2.0  246.000000         1692.0   \n",
       "\n",
       "      is_capital  chain restaurants  ...  City_Oslo  City_Paris  City_Prague  \\\n",
       "5980           0                  1  ...          0           0            0   \n",
       "9568           0                  1  ...          0           0            0   \n",
       "601            1                  1  ...          0           1            0   \n",
       "5071           0                  1  ...          0           0            0   \n",
       "5940           0                  1  ...          0           0            0   \n",
       "940            0                  1  ...          0           0            0   \n",
       "1411           1                  1  ...          0           0            0   \n",
       "6160           0                  1  ...          0           0            0   \n",
       "8817           1                  0  ...          0           0            0   \n",
       "2577           1                  1  ...          0           0            0   \n",
       "\n",
       "      City_Rome  City_Stockholm  City_Vienna  City_Warsaw  City_Zurich  \\\n",
       "5980          0               0            0            0            0   \n",
       "9568          0               0            0            0            0   \n",
       "601           0               0            0            0            0   \n",
       "5071          0               0            0            0            0   \n",
       "5940          0               0            1            0            0   \n",
       "940           0               0            0            0            0   \n",
       "1411          0               0            0            0            0   \n",
       "6160          0               0            1            0            0   \n",
       "8817          0               1            0            0            0   \n",
       "2577          0               0            0            0            0   \n",
       "\n",
       "      City_nan  Price_Range  \n",
       "5980         0          2.0  \n",
       "9568         0          2.0  \n",
       "601          0          2.0  \n",
       "5071         0          2.0  \n",
       "5940         0          2.0  \n",
       "940          0          2.0  \n",
       "1411         0          2.0  \n",
       "6160         0          2.0  \n",
       "8817         0          2.0  \n",
       "2577         0          2.0  \n",
       "\n",
       "[10 rows x 44 columns]"
      ]
     },
     "execution_count": 111,
     "metadata": {},
     "output_type": "execute_result"
    }
   ],
   "source": [
    "test_data.sample(10)"
   ]
  },
  {
   "cell_type": "code",
   "execution_count": 112,
   "metadata": {
    "execution": {
     "iopub.execute_input": "2021-05-25T21:09:45.813618Z",
     "iopub.status.busy": "2021-05-25T21:09:45.813257Z",
     "iopub.status.idle": "2021-05-25T21:09:45.819274Z",
     "shell.execute_reply": "2021-05-25T21:09:45.818539Z",
     "shell.execute_reply.started": "2021-05-25T21:09:45.813566Z"
    }
   },
   "outputs": [],
   "source": [
    "test_data = test_data.drop(['Rating'], axis=1)"
   ]
  },
  {
   "cell_type": "code",
   "execution_count": 113,
   "metadata": {
    "execution": {
     "iopub.execute_input": "2021-05-25T21:09:46.855272Z",
     "iopub.status.busy": "2021-05-25T21:09:46.854937Z",
     "iopub.status.idle": "2021-05-25T21:09:46.868507Z",
     "shell.execute_reply": "2021-05-25T21:09:46.867316Z",
     "shell.execute_reply.started": "2021-05-25T21:09:46.855212Z"
    }
   },
   "outputs": [
    {
     "data": {
      "text/html": [
       "<div>\n",
       "<style scoped>\n",
       "    .dataframe tbody tr th:only-of-type {\n",
       "        vertical-align: middle;\n",
       "    }\n",
       "\n",
       "    .dataframe tbody tr th {\n",
       "        vertical-align: top;\n",
       "    }\n",
       "\n",
       "    .dataframe thead th {\n",
       "        text-align: right;\n",
       "    }\n",
       "</style>\n",
       "<table border=\"1\" class=\"dataframe\">\n",
       "  <thead>\n",
       "    <tr style=\"text-align: right;\">\n",
       "      <th></th>\n",
       "      <th>Restaurant_id</th>\n",
       "      <th>Rating</th>\n",
       "    </tr>\n",
       "  </thead>\n",
       "  <tbody>\n",
       "    <tr>\n",
       "      <th>0</th>\n",
       "      <td>id_0</td>\n",
       "      <td>2.0</td>\n",
       "    </tr>\n",
       "    <tr>\n",
       "      <th>1</th>\n",
       "      <td>id_1</td>\n",
       "      <td>2.5</td>\n",
       "    </tr>\n",
       "    <tr>\n",
       "      <th>2</th>\n",
       "      <td>id_2</td>\n",
       "      <td>4.0</td>\n",
       "    </tr>\n",
       "    <tr>\n",
       "      <th>3</th>\n",
       "      <td>id_3</td>\n",
       "      <td>1.0</td>\n",
       "    </tr>\n",
       "    <tr>\n",
       "      <th>4</th>\n",
       "      <td>id_4</td>\n",
       "      <td>4.0</td>\n",
       "    </tr>\n",
       "    <tr>\n",
       "      <th>...</th>\n",
       "      <td>...</td>\n",
       "      <td>...</td>\n",
       "    </tr>\n",
       "    <tr>\n",
       "      <th>9995</th>\n",
       "      <td>id_9995</td>\n",
       "      <td>3.0</td>\n",
       "    </tr>\n",
       "    <tr>\n",
       "      <th>9996</th>\n",
       "      <td>id_9996</td>\n",
       "      <td>1.5</td>\n",
       "    </tr>\n",
       "    <tr>\n",
       "      <th>9997</th>\n",
       "      <td>id_9997</td>\n",
       "      <td>4.5</td>\n",
       "    </tr>\n",
       "    <tr>\n",
       "      <th>9998</th>\n",
       "      <td>id_9998</td>\n",
       "      <td>1.0</td>\n",
       "    </tr>\n",
       "    <tr>\n",
       "      <th>9999</th>\n",
       "      <td>id_9999</td>\n",
       "      <td>2.5</td>\n",
       "    </tr>\n",
       "  </tbody>\n",
       "</table>\n",
       "<p>10000 rows × 2 columns</p>\n",
       "</div>"
      ],
      "text/plain": [
       "     Restaurant_id  Rating\n",
       "0             id_0     2.0\n",
       "1             id_1     2.5\n",
       "2             id_2     4.0\n",
       "3             id_3     1.0\n",
       "4             id_4     4.0\n",
       "...            ...     ...\n",
       "9995       id_9995     3.0\n",
       "9996       id_9996     1.5\n",
       "9997       id_9997     4.5\n",
       "9998       id_9998     1.0\n",
       "9999       id_9999     2.5\n",
       "\n",
       "[10000 rows x 2 columns]"
      ]
     },
     "execution_count": 113,
     "metadata": {},
     "output_type": "execute_result"
    }
   ],
   "source": [
    "sample_submission"
   ]
  },
  {
   "cell_type": "code",
   "execution_count": 114,
   "metadata": {
    "execution": {
     "iopub.execute_input": "2021-05-25T21:09:47.894062Z",
     "iopub.status.busy": "2021-05-25T21:09:47.893764Z",
     "iopub.status.idle": "2021-05-25T21:09:48.004830Z",
     "shell.execute_reply": "2021-05-25T21:09:48.003975Z",
     "shell.execute_reply.started": "2021-05-25T21:09:47.894018Z"
    }
   },
   "outputs": [
    {
     "name": "stderr",
     "output_type": "stream",
     "text": [
      "[Parallel(n_jobs=4)]: Using backend ThreadingBackend with 4 concurrent workers.\n",
      "[Parallel(n_jobs=4)]: Done  42 tasks      | elapsed:    0.0s\n",
      "[Parallel(n_jobs=4)]: Done 100 out of 100 | elapsed:    0.1s finished\n"
     ]
    }
   ],
   "source": [
    "predict_submission = model.predict(test_data)"
   ]
  },
  {
   "cell_type": "code",
   "execution_count": 115,
   "metadata": {
    "execution": {
     "iopub.execute_input": "2021-05-25T21:09:52.463934Z",
     "iopub.status.busy": "2021-05-25T21:09:52.463622Z",
     "iopub.status.idle": "2021-05-25T21:09:52.469435Z",
     "shell.execute_reply": "2021-05-25T21:09:52.468582Z",
     "shell.execute_reply.started": "2021-05-25T21:09:52.463881Z"
    }
   },
   "outputs": [
    {
     "data": {
      "text/plain": [
       "array([3.045, 4.16 , 4.48 , ..., 3.05 , 4.495, 4.4  ])"
      ]
     },
     "execution_count": 115,
     "metadata": {},
     "output_type": "execute_result"
    }
   ],
   "source": [
    "predict_submission"
   ]
  },
  {
   "cell_type": "code",
   "execution_count": 116,
   "metadata": {
    "execution": {
     "iopub.execute_input": "2021-05-25T21:09:54.515247Z",
     "iopub.status.busy": "2021-05-25T21:09:54.514965Z",
     "iopub.status.idle": "2021-05-25T21:09:54.988227Z",
     "shell.execute_reply": "2021-05-25T21:09:54.987252Z",
     "shell.execute_reply.started": "2021-05-25T21:09:54.515204Z"
    }
   },
   "outputs": [
    {
     "data": {
      "text/html": [
       "<div>\n",
       "<style scoped>\n",
       "    .dataframe tbody tr th:only-of-type {\n",
       "        vertical-align: middle;\n",
       "    }\n",
       "\n",
       "    .dataframe tbody tr th {\n",
       "        vertical-align: top;\n",
       "    }\n",
       "\n",
       "    .dataframe thead th {\n",
       "        text-align: right;\n",
       "    }\n",
       "</style>\n",
       "<table border=\"1\" class=\"dataframe\">\n",
       "  <thead>\n",
       "    <tr style=\"text-align: right;\">\n",
       "      <th></th>\n",
       "      <th>Restaurant_id</th>\n",
       "      <th>Rating</th>\n",
       "    </tr>\n",
       "  </thead>\n",
       "  <tbody>\n",
       "    <tr>\n",
       "      <th>0</th>\n",
       "      <td>id_0</td>\n",
       "      <td>3.045</td>\n",
       "    </tr>\n",
       "    <tr>\n",
       "      <th>1</th>\n",
       "      <td>id_1</td>\n",
       "      <td>4.160</td>\n",
       "    </tr>\n",
       "    <tr>\n",
       "      <th>2</th>\n",
       "      <td>id_2</td>\n",
       "      <td>4.480</td>\n",
       "    </tr>\n",
       "    <tr>\n",
       "      <th>3</th>\n",
       "      <td>id_3</td>\n",
       "      <td>4.310</td>\n",
       "    </tr>\n",
       "    <tr>\n",
       "      <th>4</th>\n",
       "      <td>id_4</td>\n",
       "      <td>4.435</td>\n",
       "    </tr>\n",
       "    <tr>\n",
       "      <th>5</th>\n",
       "      <td>id_5</td>\n",
       "      <td>4.430</td>\n",
       "    </tr>\n",
       "    <tr>\n",
       "      <th>6</th>\n",
       "      <td>id_6</td>\n",
       "      <td>1.835</td>\n",
       "    </tr>\n",
       "    <tr>\n",
       "      <th>7</th>\n",
       "      <td>id_7</td>\n",
       "      <td>3.020</td>\n",
       "    </tr>\n",
       "    <tr>\n",
       "      <th>8</th>\n",
       "      <td>id_8</td>\n",
       "      <td>3.870</td>\n",
       "    </tr>\n",
       "    <tr>\n",
       "      <th>9</th>\n",
       "      <td>id_9</td>\n",
       "      <td>4.705</td>\n",
       "    </tr>\n",
       "  </tbody>\n",
       "</table>\n",
       "</div>"
      ],
      "text/plain": [
       "  Restaurant_id  Rating\n",
       "0          id_0   3.045\n",
       "1          id_1   4.160\n",
       "2          id_2   4.480\n",
       "3          id_3   4.310\n",
       "4          id_4   4.435\n",
       "5          id_5   4.430\n",
       "6          id_6   1.835\n",
       "7          id_7   3.020\n",
       "8          id_8   3.870\n",
       "9          id_9   4.705"
      ]
     },
     "execution_count": 116,
     "metadata": {},
     "output_type": "execute_result"
    }
   ],
   "source": [
    "sample_submission['Rating'] = predict_submission\n",
    "sample_submission.to_csv('submission.csv', index=False)\n",
    "sample_submission.head(10)"
   ]
  },
  {
   "cell_type": "markdown",
   "metadata": {},
   "source": [
    "# What's next?\n",
    "Или что делать, чтоб улучшить результат:\n",
    "* Обработать оставшиеся признаки в понятный для машины формат\n",
    "* Посмотреть, что еще можно извлечь из признаков\n",
    "* Сгенерировать новые признаки\n",
    "* Подгрузить дополнительные данные, например: по населению или благосостоянию городов\n",
    "* Подобрать состав признаков\n",
    "\n",
    "В общем, процесс творческий и весьма увлекательный! Удачи в соревновании!\n"
   ]
  },
  {
   "cell_type": "code",
   "execution_count": null,
   "metadata": {},
   "outputs": [],
   "source": []
  }
 ],
 "metadata": {
  "kernelspec": {
   "display_name": "Python 3",
   "language": "python",
   "name": "python3"
  },
  "language_info": {
   "codemirror_mode": {
    "name": "ipython",
    "version": 3
   },
   "file_extension": ".py",
   "mimetype": "text/x-python",
   "name": "python",
   "nbconvert_exporter": "python",
   "pygments_lexer": "ipython3",
   "version": "3.6.6"
  }
 },
 "nbformat": 4,
 "nbformat_minor": 4
}
